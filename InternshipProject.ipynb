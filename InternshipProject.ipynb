{
  "nbformat": 4,
  "nbformat_minor": 0,
  "metadata": {
    "colab": {
      "provenance": [],
      "mount_file_id": "1MiI_Q66CsKaIlqU_hWXmh7YIQvsj6M6t",
      "authorship_tag": "ABX9TyOBnQGUa9hA60+ksDI2+5Br",
      "include_colab_link": true
    },
    "kernelspec": {
      "name": "python3",
      "display_name": "Python 3"
    },
    "language_info": {
      "name": "python"
    }
  },
  "cells": [
    {
      "cell_type": "markdown",
      "metadata": {
        "id": "view-in-github",
        "colab_type": "text"
      },
      "source": [
        "<a href=\"https://colab.research.google.com/github/farhansyed13/internshipproject/blob/main/InternshipProject.ipynb\" target=\"_parent\"><img src=\"https://colab.research.google.com/assets/colab-badge.svg\" alt=\"Open In Colab\"/></a>"
      ]
    },
    {
      "cell_type": "markdown",
      "source": [
        "# **Movie Recommendation System**\n",
        "# **Recommender System**\n",
        "can be done in 2 ways\n",
        "\n",
        "1.   **collaborative filtering**\n",
        "2.   **content-based filtering**\n",
        "\n"
      ],
      "metadata": {
        "id": "URpC7WAEkb4r"
      }
    },
    {
      "cell_type": "markdown",
      "source": [
        "# **Import Library**\n"
      ],
      "metadata": {
        "id": "U1uc6wSsk7iB"
      }
    },
    {
      "cell_type": "code",
      "source": [
        "import pandas as pd\n"
      ],
      "metadata": {
        "id": "_ug5iB_MlDL1"
      },
      "execution_count": null,
      "outputs": []
    },
    {
      "cell_type": "code",
      "source": [
        "import numpy as np"
      ],
      "metadata": {
        "id": "cat5dfx5lH-T"
      },
      "execution_count": null,
      "outputs": []
    },
    {
      "cell_type": "markdown",
      "source": [
        "# **Import Dataset**"
      ],
      "metadata": {
        "id": "D68loQVSlMs8"
      }
    },
    {
      "cell_type": "code",
      "source": [
        "df =pd.read_csv(r'https://github.com/YBI-Foundation/Dataset/raw/main/Movies%20Recommendation.csv')"
      ],
      "metadata": {
        "id": "R9cOP2_JlRkI"
      },
      "execution_count": null,
      "outputs": []
    },
    {
      "cell_type": "code",
      "source": [
        "df.head()"
      ],
      "metadata": {
        "colab": {
          "base_uri": "https://localhost:8080/",
          "height": 716
        },
        "id": "3lWtIaKulXPB",
        "outputId": "20ecc2ae-60e7-4875-d8ca-fb4bad8ce6b1"
      },
      "execution_count": null,
      "outputs": [
        {
          "output_type": "execute_result",
          "data": {
            "text/plain": [
              "   Movie_ID      Movie_Title                       Movie_Genre Movie_Language  \\\n",
              "0         1       Four Rooms                      Crime Comedy             en   \n",
              "1         2        Star Wars  Adventure Action Science Fiction             en   \n",
              "2         3     Finding Nemo                  Animation Family             en   \n",
              "3         4     Forrest Gump              Comedy Drama Romance             en   \n",
              "4         5  American Beauty                             Drama             en   \n",
              "\n",
              "   Movie_Budget  Movie_Popularity Movie_Release_Date  Movie_Revenue  \\\n",
              "0       4000000         22.876230         09-12-1995        4300000   \n",
              "1      11000000        126.393695         25-05-1977      775398007   \n",
              "2      94000000         85.688789         30-05-2003      940335536   \n",
              "3      55000000        138.133331         06-07-1994      677945399   \n",
              "4      15000000         80.878605         15-09-1999      356296601   \n",
              "\n",
              "   Movie_Runtime  Movie_Vote  ...  \\\n",
              "0           98.0         6.5  ...   \n",
              "1          121.0         8.1  ...   \n",
              "2          100.0         7.6  ...   \n",
              "3          142.0         8.2  ...   \n",
              "4          122.0         7.9  ...   \n",
              "\n",
              "                                      Movie_Homepage  \\\n",
              "0                                                NaN   \n",
              "1  http://www.starwars.com/films/star-wars-episod...   \n",
              "2              http://movies.disney.com/finding-nemo   \n",
              "3                                                NaN   \n",
              "4                      http://www.dreamworks.com/ab/   \n",
              "\n",
              "                                      Movie_Keywords  \\\n",
              "0          hotel new year's eve witch bet hotel room   \n",
              "1        android galaxy hermit death star lightsaber   \n",
              "2  father son relationship harbor underwater fish...   \n",
              "3  vietnam veteran hippie mentally disabled runni...   \n",
              "4  male nudity female nudity adultery midlife cri...   \n",
              "\n",
              "                                      Movie_Overview  \\\n",
              "0  It's Ted the Bellhop's first night on the job....   \n",
              "1  Princess Leia is captured and held hostage by ...   \n",
              "2  Nemo, an adventurous young clownfish, is unexp...   \n",
              "3  A man with a low IQ has accomplished great thi...   \n",
              "4  Lester Burnham, a depressed suburban father in...   \n",
              "\n",
              "                              Movie_Production_House  \\\n",
              "0  [{\"name\": \"Miramax Films\", \"id\": 14}, {\"name\":...   \n",
              "1  [{\"name\": \"Lucasfilm\", \"id\": 1}, {\"name\": \"Twe...   \n",
              "2     [{\"name\": \"Pixar Animation Studios\", \"id\": 3}]   \n",
              "3          [{\"name\": \"Paramount Pictures\", \"id\": 4}]   \n",
              "4  [{\"name\": \"DreamWorks SKG\", \"id\": 27}, {\"name\"...   \n",
              "\n",
              "                            Movie_Production_Country  \\\n",
              "0  [{\"iso_3166_1\": \"US\", \"name\": \"United States o...   \n",
              "1  [{\"iso_3166_1\": \"US\", \"name\": \"United States o...   \n",
              "2  [{\"iso_3166_1\": \"US\", \"name\": \"United States o...   \n",
              "3  [{\"iso_3166_1\": \"US\", \"name\": \"United States o...   \n",
              "4  [{\"iso_3166_1\": \"US\", \"name\": \"United States o...   \n",
              "\n",
              "                      Movie_Spoken_Language  \\\n",
              "0  [{\"iso_639_1\": \"en\", \"name\": \"English\"}]   \n",
              "1  [{\"iso_639_1\": \"en\", \"name\": \"English\"}]   \n",
              "2  [{\"iso_639_1\": \"en\", \"name\": \"English\"}]   \n",
              "3  [{\"iso_639_1\": \"en\", \"name\": \"English\"}]   \n",
              "4  [{\"iso_639_1\": \"en\", \"name\": \"English\"}]   \n",
              "\n",
              "                                       Movie_Tagline  \\\n",
              "0  Twelve outrageous guests. Four scandalous requ...   \n",
              "1       A long time ago in a galaxy far, far away...   \n",
              "2  There are 3.7 trillion fish in the ocean, they...   \n",
              "3  The world will never be the same, once you've ...   \n",
              "4                                       Look closer.   \n",
              "\n",
              "                                          Movie_Cast  \\\n",
              "0  Tim Roth Antonio Banderas Jennifer Beals Madon...   \n",
              "1  Mark Hamill Harrison Ford Carrie Fisher Peter ...   \n",
              "2  Albert Brooks Ellen DeGeneres Alexander Gould ...   \n",
              "3  Tom Hanks Robin Wright Gary Sinise Mykelti Wil...   \n",
              "4  Kevin Spacey Annette Bening Thora Birch Wes Be...   \n",
              "\n",
              "                                          Movie_Crew   Movie_Director  \n",
              "0  [{'name': 'Allison Anders', 'gender': 1, 'depa...   Allison Anders  \n",
              "1  [{'name': 'George Lucas', 'gender': 2, 'depart...     George Lucas  \n",
              "2  [{'name': 'Andrew Stanton', 'gender': 2, 'depa...   Andrew Stanton  \n",
              "3  [{'name': 'Alan Silvestri', 'gender': 2, 'depa...  Robert Zemeckis  \n",
              "4  [{'name': 'Thomas Newman', 'gender': 2, 'depar...       Sam Mendes  \n",
              "\n",
              "[5 rows x 21 columns]"
            ],
            "text/html": [
              "\n",
              "  <div id=\"df-70b50abf-e932-4f0c-97bc-fd6d6cdbc930\">\n",
              "    <div class=\"colab-df-container\">\n",
              "      <div>\n",
              "<style scoped>\n",
              "    .dataframe tbody tr th:only-of-type {\n",
              "        vertical-align: middle;\n",
              "    }\n",
              "\n",
              "    .dataframe tbody tr th {\n",
              "        vertical-align: top;\n",
              "    }\n",
              "\n",
              "    .dataframe thead th {\n",
              "        text-align: right;\n",
              "    }\n",
              "</style>\n",
              "<table border=\"1\" class=\"dataframe\">\n",
              "  <thead>\n",
              "    <tr style=\"text-align: right;\">\n",
              "      <th></th>\n",
              "      <th>Movie_ID</th>\n",
              "      <th>Movie_Title</th>\n",
              "      <th>Movie_Genre</th>\n",
              "      <th>Movie_Language</th>\n",
              "      <th>Movie_Budget</th>\n",
              "      <th>Movie_Popularity</th>\n",
              "      <th>Movie_Release_Date</th>\n",
              "      <th>Movie_Revenue</th>\n",
              "      <th>Movie_Runtime</th>\n",
              "      <th>Movie_Vote</th>\n",
              "      <th>...</th>\n",
              "      <th>Movie_Homepage</th>\n",
              "      <th>Movie_Keywords</th>\n",
              "      <th>Movie_Overview</th>\n",
              "      <th>Movie_Production_House</th>\n",
              "      <th>Movie_Production_Country</th>\n",
              "      <th>Movie_Spoken_Language</th>\n",
              "      <th>Movie_Tagline</th>\n",
              "      <th>Movie_Cast</th>\n",
              "      <th>Movie_Crew</th>\n",
              "      <th>Movie_Director</th>\n",
              "    </tr>\n",
              "  </thead>\n",
              "  <tbody>\n",
              "    <tr>\n",
              "      <th>0</th>\n",
              "      <td>1</td>\n",
              "      <td>Four Rooms</td>\n",
              "      <td>Crime Comedy</td>\n",
              "      <td>en</td>\n",
              "      <td>4000000</td>\n",
              "      <td>22.876230</td>\n",
              "      <td>09-12-1995</td>\n",
              "      <td>4300000</td>\n",
              "      <td>98.0</td>\n",
              "      <td>6.5</td>\n",
              "      <td>...</td>\n",
              "      <td>NaN</td>\n",
              "      <td>hotel new year's eve witch bet hotel room</td>\n",
              "      <td>It's Ted the Bellhop's first night on the job....</td>\n",
              "      <td>[{\"name\": \"Miramax Films\", \"id\": 14}, {\"name\":...</td>\n",
              "      <td>[{\"iso_3166_1\": \"US\", \"name\": \"United States o...</td>\n",
              "      <td>[{\"iso_639_1\": \"en\", \"name\": \"English\"}]</td>\n",
              "      <td>Twelve outrageous guests. Four scandalous requ...</td>\n",
              "      <td>Tim Roth Antonio Banderas Jennifer Beals Madon...</td>\n",
              "      <td>[{'name': 'Allison Anders', 'gender': 1, 'depa...</td>\n",
              "      <td>Allison Anders</td>\n",
              "    </tr>\n",
              "    <tr>\n",
              "      <th>1</th>\n",
              "      <td>2</td>\n",
              "      <td>Star Wars</td>\n",
              "      <td>Adventure Action Science Fiction</td>\n",
              "      <td>en</td>\n",
              "      <td>11000000</td>\n",
              "      <td>126.393695</td>\n",
              "      <td>25-05-1977</td>\n",
              "      <td>775398007</td>\n",
              "      <td>121.0</td>\n",
              "      <td>8.1</td>\n",
              "      <td>...</td>\n",
              "      <td>http://www.starwars.com/films/star-wars-episod...</td>\n",
              "      <td>android galaxy hermit death star lightsaber</td>\n",
              "      <td>Princess Leia is captured and held hostage by ...</td>\n",
              "      <td>[{\"name\": \"Lucasfilm\", \"id\": 1}, {\"name\": \"Twe...</td>\n",
              "      <td>[{\"iso_3166_1\": \"US\", \"name\": \"United States o...</td>\n",
              "      <td>[{\"iso_639_1\": \"en\", \"name\": \"English\"}]</td>\n",
              "      <td>A long time ago in a galaxy far, far away...</td>\n",
              "      <td>Mark Hamill Harrison Ford Carrie Fisher Peter ...</td>\n",
              "      <td>[{'name': 'George Lucas', 'gender': 2, 'depart...</td>\n",
              "      <td>George Lucas</td>\n",
              "    </tr>\n",
              "    <tr>\n",
              "      <th>2</th>\n",
              "      <td>3</td>\n",
              "      <td>Finding Nemo</td>\n",
              "      <td>Animation Family</td>\n",
              "      <td>en</td>\n",
              "      <td>94000000</td>\n",
              "      <td>85.688789</td>\n",
              "      <td>30-05-2003</td>\n",
              "      <td>940335536</td>\n",
              "      <td>100.0</td>\n",
              "      <td>7.6</td>\n",
              "      <td>...</td>\n",
              "      <td>http://movies.disney.com/finding-nemo</td>\n",
              "      <td>father son relationship harbor underwater fish...</td>\n",
              "      <td>Nemo, an adventurous young clownfish, is unexp...</td>\n",
              "      <td>[{\"name\": \"Pixar Animation Studios\", \"id\": 3}]</td>\n",
              "      <td>[{\"iso_3166_1\": \"US\", \"name\": \"United States o...</td>\n",
              "      <td>[{\"iso_639_1\": \"en\", \"name\": \"English\"}]</td>\n",
              "      <td>There are 3.7 trillion fish in the ocean, they...</td>\n",
              "      <td>Albert Brooks Ellen DeGeneres Alexander Gould ...</td>\n",
              "      <td>[{'name': 'Andrew Stanton', 'gender': 2, 'depa...</td>\n",
              "      <td>Andrew Stanton</td>\n",
              "    </tr>\n",
              "    <tr>\n",
              "      <th>3</th>\n",
              "      <td>4</td>\n",
              "      <td>Forrest Gump</td>\n",
              "      <td>Comedy Drama Romance</td>\n",
              "      <td>en</td>\n",
              "      <td>55000000</td>\n",
              "      <td>138.133331</td>\n",
              "      <td>06-07-1994</td>\n",
              "      <td>677945399</td>\n",
              "      <td>142.0</td>\n",
              "      <td>8.2</td>\n",
              "      <td>...</td>\n",
              "      <td>NaN</td>\n",
              "      <td>vietnam veteran hippie mentally disabled runni...</td>\n",
              "      <td>A man with a low IQ has accomplished great thi...</td>\n",
              "      <td>[{\"name\": \"Paramount Pictures\", \"id\": 4}]</td>\n",
              "      <td>[{\"iso_3166_1\": \"US\", \"name\": \"United States o...</td>\n",
              "      <td>[{\"iso_639_1\": \"en\", \"name\": \"English\"}]</td>\n",
              "      <td>The world will never be the same, once you've ...</td>\n",
              "      <td>Tom Hanks Robin Wright Gary Sinise Mykelti Wil...</td>\n",
              "      <td>[{'name': 'Alan Silvestri', 'gender': 2, 'depa...</td>\n",
              "      <td>Robert Zemeckis</td>\n",
              "    </tr>\n",
              "    <tr>\n",
              "      <th>4</th>\n",
              "      <td>5</td>\n",
              "      <td>American Beauty</td>\n",
              "      <td>Drama</td>\n",
              "      <td>en</td>\n",
              "      <td>15000000</td>\n",
              "      <td>80.878605</td>\n",
              "      <td>15-09-1999</td>\n",
              "      <td>356296601</td>\n",
              "      <td>122.0</td>\n",
              "      <td>7.9</td>\n",
              "      <td>...</td>\n",
              "      <td>http://www.dreamworks.com/ab/</td>\n",
              "      <td>male nudity female nudity adultery midlife cri...</td>\n",
              "      <td>Lester Burnham, a depressed suburban father in...</td>\n",
              "      <td>[{\"name\": \"DreamWorks SKG\", \"id\": 27}, {\"name\"...</td>\n",
              "      <td>[{\"iso_3166_1\": \"US\", \"name\": \"United States o...</td>\n",
              "      <td>[{\"iso_639_1\": \"en\", \"name\": \"English\"}]</td>\n",
              "      <td>Look closer.</td>\n",
              "      <td>Kevin Spacey Annette Bening Thora Birch Wes Be...</td>\n",
              "      <td>[{'name': 'Thomas Newman', 'gender': 2, 'depar...</td>\n",
              "      <td>Sam Mendes</td>\n",
              "    </tr>\n",
              "  </tbody>\n",
              "</table>\n",
              "<p>5 rows × 21 columns</p>\n",
              "</div>\n",
              "      <button class=\"colab-df-convert\" onclick=\"convertToInteractive('df-70b50abf-e932-4f0c-97bc-fd6d6cdbc930')\"\n",
              "              title=\"Convert this dataframe to an interactive table.\"\n",
              "              style=\"display:none;\">\n",
              "        \n",
              "  <svg xmlns=\"http://www.w3.org/2000/svg\" height=\"24px\"viewBox=\"0 0 24 24\"\n",
              "       width=\"24px\">\n",
              "    <path d=\"M0 0h24v24H0V0z\" fill=\"none\"/>\n",
              "    <path d=\"M18.56 5.44l.94 2.06.94-2.06 2.06-.94-2.06-.94-.94-2.06-.94 2.06-2.06.94zm-11 1L8.5 8.5l.94-2.06 2.06-.94-2.06-.94L8.5 2.5l-.94 2.06-2.06.94zm10 10l.94 2.06.94-2.06 2.06-.94-2.06-.94-.94-2.06-.94 2.06-2.06.94z\"/><path d=\"M17.41 7.96l-1.37-1.37c-.4-.4-.92-.59-1.43-.59-.52 0-1.04.2-1.43.59L10.3 9.45l-7.72 7.72c-.78.78-.78 2.05 0 2.83L4 21.41c.39.39.9.59 1.41.59.51 0 1.02-.2 1.41-.59l7.78-7.78 2.81-2.81c.8-.78.8-2.07 0-2.86zM5.41 20L4 18.59l7.72-7.72 1.47 1.35L5.41 20z\"/>\n",
              "  </svg>\n",
              "      </button>\n",
              "      \n",
              "  <style>\n",
              "    .colab-df-container {\n",
              "      display:flex;\n",
              "      flex-wrap:wrap;\n",
              "      gap: 12px;\n",
              "    }\n",
              "\n",
              "    .colab-df-convert {\n",
              "      background-color: #E8F0FE;\n",
              "      border: none;\n",
              "      border-radius: 50%;\n",
              "      cursor: pointer;\n",
              "      display: none;\n",
              "      fill: #1967D2;\n",
              "      height: 32px;\n",
              "      padding: 0 0 0 0;\n",
              "      width: 32px;\n",
              "    }\n",
              "\n",
              "    .colab-df-convert:hover {\n",
              "      background-color: #E2EBFA;\n",
              "      box-shadow: 0px 1px 2px rgba(60, 64, 67, 0.3), 0px 1px 3px 1px rgba(60, 64, 67, 0.15);\n",
              "      fill: #174EA6;\n",
              "    }\n",
              "\n",
              "    [theme=dark] .colab-df-convert {\n",
              "      background-color: #3B4455;\n",
              "      fill: #D2E3FC;\n",
              "    }\n",
              "\n",
              "    [theme=dark] .colab-df-convert:hover {\n",
              "      background-color: #434B5C;\n",
              "      box-shadow: 0px 1px 3px 1px rgba(0, 0, 0, 0.15);\n",
              "      filter: drop-shadow(0px 1px 2px rgba(0, 0, 0, 0.3));\n",
              "      fill: #FFFFFF;\n",
              "    }\n",
              "  </style>\n",
              "\n",
              "      <script>\n",
              "        const buttonEl =\n",
              "          document.querySelector('#df-70b50abf-e932-4f0c-97bc-fd6d6cdbc930 button.colab-df-convert');\n",
              "        buttonEl.style.display =\n",
              "          google.colab.kernel.accessAllowed ? 'block' : 'none';\n",
              "\n",
              "        async function convertToInteractive(key) {\n",
              "          const element = document.querySelector('#df-70b50abf-e932-4f0c-97bc-fd6d6cdbc930');\n",
              "          const dataTable =\n",
              "            await google.colab.kernel.invokeFunction('convertToInteractive',\n",
              "                                                     [key], {});\n",
              "          if (!dataTable) return;\n",
              "\n",
              "          const docLinkHtml = 'Like what you see? Visit the ' +\n",
              "            '<a target=\"_blank\" href=https://colab.research.google.com/notebooks/data_table.ipynb>data table notebook</a>'\n",
              "            + ' to learn more about interactive tables.';\n",
              "          element.innerHTML = '';\n",
              "          dataTable['output_type'] = 'display_data';\n",
              "          await google.colab.output.renderOutput(dataTable, element);\n",
              "          const docLink = document.createElement('div');\n",
              "          docLink.innerHTML = docLinkHtml;\n",
              "          element.appendChild(docLink);\n",
              "        }\n",
              "      </script>\n",
              "    </div>\n",
              "  </div>\n",
              "  "
            ]
          },
          "metadata": {},
          "execution_count": 6
        }
      ]
    },
    {
      "cell_type": "code",
      "source": [
        "df.info()"
      ],
      "metadata": {
        "colab": {
          "base_uri": "https://localhost:8080/"
        },
        "id": "J2uXYtCWl1Tg",
        "outputId": "ce697dca-dec9-442d-822a-68cba18dd10e"
      },
      "execution_count": null,
      "outputs": [
        {
          "output_type": "stream",
          "name": "stdout",
          "text": [
            "<class 'pandas.core.frame.DataFrame'>\n",
            "RangeIndex: 4760 entries, 0 to 4759\n",
            "Data columns (total 21 columns):\n",
            " #   Column                    Non-Null Count  Dtype  \n",
            "---  ------                    --------------  -----  \n",
            " 0   Movie_ID                  4760 non-null   int64  \n",
            " 1   Movie_Title               4760 non-null   object \n",
            " 2   Movie_Genre               4760 non-null   object \n",
            " 3   Movie_Language            4760 non-null   object \n",
            " 4   Movie_Budget              4760 non-null   int64  \n",
            " 5   Movie_Popularity          4760 non-null   float64\n",
            " 6   Movie_Release_Date        4760 non-null   object \n",
            " 7   Movie_Revenue             4760 non-null   int64  \n",
            " 8   Movie_Runtime             4758 non-null   float64\n",
            " 9   Movie_Vote                4760 non-null   float64\n",
            " 10  Movie_Vote_Count          4760 non-null   int64  \n",
            " 11  Movie_Homepage            1699 non-null   object \n",
            " 12  Movie_Keywords            4373 non-null   object \n",
            " 13  Movie_Overview            4757 non-null   object \n",
            " 14  Movie_Production_House    4760 non-null   object \n",
            " 15  Movie_Production_Country  4760 non-null   object \n",
            " 16  Movie_Spoken_Language     4760 non-null   object \n",
            " 17  Movie_Tagline             3942 non-null   object \n",
            " 18  Movie_Cast                4733 non-null   object \n",
            " 19  Movie_Crew                4760 non-null   object \n",
            " 20  Movie_Director            4738 non-null   object \n",
            "dtypes: float64(3), int64(4), object(14)\n",
            "memory usage: 781.1+ KB\n"
          ]
        }
      ]
    },
    {
      "cell_type": "code",
      "source": [
        "df.describe()"
      ],
      "metadata": {
        "colab": {
          "base_uri": "https://localhost:8080/",
          "height": 300
        },
        "id": "FA6SHsZPl6fZ",
        "outputId": "9fa69d79-229f-41fd-e57e-a1e80706c3c3"
      },
      "execution_count": null,
      "outputs": [
        {
          "output_type": "execute_result",
          "data": {
            "text/plain": [
              "          Movie_ID  Movie_Budget  Movie_Popularity  Movie_Revenue  \\\n",
              "count  4760.000000  4.760000e+03       4760.000000   4.760000e+03   \n",
              "mean   2382.566387  2.920129e+07         21.599510   8.263743e+07   \n",
              "std    1377.270159  4.075620e+07         31.887919   1.630554e+08   \n",
              "min       1.000000  0.000000e+00          0.000372   0.000000e+00   \n",
              "25%    1190.750000  9.257500e+05          4.807074   0.000000e+00   \n",
              "50%    2380.500000  1.500000e+07         13.119058   1.944716e+07   \n",
              "75%    3572.250000  4.000000e+07         28.411929   9.341276e+07   \n",
              "max    4788.000000  3.800000e+08        875.581305   2.787965e+09   \n",
              "\n",
              "       Movie_Runtime   Movie_Vote  Movie_Vote_Count  \n",
              "count    4758.000000  4760.000000       4760.000000  \n",
              "mean      107.184111     6.113866        692.508403  \n",
              "std        21.960332     1.141294       1235.007337  \n",
              "min         0.000000     0.000000          0.000000  \n",
              "25%        94.000000     5.600000         55.000000  \n",
              "50%       104.000000     6.200000        238.000000  \n",
              "75%       118.000000     6.800000        740.250000  \n",
              "max       338.000000    10.000000      13752.000000  "
            ],
            "text/html": [
              "\n",
              "  <div id=\"df-4d2de137-3d48-4771-970b-b3b51f52d4b4\">\n",
              "    <div class=\"colab-df-container\">\n",
              "      <div>\n",
              "<style scoped>\n",
              "    .dataframe tbody tr th:only-of-type {\n",
              "        vertical-align: middle;\n",
              "    }\n",
              "\n",
              "    .dataframe tbody tr th {\n",
              "        vertical-align: top;\n",
              "    }\n",
              "\n",
              "    .dataframe thead th {\n",
              "        text-align: right;\n",
              "    }\n",
              "</style>\n",
              "<table border=\"1\" class=\"dataframe\">\n",
              "  <thead>\n",
              "    <tr style=\"text-align: right;\">\n",
              "      <th></th>\n",
              "      <th>Movie_ID</th>\n",
              "      <th>Movie_Budget</th>\n",
              "      <th>Movie_Popularity</th>\n",
              "      <th>Movie_Revenue</th>\n",
              "      <th>Movie_Runtime</th>\n",
              "      <th>Movie_Vote</th>\n",
              "      <th>Movie_Vote_Count</th>\n",
              "    </tr>\n",
              "  </thead>\n",
              "  <tbody>\n",
              "    <tr>\n",
              "      <th>count</th>\n",
              "      <td>4760.000000</td>\n",
              "      <td>4.760000e+03</td>\n",
              "      <td>4760.000000</td>\n",
              "      <td>4.760000e+03</td>\n",
              "      <td>4758.000000</td>\n",
              "      <td>4760.000000</td>\n",
              "      <td>4760.000000</td>\n",
              "    </tr>\n",
              "    <tr>\n",
              "      <th>mean</th>\n",
              "      <td>2382.566387</td>\n",
              "      <td>2.920129e+07</td>\n",
              "      <td>21.599510</td>\n",
              "      <td>8.263743e+07</td>\n",
              "      <td>107.184111</td>\n",
              "      <td>6.113866</td>\n",
              "      <td>692.508403</td>\n",
              "    </tr>\n",
              "    <tr>\n",
              "      <th>std</th>\n",
              "      <td>1377.270159</td>\n",
              "      <td>4.075620e+07</td>\n",
              "      <td>31.887919</td>\n",
              "      <td>1.630554e+08</td>\n",
              "      <td>21.960332</td>\n",
              "      <td>1.141294</td>\n",
              "      <td>1235.007337</td>\n",
              "    </tr>\n",
              "    <tr>\n",
              "      <th>min</th>\n",
              "      <td>1.000000</td>\n",
              "      <td>0.000000e+00</td>\n",
              "      <td>0.000372</td>\n",
              "      <td>0.000000e+00</td>\n",
              "      <td>0.000000</td>\n",
              "      <td>0.000000</td>\n",
              "      <td>0.000000</td>\n",
              "    </tr>\n",
              "    <tr>\n",
              "      <th>25%</th>\n",
              "      <td>1190.750000</td>\n",
              "      <td>9.257500e+05</td>\n",
              "      <td>4.807074</td>\n",
              "      <td>0.000000e+00</td>\n",
              "      <td>94.000000</td>\n",
              "      <td>5.600000</td>\n",
              "      <td>55.000000</td>\n",
              "    </tr>\n",
              "    <tr>\n",
              "      <th>50%</th>\n",
              "      <td>2380.500000</td>\n",
              "      <td>1.500000e+07</td>\n",
              "      <td>13.119058</td>\n",
              "      <td>1.944716e+07</td>\n",
              "      <td>104.000000</td>\n",
              "      <td>6.200000</td>\n",
              "      <td>238.000000</td>\n",
              "    </tr>\n",
              "    <tr>\n",
              "      <th>75%</th>\n",
              "      <td>3572.250000</td>\n",
              "      <td>4.000000e+07</td>\n",
              "      <td>28.411929</td>\n",
              "      <td>9.341276e+07</td>\n",
              "      <td>118.000000</td>\n",
              "      <td>6.800000</td>\n",
              "      <td>740.250000</td>\n",
              "    </tr>\n",
              "    <tr>\n",
              "      <th>max</th>\n",
              "      <td>4788.000000</td>\n",
              "      <td>3.800000e+08</td>\n",
              "      <td>875.581305</td>\n",
              "      <td>2.787965e+09</td>\n",
              "      <td>338.000000</td>\n",
              "      <td>10.000000</td>\n",
              "      <td>13752.000000</td>\n",
              "    </tr>\n",
              "  </tbody>\n",
              "</table>\n",
              "</div>\n",
              "      <button class=\"colab-df-convert\" onclick=\"convertToInteractive('df-4d2de137-3d48-4771-970b-b3b51f52d4b4')\"\n",
              "              title=\"Convert this dataframe to an interactive table.\"\n",
              "              style=\"display:none;\">\n",
              "        \n",
              "  <svg xmlns=\"http://www.w3.org/2000/svg\" height=\"24px\"viewBox=\"0 0 24 24\"\n",
              "       width=\"24px\">\n",
              "    <path d=\"M0 0h24v24H0V0z\" fill=\"none\"/>\n",
              "    <path d=\"M18.56 5.44l.94 2.06.94-2.06 2.06-.94-2.06-.94-.94-2.06-.94 2.06-2.06.94zm-11 1L8.5 8.5l.94-2.06 2.06-.94-2.06-.94L8.5 2.5l-.94 2.06-2.06.94zm10 10l.94 2.06.94-2.06 2.06-.94-2.06-.94-.94-2.06-.94 2.06-2.06.94z\"/><path d=\"M17.41 7.96l-1.37-1.37c-.4-.4-.92-.59-1.43-.59-.52 0-1.04.2-1.43.59L10.3 9.45l-7.72 7.72c-.78.78-.78 2.05 0 2.83L4 21.41c.39.39.9.59 1.41.59.51 0 1.02-.2 1.41-.59l7.78-7.78 2.81-2.81c.8-.78.8-2.07 0-2.86zM5.41 20L4 18.59l7.72-7.72 1.47 1.35L5.41 20z\"/>\n",
              "  </svg>\n",
              "      </button>\n",
              "      \n",
              "  <style>\n",
              "    .colab-df-container {\n",
              "      display:flex;\n",
              "      flex-wrap:wrap;\n",
              "      gap: 12px;\n",
              "    }\n",
              "\n",
              "    .colab-df-convert {\n",
              "      background-color: #E8F0FE;\n",
              "      border: none;\n",
              "      border-radius: 50%;\n",
              "      cursor: pointer;\n",
              "      display: none;\n",
              "      fill: #1967D2;\n",
              "      height: 32px;\n",
              "      padding: 0 0 0 0;\n",
              "      width: 32px;\n",
              "    }\n",
              "\n",
              "    .colab-df-convert:hover {\n",
              "      background-color: #E2EBFA;\n",
              "      box-shadow: 0px 1px 2px rgba(60, 64, 67, 0.3), 0px 1px 3px 1px rgba(60, 64, 67, 0.15);\n",
              "      fill: #174EA6;\n",
              "    }\n",
              "\n",
              "    [theme=dark] .colab-df-convert {\n",
              "      background-color: #3B4455;\n",
              "      fill: #D2E3FC;\n",
              "    }\n",
              "\n",
              "    [theme=dark] .colab-df-convert:hover {\n",
              "      background-color: #434B5C;\n",
              "      box-shadow: 0px 1px 3px 1px rgba(0, 0, 0, 0.15);\n",
              "      filter: drop-shadow(0px 1px 2px rgba(0, 0, 0, 0.3));\n",
              "      fill: #FFFFFF;\n",
              "    }\n",
              "  </style>\n",
              "\n",
              "      <script>\n",
              "        const buttonEl =\n",
              "          document.querySelector('#df-4d2de137-3d48-4771-970b-b3b51f52d4b4 button.colab-df-convert');\n",
              "        buttonEl.style.display =\n",
              "          google.colab.kernel.accessAllowed ? 'block' : 'none';\n",
              "\n",
              "        async function convertToInteractive(key) {\n",
              "          const element = document.querySelector('#df-4d2de137-3d48-4771-970b-b3b51f52d4b4');\n",
              "          const dataTable =\n",
              "            await google.colab.kernel.invokeFunction('convertToInteractive',\n",
              "                                                     [key], {});\n",
              "          if (!dataTable) return;\n",
              "\n",
              "          const docLinkHtml = 'Like what you see? Visit the ' +\n",
              "            '<a target=\"_blank\" href=https://colab.research.google.com/notebooks/data_table.ipynb>data table notebook</a>'\n",
              "            + ' to learn more about interactive tables.';\n",
              "          element.innerHTML = '';\n",
              "          dataTable['output_type'] = 'display_data';\n",
              "          await google.colab.output.renderOutput(dataTable, element);\n",
              "          const docLink = document.createElement('div');\n",
              "          docLink.innerHTML = docLinkHtml;\n",
              "          element.appendChild(docLink);\n",
              "        }\n",
              "      </script>\n",
              "    </div>\n",
              "  </div>\n",
              "  "
            ]
          },
          "metadata": {},
          "execution_count": 8
        }
      ]
    },
    {
      "cell_type": "code",
      "source": [
        "df.shape"
      ],
      "metadata": {
        "colab": {
          "base_uri": "https://localhost:8080/"
        },
        "id": "UFnUZqKymGC2",
        "outputId": "600bbbfb-60b5-4bca-9938-85be53ba9eb6"
      },
      "execution_count": null,
      "outputs": [
        {
          "output_type": "execute_result",
          "data": {
            "text/plain": [
              "(4760, 21)"
            ]
          },
          "metadata": {},
          "execution_count": 11
        }
      ]
    },
    {
      "cell_type": "code",
      "source": [
        "df.columns"
      ],
      "metadata": {
        "colab": {
          "base_uri": "https://localhost:8080/"
        },
        "id": "riGoNRvTmL4D",
        "outputId": "ce260db7-96cb-4eb8-fd07-e971533ed59f"
      },
      "execution_count": null,
      "outputs": [
        {
          "output_type": "execute_result",
          "data": {
            "text/plain": [
              "Index(['Movie_ID', 'Movie_Title', 'Movie_Genre', 'Movie_Language',\n",
              "       'Movie_Budget', 'Movie_Popularity', 'Movie_Release_Date',\n",
              "       'Movie_Revenue', 'Movie_Runtime', 'Movie_Vote', 'Movie_Vote_Count',\n",
              "       'Movie_Homepage', 'Movie_Keywords', 'Movie_Overview',\n",
              "       'Movie_Production_House', 'Movie_Production_Country',\n",
              "       'Movie_Spoken_Language', 'Movie_Tagline', 'Movie_Cast', 'Movie_Crew',\n",
              "       'Movie_Director'],\n",
              "      dtype='object')"
            ]
          },
          "metadata": {},
          "execution_count": 12
        }
      ]
    },
    {
      "cell_type": "markdown",
      "source": [
        "# **Get Feature Selection**"
      ],
      "metadata": {
        "id": "5U4sUp2LmUNY"
      }
    },
    {
      "cell_type": "code",
      "source": [
        "df_features = df[['Movie_Genre','Movie_Keywords','Movie_Tagline','Movie_Cast','Movie_Director']].fillna('')"
      ],
      "metadata": {
        "id": "6z4Zer5emaTw"
      },
      "execution_count": null,
      "outputs": []
    },
    {
      "cell_type": "code",
      "source": [
        "df_features.shape"
      ],
      "metadata": {
        "colab": {
          "base_uri": "https://localhost:8080/"
        },
        "id": "ZQxr3zDWmh9N",
        "outputId": "f9cb5d73-c94e-4d10-def3-85daee926e8b"
      },
      "execution_count": null,
      "outputs": [
        {
          "output_type": "execute_result",
          "data": {
            "text/plain": [
              "(4760, 5)"
            ]
          },
          "metadata": {},
          "execution_count": 14
        }
      ]
    },
    {
      "cell_type": "code",
      "source": [
        "df_features"
      ],
      "metadata": {
        "colab": {
          "base_uri": "https://localhost:8080/",
          "height": 624
        },
        "id": "7EOOvjIMmn62",
        "outputId": "e5023a7c-b7bb-454c-b08d-d1978cef5699"
      },
      "execution_count": null,
      "outputs": [
        {
          "output_type": "execute_result",
          "data": {
            "text/plain": [
              "                           Movie_Genre  \\\n",
              "0                         Crime Comedy   \n",
              "1     Adventure Action Science Fiction   \n",
              "2                     Animation Family   \n",
              "3                 Comedy Drama Romance   \n",
              "4                                Drama   \n",
              "...                                ...   \n",
              "4755                            Horror   \n",
              "4756               Comedy Family Drama   \n",
              "4757                    Thriller Drama   \n",
              "4758                            Family   \n",
              "4759                       Documentary   \n",
              "\n",
              "                                         Movie_Keywords  \\\n",
              "0             hotel new year's eve witch bet hotel room   \n",
              "1           android galaxy hermit death star lightsaber   \n",
              "2     father son relationship harbor underwater fish...   \n",
              "3     vietnam veteran hippie mentally disabled runni...   \n",
              "4     male nudity female nudity adultery midlife cri...   \n",
              "...                                                 ...   \n",
              "4755                                                      \n",
              "4756                                                      \n",
              "4757                     christian film sex trafficking   \n",
              "4758                                                      \n",
              "4759  music actors legendary perfomer classic hollyw...   \n",
              "\n",
              "                                          Movie_Tagline  \\\n",
              "0     Twelve outrageous guests. Four scandalous requ...   \n",
              "1          A long time ago in a galaxy far, far away...   \n",
              "2     There are 3.7 trillion fish in the ocean, they...   \n",
              "3     The world will never be the same, once you've ...   \n",
              "4                                          Look closer.   \n",
              "...                                                 ...   \n",
              "4755                The hot spot where Satan's waitin'.   \n",
              "4756           It’s better to stand out than to fit in.   \n",
              "4757           She never knew it could happen to her...   \n",
              "4758                                                      \n",
              "4759                                                      \n",
              "\n",
              "                                             Movie_Cast     Movie_Director  \n",
              "0     Tim Roth Antonio Banderas Jennifer Beals Madon...     Allison Anders  \n",
              "1     Mark Hamill Harrison Ford Carrie Fisher Peter ...       George Lucas  \n",
              "2     Albert Brooks Ellen DeGeneres Alexander Gould ...     Andrew Stanton  \n",
              "3     Tom Hanks Robin Wright Gary Sinise Mykelti Wil...    Robert Zemeckis  \n",
              "4     Kevin Spacey Annette Bening Thora Birch Wes Be...         Sam Mendes  \n",
              "...                                                 ...                ...  \n",
              "4755  Lisa Hart Carroll Michael Des Barres Paul Drak...         Pece Dingo  \n",
              "4756  Roni Akurati Brighton Sharbino Jason Lee Anjul...       Frank Lotito  \n",
              "4757  Nicole Smolen Kim Baldwin Ariana Stephens Brys...       Jaco Booyens  \n",
              "4758                                                                        \n",
              "4759                                    Tony Oppedisano  Simon Napier-Bell  \n",
              "\n",
              "[4760 rows x 5 columns]"
            ],
            "text/html": [
              "\n",
              "  <div id=\"df-e1b3d5a8-dd37-4ce3-9d4d-0935c0bb46e8\">\n",
              "    <div class=\"colab-df-container\">\n",
              "      <div>\n",
              "<style scoped>\n",
              "    .dataframe tbody tr th:only-of-type {\n",
              "        vertical-align: middle;\n",
              "    }\n",
              "\n",
              "    .dataframe tbody tr th {\n",
              "        vertical-align: top;\n",
              "    }\n",
              "\n",
              "    .dataframe thead th {\n",
              "        text-align: right;\n",
              "    }\n",
              "</style>\n",
              "<table border=\"1\" class=\"dataframe\">\n",
              "  <thead>\n",
              "    <tr style=\"text-align: right;\">\n",
              "      <th></th>\n",
              "      <th>Movie_Genre</th>\n",
              "      <th>Movie_Keywords</th>\n",
              "      <th>Movie_Tagline</th>\n",
              "      <th>Movie_Cast</th>\n",
              "      <th>Movie_Director</th>\n",
              "    </tr>\n",
              "  </thead>\n",
              "  <tbody>\n",
              "    <tr>\n",
              "      <th>0</th>\n",
              "      <td>Crime Comedy</td>\n",
              "      <td>hotel new year's eve witch bet hotel room</td>\n",
              "      <td>Twelve outrageous guests. Four scandalous requ...</td>\n",
              "      <td>Tim Roth Antonio Banderas Jennifer Beals Madon...</td>\n",
              "      <td>Allison Anders</td>\n",
              "    </tr>\n",
              "    <tr>\n",
              "      <th>1</th>\n",
              "      <td>Adventure Action Science Fiction</td>\n",
              "      <td>android galaxy hermit death star lightsaber</td>\n",
              "      <td>A long time ago in a galaxy far, far away...</td>\n",
              "      <td>Mark Hamill Harrison Ford Carrie Fisher Peter ...</td>\n",
              "      <td>George Lucas</td>\n",
              "    </tr>\n",
              "    <tr>\n",
              "      <th>2</th>\n",
              "      <td>Animation Family</td>\n",
              "      <td>father son relationship harbor underwater fish...</td>\n",
              "      <td>There are 3.7 trillion fish in the ocean, they...</td>\n",
              "      <td>Albert Brooks Ellen DeGeneres Alexander Gould ...</td>\n",
              "      <td>Andrew Stanton</td>\n",
              "    </tr>\n",
              "    <tr>\n",
              "      <th>3</th>\n",
              "      <td>Comedy Drama Romance</td>\n",
              "      <td>vietnam veteran hippie mentally disabled runni...</td>\n",
              "      <td>The world will never be the same, once you've ...</td>\n",
              "      <td>Tom Hanks Robin Wright Gary Sinise Mykelti Wil...</td>\n",
              "      <td>Robert Zemeckis</td>\n",
              "    </tr>\n",
              "    <tr>\n",
              "      <th>4</th>\n",
              "      <td>Drama</td>\n",
              "      <td>male nudity female nudity adultery midlife cri...</td>\n",
              "      <td>Look closer.</td>\n",
              "      <td>Kevin Spacey Annette Bening Thora Birch Wes Be...</td>\n",
              "      <td>Sam Mendes</td>\n",
              "    </tr>\n",
              "    <tr>\n",
              "      <th>...</th>\n",
              "      <td>...</td>\n",
              "      <td>...</td>\n",
              "      <td>...</td>\n",
              "      <td>...</td>\n",
              "      <td>...</td>\n",
              "    </tr>\n",
              "    <tr>\n",
              "      <th>4755</th>\n",
              "      <td>Horror</td>\n",
              "      <td></td>\n",
              "      <td>The hot spot where Satan's waitin'.</td>\n",
              "      <td>Lisa Hart Carroll Michael Des Barres Paul Drak...</td>\n",
              "      <td>Pece Dingo</td>\n",
              "    </tr>\n",
              "    <tr>\n",
              "      <th>4756</th>\n",
              "      <td>Comedy Family Drama</td>\n",
              "      <td></td>\n",
              "      <td>It’s better to stand out than to fit in.</td>\n",
              "      <td>Roni Akurati Brighton Sharbino Jason Lee Anjul...</td>\n",
              "      <td>Frank Lotito</td>\n",
              "    </tr>\n",
              "    <tr>\n",
              "      <th>4757</th>\n",
              "      <td>Thriller Drama</td>\n",
              "      <td>christian film sex trafficking</td>\n",
              "      <td>She never knew it could happen to her...</td>\n",
              "      <td>Nicole Smolen Kim Baldwin Ariana Stephens Brys...</td>\n",
              "      <td>Jaco Booyens</td>\n",
              "    </tr>\n",
              "    <tr>\n",
              "      <th>4758</th>\n",
              "      <td>Family</td>\n",
              "      <td></td>\n",
              "      <td></td>\n",
              "      <td></td>\n",
              "      <td></td>\n",
              "    </tr>\n",
              "    <tr>\n",
              "      <th>4759</th>\n",
              "      <td>Documentary</td>\n",
              "      <td>music actors legendary perfomer classic hollyw...</td>\n",
              "      <td></td>\n",
              "      <td>Tony Oppedisano</td>\n",
              "      <td>Simon Napier-Bell</td>\n",
              "    </tr>\n",
              "  </tbody>\n",
              "</table>\n",
              "<p>4760 rows × 5 columns</p>\n",
              "</div>\n",
              "      <button class=\"colab-df-convert\" onclick=\"convertToInteractive('df-e1b3d5a8-dd37-4ce3-9d4d-0935c0bb46e8')\"\n",
              "              title=\"Convert this dataframe to an interactive table.\"\n",
              "              style=\"display:none;\">\n",
              "        \n",
              "  <svg xmlns=\"http://www.w3.org/2000/svg\" height=\"24px\"viewBox=\"0 0 24 24\"\n",
              "       width=\"24px\">\n",
              "    <path d=\"M0 0h24v24H0V0z\" fill=\"none\"/>\n",
              "    <path d=\"M18.56 5.44l.94 2.06.94-2.06 2.06-.94-2.06-.94-.94-2.06-.94 2.06-2.06.94zm-11 1L8.5 8.5l.94-2.06 2.06-.94-2.06-.94L8.5 2.5l-.94 2.06-2.06.94zm10 10l.94 2.06.94-2.06 2.06-.94-2.06-.94-.94-2.06-.94 2.06-2.06.94z\"/><path d=\"M17.41 7.96l-1.37-1.37c-.4-.4-.92-.59-1.43-.59-.52 0-1.04.2-1.43.59L10.3 9.45l-7.72 7.72c-.78.78-.78 2.05 0 2.83L4 21.41c.39.39.9.59 1.41.59.51 0 1.02-.2 1.41-.59l7.78-7.78 2.81-2.81c.8-.78.8-2.07 0-2.86zM5.41 20L4 18.59l7.72-7.72 1.47 1.35L5.41 20z\"/>\n",
              "  </svg>\n",
              "      </button>\n",
              "      \n",
              "  <style>\n",
              "    .colab-df-container {\n",
              "      display:flex;\n",
              "      flex-wrap:wrap;\n",
              "      gap: 12px;\n",
              "    }\n",
              "\n",
              "    .colab-df-convert {\n",
              "      background-color: #E8F0FE;\n",
              "      border: none;\n",
              "      border-radius: 50%;\n",
              "      cursor: pointer;\n",
              "      display: none;\n",
              "      fill: #1967D2;\n",
              "      height: 32px;\n",
              "      padding: 0 0 0 0;\n",
              "      width: 32px;\n",
              "    }\n",
              "\n",
              "    .colab-df-convert:hover {\n",
              "      background-color: #E2EBFA;\n",
              "      box-shadow: 0px 1px 2px rgba(60, 64, 67, 0.3), 0px 1px 3px 1px rgba(60, 64, 67, 0.15);\n",
              "      fill: #174EA6;\n",
              "    }\n",
              "\n",
              "    [theme=dark] .colab-df-convert {\n",
              "      background-color: #3B4455;\n",
              "      fill: #D2E3FC;\n",
              "    }\n",
              "\n",
              "    [theme=dark] .colab-df-convert:hover {\n",
              "      background-color: #434B5C;\n",
              "      box-shadow: 0px 1px 3px 1px rgba(0, 0, 0, 0.15);\n",
              "      filter: drop-shadow(0px 1px 2px rgba(0, 0, 0, 0.3));\n",
              "      fill: #FFFFFF;\n",
              "    }\n",
              "  </style>\n",
              "\n",
              "      <script>\n",
              "        const buttonEl =\n",
              "          document.querySelector('#df-e1b3d5a8-dd37-4ce3-9d4d-0935c0bb46e8 button.colab-df-convert');\n",
              "        buttonEl.style.display =\n",
              "          google.colab.kernel.accessAllowed ? 'block' : 'none';\n",
              "\n",
              "        async function convertToInteractive(key) {\n",
              "          const element = document.querySelector('#df-e1b3d5a8-dd37-4ce3-9d4d-0935c0bb46e8');\n",
              "          const dataTable =\n",
              "            await google.colab.kernel.invokeFunction('convertToInteractive',\n",
              "                                                     [key], {});\n",
              "          if (!dataTable) return;\n",
              "\n",
              "          const docLinkHtml = 'Like what you see? Visit the ' +\n",
              "            '<a target=\"_blank\" href=https://colab.research.google.com/notebooks/data_table.ipynb>data table notebook</a>'\n",
              "            + ' to learn more about interactive tables.';\n",
              "          element.innerHTML = '';\n",
              "          dataTable['output_type'] = 'display_data';\n",
              "          await google.colab.output.renderOutput(dataTable, element);\n",
              "          const docLink = document.createElement('div');\n",
              "          docLink.innerHTML = docLinkHtml;\n",
              "          element.appendChild(docLink);\n",
              "        }\n",
              "      </script>\n",
              "    </div>\n",
              "  </div>\n",
              "  "
            ]
          },
          "metadata": {},
          "execution_count": 15
        }
      ]
    },
    {
      "cell_type": "code",
      "source": [
        "x = df_features['Movie_Genre']+''+ df_features['Movie_Keywords']+ '' + df_features['Movie_Tagline']+''+df_features['Movie_Cast']+''+df_features['Movie_Director']"
      ],
      "metadata": {
        "id": "TPJbfopxmyQh"
      },
      "execution_count": null,
      "outputs": []
    },
    {
      "cell_type": "code",
      "source": [
        "x"
      ],
      "metadata": {
        "colab": {
          "base_uri": "https://localhost:8080/"
        },
        "id": "6OGefFBcm2Bo",
        "outputId": "c8a97686-48a5-4157-c930-fc40f3e60a6a"
      },
      "execution_count": null,
      "outputs": [
        {
          "output_type": "execute_result",
          "data": {
            "text/plain": [
              "0       Crime Comedyhotel new year's eve witch bet hot...\n",
              "1       Adventure Action Science Fictionandroid galaxy...\n",
              "2       Animation Familyfather son relationship harbor...\n",
              "3       Comedy Drama Romancevietnam veteran hippie men...\n",
              "4       Dramamale nudity female nudity adultery midlif...\n",
              "                              ...                        \n",
              "4755    HorrorThe hot spot where Satan's waitin'.Lisa ...\n",
              "4756    Comedy Family DramaIt’s better to stand out th...\n",
              "4757    Thriller Dramachristian film sex traffickingSh...\n",
              "4758                                               Family\n",
              "4759    Documentarymusic actors legendary perfomer cla...\n",
              "Length: 4760, dtype: object"
            ]
          },
          "metadata": {},
          "execution_count": 17
        }
      ]
    },
    {
      "cell_type": "code",
      "source": [
        "x.shape"
      ],
      "metadata": {
        "colab": {
          "base_uri": "https://localhost:8080/"
        },
        "id": "2Sld5quWm5vQ",
        "outputId": "63d4bfa7-a129-4651-9fec-719f41a041ea"
      },
      "execution_count": null,
      "outputs": [
        {
          "output_type": "execute_result",
          "data": {
            "text/plain": [
              "(4760,)"
            ]
          },
          "metadata": {},
          "execution_count": 18
        }
      ]
    },
    {
      "cell_type": "markdown",
      "source": [
        "# **Get Feature Text Conversion To Tokens**"
      ],
      "metadata": {
        "id": "W9bM8aUfnAdP"
      }
    },
    {
      "cell_type": "code",
      "source": [
        "from sklearn.feature_extraction.text import TfidfVectorizer"
      ],
      "metadata": {
        "id": "jRHSfgJinJIO"
      },
      "execution_count": null,
      "outputs": []
    },
    {
      "cell_type": "code",
      "source": [
        "tfidf = TfidfVectorizer()"
      ],
      "metadata": {
        "id": "_1H6TzVXnNum"
      },
      "execution_count": null,
      "outputs": []
    },
    {
      "cell_type": "code",
      "source": [
        "x = tfidf.fit_transform(x)"
      ],
      "metadata": {
        "id": "RZ8GwpllnPnu"
      },
      "execution_count": null,
      "outputs": []
    },
    {
      "cell_type": "code",
      "source": [
        "x.shape"
      ],
      "metadata": {
        "colab": {
          "base_uri": "https://localhost:8080/"
        },
        "id": "UXjkWIV_nTHq",
        "outputId": "c6975668-f5ed-4411-9359-812e29da9f9a"
      },
      "execution_count": null,
      "outputs": [
        {
          "output_type": "execute_result",
          "data": {
            "text/plain": [
              "(4760, 27466)"
            ]
          },
          "metadata": {},
          "execution_count": 22
        }
      ]
    },
    {
      "cell_type": "code",
      "source": [
        "print(x)"
      ],
      "metadata": {
        "colab": {
          "base_uri": "https://localhost:8080/"
        },
        "id": "pzIB2R_VnXAp",
        "outputId": "d1f59b12-392c-4e5b-85e3-02c313918955"
      },
      "execution_count": null,
      "outputs": [
        {
          "output_type": "stream",
          "name": "stdout",
          "text": [
            "  (0, 1028)\t0.16196019146631543\n",
            "  (0, 24785)\t0.1954632929283795\n",
            "  (0, 15844)\t0.14205053053187272\n",
            "  (0, 15553)\t0.17099186675469502\n",
            "  (0, 2132)\t0.18002354204307464\n",
            "  (0, 13312)\t0.09914387783149516\n",
            "  (0, 1887)\t0.14106037409792174\n",
            "  (0, 1216)\t0.13920306109638164\n",
            "  (0, 21158)\t0.14205053053187272\n",
            "  (0, 24701)\t0.11357423942624927\n",
            "  (0, 14943)\t0.091376722056839\n",
            "  (0, 18098)\t0.06200430666985742\n",
            "  (0, 26738)\t0.175053052455033\n",
            "  (0, 9790)\t0.08712552095655665\n",
            "  (0, 26675)\t0.1116831168780693\n",
            "  (0, 13401)\t0.13748876529263096\n",
            "  (0, 24105)\t0.10726395493180996\n",
            "  (0, 18192)\t0.07278761942152372\n",
            "  (0, 6172)\t0.11970212451073885\n",
            "  (0, 9626)\t0.11757910435818826\n",
            "  (0, 11960)\t0.20134029899961134\n",
            "  (0, 12801)\t0.1530338818199682\n",
            "  (0, 2292)\t0.1954632929283795\n",
            "  (0, 15172)\t0.1537691763994982\n",
            "  (0, 18196)\t0.08579029869987485\n",
            "  :\t:\n",
            "  (4757, 1839)\t0.19327629083107672\n",
            "  (4757, 5410)\t0.19734759150400596\n",
            "  (4757, 11350)\t0.21582294886514122\n",
            "  (4757, 22017)\t0.1646400247918531\n",
            "  (4757, 17789)\t0.18881341937258544\n",
            "  (4757, 9484)\t0.1411164779725638\n",
            "  (4757, 14176)\t0.2330831990045816\n",
            "  (4757, 11762)\t0.17321388936472645\n",
            "  (4757, 14052)\t0.1776312353410007\n",
            "  (4757, 24232)\t0.10947784435203887\n",
            "  (4757, 24746)\t0.09744940789814222\n",
            "  (4757, 13079)\t0.12400374714145113\n",
            "  (4757, 17721)\t0.1489085353667712\n",
            "  (4758, 8651)\t1.0\n",
            "  (4759, 18229)\t0.33527342183765224\n",
            "  (4759, 22434)\t0.33527342183765224\n",
            "  (4759, 18841)\t0.33527342183765224\n",
            "  (4759, 6950)\t0.33527342183765224\n",
            "  (4759, 345)\t0.31978160936741457\n",
            "  (4759, 14742)\t0.31978160936741457\n",
            "  (4759, 12139)\t0.2778063685558062\n",
            "  (4759, 4446)\t0.282306565154911\n",
            "  (4759, 17552)\t0.3087899934962816\n",
            "  (4759, 9955)\t0.21805075638656476\n",
            "  (4759, 2285)\t0.21465229435984196\n"
          ]
        }
      ]
    },
    {
      "cell_type": "markdown",
      "source": [
        "# **Get Similarity Score Using Cosine Similarity**"
      ],
      "metadata": {
        "id": "gL0A8Uoinepu"
      }
    },
    {
      "cell_type": "code",
      "source": [
        "from sklearn.metrics.pairwise import cosine_similarity"
      ],
      "metadata": {
        "id": "0WxrNN_2niFQ"
      },
      "execution_count": null,
      "outputs": []
    },
    {
      "cell_type": "code",
      "source": [
        "Similarity_score = cosine_similarity(x)"
      ],
      "metadata": {
        "id": "KPExMWJAnl3Y"
      },
      "execution_count": null,
      "outputs": []
    },
    {
      "cell_type": "code",
      "source": [
        "Similarity_score"
      ],
      "metadata": {
        "colab": {
          "base_uri": "https://localhost:8080/"
        },
        "id": "kSFcNb5YnpS9",
        "outputId": "d76436ee-7f06-456e-9a78-725d9b8294df"
      },
      "execution_count": null,
      "outputs": [
        {
          "output_type": "execute_result",
          "data": {
            "text/plain": [
              "array([[1.        , 0.01438634, 0.03807033, ..., 0.        , 0.        ,\n",
              "        0.        ],\n",
              "       [0.01438634, 1.        , 0.00844858, ..., 0.        , 0.        ,\n",
              "        0.        ],\n",
              "       [0.03807033, 0.00844858, 1.        , ..., 0.        , 0.        ,\n",
              "        0.        ],\n",
              "       ...,\n",
              "       [0.        , 0.        , 0.        , ..., 1.        , 0.        ,\n",
              "        0.        ],\n",
              "       [0.        , 0.        , 0.        , ..., 0.        , 1.        ,\n",
              "        0.        ],\n",
              "       [0.        , 0.        , 0.        , ..., 0.        , 0.        ,\n",
              "        1.        ]])"
            ]
          },
          "metadata": {},
          "execution_count": 26
        }
      ]
    },
    {
      "cell_type": "code",
      "source": [
        "Similarity_score.shape"
      ],
      "metadata": {
        "colab": {
          "base_uri": "https://localhost:8080/"
        },
        "id": "Y7ln4EL7nzq2",
        "outputId": "3be7814f-7e3d-4d74-ac13-20a7b3f72ed7"
      },
      "execution_count": null,
      "outputs": [
        {
          "output_type": "execute_result",
          "data": {
            "text/plain": [
              "(4760, 4760)"
            ]
          },
          "metadata": {},
          "execution_count": 27
        }
      ]
    },
    {
      "cell_type": "markdown",
      "source": [
        "# **Get Movie Name as Input From User and Validate for Closest Spelling**"
      ],
      "metadata": {
        "id": "R6EwU9zgn38W"
      }
    },
    {
      "cell_type": "code",
      "source": [
        "Favourite_Movie_Name = input('Enter your favourite movie name : ')"
      ],
      "metadata": {
        "colab": {
          "base_uri": "https://localhost:8080/"
        },
        "id": "Pji7QjN6n63P",
        "outputId": "265a9009-9976-4faf-ce2b-85d4c4410f4e"
      },
      "execution_count": null,
      "outputs": [
        {
          "name": "stdout",
          "output_type": "stream",
          "text": [
            "Enter your favourite movie name : batman\n"
          ]
        }
      ]
    },
    {
      "cell_type": "code",
      "source": [
        "All_Movies_Title_List = df['Movie_Title'].tolist()"
      ],
      "metadata": {
        "id": "2lRIjz2NoGZR"
      },
      "execution_count": null,
      "outputs": []
    },
    {
      "cell_type": "code",
      "source": [
        "import difflib"
      ],
      "metadata": {
        "id": "LVIocWpSoK8_"
      },
      "execution_count": null,
      "outputs": []
    },
    {
      "cell_type": "code",
      "source": [
        "Movie_Recommendation = difflib.get_close_matches(Favourite_Movie_Name,All_Movies_Title_List)\n",
        "print(Movie_Recommendation)"
      ],
      "metadata": {
        "colab": {
          "base_uri": "https://localhost:8080/"
        },
        "id": "o0HhCBD7oMik",
        "outputId": "b3d4573f-f29e-4e34-edae-39e0a9cd8263"
      },
      "execution_count": null,
      "outputs": [
        {
          "output_type": "stream",
          "name": "stdout",
          "text": [
            "['Batman', 'Batman', 'Catwoman']\n"
          ]
        }
      ]
    },
    {
      "cell_type": "code",
      "source": [
        "Close_Match = Movie_Recommendation[0]\n",
        "print(Close_Match)"
      ],
      "metadata": {
        "colab": {
          "base_uri": "https://localhost:8080/"
        },
        "id": "kjgvpW_soWYK",
        "outputId": "0e2cb33e-b8ec-4d7e-bd20-eb665cb23870"
      },
      "execution_count": null,
      "outputs": [
        {
          "output_type": "stream",
          "name": "stdout",
          "text": [
            "Batman\n"
          ]
        }
      ]
    },
    {
      "cell_type": "code",
      "source": [
        "Index_of_Close_Match_Movie = df[df.Movie_Title == Close_Match]['Movie_ID'].values[0]\n",
        "print(Index_of_Close_Match_Movie)"
      ],
      "metadata": {
        "colab": {
          "base_uri": "https://localhost:8080/"
        },
        "id": "tB9xuiJgoao0",
        "outputId": "1cc5d009-d9e0-4f62-9f58-bdf744e261da"
      },
      "execution_count": null,
      "outputs": [
        {
          "output_type": "stream",
          "name": "stdout",
          "text": [
            "123\n"
          ]
        }
      ]
    },
    {
      "cell_type": "code",
      "source": [
        "# getting a list of similar movies\n",
        "Recommendation_score = list(enumerate(Similarity_score[Index_of_Close_Match_Movie]))\n",
        "print(Recommendation_score)"
      ],
      "metadata": {
        "colab": {
          "base_uri": "https://localhost:8080/"
        },
        "id": "ENxVsPvFogWP",
        "outputId": "ba5af8a3-a5e0-484f-b324-95f9e02236f1"
      },
      "execution_count": null,
      "outputs": [
        {
          "output_type": "stream",
          "name": "stdout",
          "text": [
            "[(0, 0.02397654228749271), (1, 0.0055876866832971035), (2, 0.004890293732693801), (3, 0.03288140230401829), (4, 0.0), (5, 0.021314341075112642), (6, 0.03642482313448188), (7, 0.01283380697228193), (8, 0.0), (9, 0.005352478394758194), (10, 0.08483051559771485), (11, 0.0059071619673414415), (12, 0.006256020237645651), (13, 0.0), (14, 0.005236238152654649), (15, 0.0), (16, 0.0186645259760439), (17, 0.0), (18, 0.046363049604602885), (19, 0.02690078329510062), (20, 0.01237401957934852), (21, 0.024118790746445545), (22, 0.0), (23, 0.0), (24, 0.0), (25, 0.027418106398344744), (26, 0.0), (27, 0.0), (28, 0.0057820588159110285), (29, 0.005509624747381319), (30, 0.04729220521187906), (31, 0.0), (32, 0.005755106913619247), (33, 0.005070644183800808), (34, 0.012574071548418645), (35, 0.015831727048241807), (36, 0.0), (37, 0.01030333130710327), (38, 0.006897331206826726), (39, 0.011594395329236819), (40, 0.0069707783719520616), (41, 0.006692978198527802), (42, 0.0), (43, 0.018999319778185936), (44, 0.005272689939687629), (45, 0.016530898420312544), (46, 0.005778232656117237), (47, 0.0), (48, 0.03040249967811881), (49, 0.0), (50, 0.0), (51, 0.02217294160079031), (52, 0.020233040857674606), (53, 0.0), (54, 0.0), (55, 0.0), (56, 0.005776415233503869), (57, 0.009602940965913248), (58, 0.0), (59, 0.006179807960389285), (60, 0.0049327045766659385), (61, 0.0), (62, 0.0), (63, 0.06191861677808122), (64, 0.004978959242291708), (65, 0.0), (66, 0.0), (67, 0.021040591554399437), (68, 0.3355347771253835), (69, 0.007034448794111511), (70, 0.0), (71, 0.01212558065567737), (72, 0.005524673121601352), (73, 0.011108452643075487), (74, 0.012059069785393088), (75, 0.01507699985857049), (76, 0.028362356237056713), (77, 0.0), (78, 0.010086281497726845), (79, 0.0), (80, 0.0055538525267836494), (81, 0.011874942777529426), (82, 0.018389436098316888), (83, 0.021655653509510746), (84, 0.005929598881533106), (85, 0.02062815869789529), (86, 0.03348004842698074), (87, 0.021688840806024703), (88, 0.009870641422292787), (89, 0.023427411176713528), (90, 0.018100756568470166), (91, 0.015355596452263483), (92, 0.005786231777887455), (93, 0.018236423991702985), (94, 0.016744292460113133), (95, 0.01852812502975589), (96, 0.025570975837728), (97, 0.004963813146832601), (98, 0.0), (99, 0.0), (100, 0.0), (101, 0.00601633007856209), (102, 0.02575507361773622), (103, 0.0), (104, 0.021143781373890426), (105, 0.026785150824757596), (106, 0.0213252166805101), (107, 0.0), (108, 0.03132933151882872), (109, 0.0), (110, 0.0), (111, 0.0), (112, 0.02642909274210166), (113, 0.0), (114, 0.0), (115, 0.0), (116, 0.0), (117, 0.0), (118, 0.006455860483516879), (119, 0.005477827668848308), (120, 0.02291211544598826), (121, 0.0), (122, 0.12765754462824352), (123, 1.0000000000000002), (124, 0.029960185374450908), (125, 0.021849097302383044), (126, 0.0), (127, 0.0), (128, 0.02001159151971317), (129, 0.0), (130, 0.015302048726923981), (131, 0.02812271964661629), (132, 0.0), (133, 0.0), (134, 0.0), (135, 0.011776416566112325), (136, 0.0), (137, 0.027698092948684), (138, 0.005465792956551232), (139, 0.006850361842501743), (140, 0.0), (141, 0.0), (142, 0.0), (143, 0.10000859207652417), (144, 0.09131790532385625), (145, 0.08965989286833827), (146, 0.0), (147, 0.01906031912686349), (148, 0.029971717920861365), (149, 0.01923329863223371), (150, 0.00562334767055794), (151, 0.006477899775037456), (152, 0.011630344435826175), (153, 0.007347640104172033), (154, 0.0), (155, 0.0), (156, 0.0), (157, 0.0), (158, 0.0), (159, 0.009611829176694031), (160, 0.00567364620749879), (161, 0.0), (162, 0.15753549327801544), (163, 0.0), (164, 0.0), (165, 0.015256833453874456), (166, 0.04359054970281435), (167, 0.0), (168, 0.004556895711824124), (169, 0.005797649787656276), (170, 0.04214405637228487), (171, 0.005556529703052975), (172, 0.02125743179996706), (173, 0.0), (174, 0.0), (175, 0.0), (176, 0.0), (177, 0.004835020009925365), (178, 0.0), (179, 0.03608724479096582), (180, 0.119579580142478), (181, 0.170899328521215), (182, 0.005704371179801392), (183, 0.0), (184, 0.06847327783822617), (185, 0.0), (186, 0.004854928477114086), (187, 0.0), (188, 0.0), (189, 0.012202586661220816), (190, 0.0), (191, 0.010705156039103148), (192, 0.0059610076212700215), (193, 0.0), (194, 0.0), (195, 0.004872328048413998), (196, 0.0), (197, 0.0), (198, 0.0), (199, 0.01938046326604118), (200, 0.0), (201, 0.10462595287997034), (202, 0.021611233790785354), (203, 0.0), (204, 0.0), (205, 0.0), (206, 0.01282900116645788), (207, 0.03733679007856081), (208, 0.006906828922002646), (209, 0.022356226391260774), (210, 0.02997768169185607), (211, 0.0), (212, 0.021018969931443202), (213, 0.0), (214, 0.010562287099451293), (215, 0.005424167641568159), (216, 0.005875916516725378), (217, 0.005942047820733578), (218, 0.0), (219, 0.0), (220, 0.08165949595572793), (221, 0.022316927387363614), (222, 0.010031572993899352), (223, 0.005524062612926345), (224, 0.01676844740753362), (225, 0.006593802152937176), (226, 0.0), (227, 0.0), (228, 0.02928674956241457), (229, 0.0), (230, 0.0), (231, 0.006378408948406624), (232, 0.0065413136198192385), (233, 0.006215435963942795), (234, 0.005303525537894204), (235, 0.02979186571650046), (236, 0.020035014743556408), (237, 0.00459592688823855), (238, 0.0), (239, 0.034031478673303174), (240, 0.03064576160395347), (241, 0.0772118897458301), (242, 0.0), (243, 0.023340065350694862), (244, 0.028235977750577526), (245, 0.0), (246, 0.0), (247, 0.0), (248, 0.0), (249, 0.00996194286878362), (250, 0.006216390921905541), (251, 0.028903921443862862), (252, 0.0), (253, 0.0), (254, 0.02347251706238516), (255, 0.0), (256, 0.0), (257, 0.0), (258, 0.006332361082792044), (259, 0.017688276612850194), (260, 0.07780437825002691), (261, 0.011615325827965137), (262, 0.012689573195775246), (263, 0.02223853902180361), (264, 0.03380533817579454), (265, 0.0), (266, 0.01352975097231263), (267, 0.0), (268, 0.0), (269, 0.019933601016312412), (270, 0.021576366079246793), (271, 0.02630039769543278), (272, 0.005948464062438258), (273, 0.0), (274, 0.0), (275, 0.030830774943638638), (276, 0.020298403862508634), (277, 0.02848127680785543), (278, 0.0), (279, 0.00524769001081597), (280, 0.0), (281, 0.024302132373536737), (282, 0.0), (283, 0.0), (284, 0.011079952180539544), (285, 0.019319156029562173), (286, 0.0), (287, 0.03143217493875925), (288, 0.010027462515445573), (289, 0.022768347293804076), (290, 0.06034910575046902), (291, 0.0052372236345287395), (292, 0.005993520201302113), (293, 0.004163635352295946), (294, 0.00939946992398887), (295, 0.023850538103315416), (296, 0.0), (297, 0.01192868993694908), (298, 0.005954746593542351), (299, 0.03288598286227943), (300, 0.011325803664441698), (301, 0.018217706635225935), (302, 0.0), (303, 0.01956832273718509), (304, 0.0), (305, 0.04788838150536772), (306, 0.0726239155302542), (307, 0.0), (308, 0.0), (309, 0.004619751546368595), (310, 0.016933391023221944), (311, 0.0), (312, 0.0), (313, 0.0), (314, 0.015445947740332394), (315, 0.006037577634126857), (316, 0.025656001801431315), (317, 0.0), (318, 0.0), (319, 0.00976879777595958), (320, 0.006359971811259299), (321, 0.006107652846552504), (322, 0.02722738605278443), (323, 0.10788010606588674), (324, 0.0052099442750338475), (325, 0.0), (326, 0.0), (327, 0.01080995411759762), (328, 0.05731537603675439), (329, 0.0), (330, 0.007956712195788203), (331, 0.0), (332, 0.004717574323204689), (333, 0.02437223184120117), (334, 0.005423476271130608), (335, 0.0), (336, 0.008468312667265237), (337, 0.0), (338, 0.005246358352755417), (339, 0.0), (340, 0.012888773454986447), (341, 0.012239881065965021), (342, 0.006064780101981099), (343, 0.0), (344, 0.005942247987276208), (345, 0.005342353339945284), (346, 0.005607590212541703), (347, 0.0056727647212393515), (348, 0.005570539303246494), (349, 0.0), (350, 0.05378889639398855), (351, 0.0), (352, 0.005194183798035689), (353, 0.0), (354, 0.005218673625979347), (355, 0.0), (356, 0.005386748787063563), (357, 0.01013891736308418), (358, 0.0), (359, 0.0), (360, 0.02134658343279957), (361, 0.0), (362, 0.0), (363, 0.0), (364, 0.0), (365, 0.0), (366, 0.0), (367, 0.011075924613934862), (368, 0.044727151299272884), (369, 0.030251587571087583), (370, 0.0211638972107694), (371, 0.04169763023766507), (372, 0.005343984583414865), (373, 0.0), (374, 0.0), (375, 0.006337935464662932), (376, 0.0), (377, 0.0), (378, 0.0), (379, 0.00556207187185451), (380, 0.030326700372260266), (381, 0.004610818782800642), (382, 0.00572986558424575), (383, 0.0), (384, 0.0), (385, 0.023543323513938154), (386, 0.0067720601341045225), (387, 0.0), (388, 0.005401490883913289), (389, 0.0), (390, 0.017182894529536027), (391, 0.0), (392, 0.0), (393, 0.0), (394, 0.015064796886512938), (395, 0.0), (396, 0.020728283941424626), (397, 0.01678100860077038), (398, 0.0), (399, 0.0), (400, 0.0), (401, 0.0), (402, 0.0), (403, 0.009855442786647831), (404, 0.0), (405, 0.0), (406, 0.0), (407, 0.013656157526196379), (408, 0.02555663437812661), (409, 0.005382126686093898), (410, 0.005136214140712747), (411, 0.00529683750464103), (412, 0.009244040770330322), (413, 0.0), (414, 0.0), (415, 0.0), (416, 0.0), (417, 0.005691748017028791), (418, 0.041685629608110814), (419, 0.0), (420, 0.0), (421, 0.0), (422, 0.03780658452582925), (423, 0.0), (424, 0.013384435112204263), (425, 0.03761178337683183), (426, 0.025201366630053713), (427, 0.005642416906771385), (428, 0.010402009626732036), (429, 0.022395828247729434), (430, 0.0), (431, 0.0), (432, 0.0), (433, 0.0), (434, 0.06024375717970974), (435, 0.022355549730593446), (436, 0.0), (437, 0.0), (438, 0.0), (439, 0.005613959984146941), (440, 0.0), (441, 0.03687032960342569), (442, 0.005254261022550566), (443, 0.2106645906990585), (444, 0.0), (445, 0.0), (446, 0.011816142681896655), (447, 0.021457427903503967), (448, 0.006689576058161178), (449, 0.0), (450, 0.022774420215938455), (451, 0.006066524795256589), (452, 0.013487966506830975), (453, 0.0), (454, 0.00522757585498904), (455, 0.015116442044635902), (456, 0.0), (457, 0.0), (458, 0.031203942272638886), (459, 0.0), (460, 0.01118283456565236), (461, 0.10066196683414194), (462, 0.0), (463, 0.060375914531736), (464, 0.0), (465, 0.0), (466, 0.0), (467, 0.006098618630544967), (468, 0.005765737506861656), (469, 0.009836196901167424), (470, 0.0), (471, 0.0), (472, 0.005995861901890541), (473, 0.0), (474, 0.0), (475, 0.0), (476, 0.0), (477, 0.00970788767097146), (478, 0.0), (479, 0.0), (480, 0.0), (481, 0.0), (482, 0.012494307672488185), (483, 0.02756295590747113), (484, 0.0), (485, 0.02287291693524576), (486, 0.01663787771203321), (487, 0.0), (488, 0.0), (489, 0.0), (490, 0.011775625517092846), (491, 0.11313470939786754), (492, 0.01119988358954923), (493, 0.0), (494, 0.0724293238950098), (495, 0.07168806612556503), (496, 0.0579940269625603), (497, 0.04560318712416236), (498, 0.006238341132096122), (499, 0.0), (500, 0.036992431526555763), (501, 0.025357388795871336), (502, 0.0217759582207496), (503, 0.0), (504, 0.005780182362918259), (505, 0.0), (506, 0.0), (507, 0.005531341167230218), (508, 0.09605930211565826), (509, 0.0), (510, 0.004525021591077429), (511, 0.005225079739081432), (512, 0.007040158622976177), (513, 0.006552821183036801), (514, 0.006857553273237847), (515, 0.02531005090439995), (516, 0.027721382962888154), (517, 0.03782201833025014), (518, 0.0), (519, 0.005546392595491907), (520, 0.0), (521, 0.005683498354717012), (522, 0.0), (523, 0.005788467956592667), (524, 0.010452871275265004), (525, 0.005850636176666985), (526, 0.0), (527, 0.0), (528, 0.006252057766162071), (529, 0.0057167224751907665), (530, 0.031815309965480335), (531, 0.0), (532, 0.006033726638057449), (533, 0.031114667639135642), (534, 0.05255989156140996), (535, 0.0), (536, 0.0), (537, 0.0068495637333221395), (538, 0.009923175170010195), (539, 0.006155938014782082), (540, 0.016578505342051554), (541, 0.011451107652375541), (542, 0.015581552803644753), (543, 0.02214440587002785), (544, 0.022399147228172853), (545, 0.0049531258845140055), (546, 0.0), (547, 0.036384955057134946), (548, 0.0057040149648908845), (549, 0.005359466208105074), (550, 0.006684645863809672), (551, 0.0), (552, 0.0), (553, 0.008173144532245545), (554, 0.0060739096612095235), (555, 0.02407325967067271), (556, 0.0), (557, 0.0), (558, 0.0), (559, 0.0), (560, 0.01205130156561009), (561, 0.021680818569820078), (562, 0.004419404517575798), (563, 0.0), (564, 0.0704643717481814), (565, 0.005598814307312663), (566, 0.028221687858878245), (567, 0.005973803655499912), (568, 0.022956496810602012), (569, 0.010901822704133845), (570, 0.007934975522009537), (571, 0.08592566061568524), (572, 0.0061674068037360155), (573, 0.012287997501315534), (574, 0.0), (575, 0.005220937596834588), (576, 0.0), (577, 0.06627446372851753), (578, 0.06466436667225667), (579, 0.0), (580, 0.0), (581, 0.03493822437815299), (582, 0.014061036360995934), (583, 0.005148224483159206), (584, 0.022497799448214364), (585, 0.005780536458448294), (586, 0.0), (587, 0.0), (588, 0.0), (589, 0.0), (590, 0.0109315657497854), (591, 0.0), (592, 0.006267820678162787), (593, 0.0), (594, 0.010622961151144323), (595, 0.006587336270995172), (596, 0.0), (597, 0.015217147806030944), (598, 0.0), (599, 0.006483491978769242), (600, 0.006340101441320959), (601, 0.06687630160236878), (602, 0.005370503399567925), (603, 0.0), (604, 0.0), (605, 0.0), (606, 0.0), (607, 0.0), (608, 0.0), (609, 0.018368497640165463), (610, 0.005675726274268651), (611, 0.0), (612, 0.0), (613, 0.1540992307296104), (614, 0.01368145633986683), (615, 0.006165989351629235), (616, 0.0), (617, 0.0), (618, 0.005510526783161337), (619, 0.006027405022732658), (620, 0.020430907653357904), (621, 0.005244283772093449), (622, 0.02203888567546782), (623, 0.0), (624, 0.0), (625, 0.0), (626, 0.0), (627, 0.0), (628, 0.0), (629, 0.01883543026630274), (630, 0.0), (631, 0.006383882349691196), (632, 0.005745290330924225), (633, 0.0), (634, 0.0), (635, 0.055584803845624906), (636, 0.0), (637, 0.0), (638, 0.0), (639, 0.010083257167135823), (640, 0.015356538975794833), (641, 0.0), (642, 0.0), (643, 0.02575715628321014), (644, 0.006310742427293382), (645, 0.0), (646, 0.0), (647, 0.0), (648, 0.0), (649, 0.0), (650, 0.0), (651, 0.06488335894998883), (652, 0.0), (653, 0.03416766567235902), (654, 0.03454434798896105), (655, 0.0), (656, 0.006434850354739091), (657, 0.01514513806555818), (658, 0.02502905634746144), (659, 0.0), (660, 0.0), (661, 0.005851918228314139), (662, 0.0), (663, 0.029694287494608333), (664, 0.01579655465748512), (665, 0.0), (666, 0.013105625211998085), (667, 0.02298220391989541), (668, 0.0504317420905672), (669, 0.050231103526796675), (670, 0.0074287015263490574), (671, 0.0), (672, 0.011043902952168262), (673, 0.006619083590316332), (674, 0.006262445669148497), (675, 0.022817679604611438), (676, 0.02054119622038077), (677, 0.0061406437163755365), (678, 0.0), (679, 0.0), (680, 0.0), (681, 0.0), (682, 0.031032591812995503), (683, 0.04935141832493621), (684, 0.03473653352257983), (685, 0.03336446348462585), (686, 0.030040156791816278), (687, 0.019973864356324478), (688, 0.006772408109256347), (689, 0.0), (690, 0.011447295341755485), (691, 0.009351053997471045), (692, 0.03298022135427353), (693, 0.0), (694, 0.0), (695, 0.019095417818358888), (696, 0.0), (697, 0.0), (698, 0.0), (699, 0.010066217759852239), (700, 0.006042591835242426), (701, 0.030227856279312494), (702, 0.0), (703, 0.0), (704, 0.0060090144117734895), (705, 0.0), (706, 0.014240005344853823), (707, 0.0), (708, 0.0), (709, 0.0), (710, 0.0), (711, 0.0), (712, 0.047668070176723185), (713, 0.0), (714, 0.00623192976599293), (715, 0.0066648370153636425), (716, 0.0068480364907691806), (717, 0.005937992287095917), (718, 0.011912524629565751), (719, 0.019386875955293696), (720, 0.0), (721, 0.013894615949708717), (722, 0.005109975853538669), (723, 0.019732179659231977), (724, 0.0), (725, 0.010104348986911418), (726, 0.00958772071380235), (727, 0.03811378891157348), (728, 0.00656338404911597), (729, 0.006732315502690397), (730, 0.0), (731, 0.016339943618245558), (732, 0.0), (733, 0.02845773200821572), (734, 0.0), (735, 0.0), (736, 0.005690250273952752), (737, 0.006166880360668841), (738, 0.009700686421787386), (739, 0.0), (740, 0.0), (741, 0.0), (742, 0.016511642099126034), (743, 0.0), (744, 0.0051655744047918815), (745, 0.07634568104701209), (746, 0.0), (747, 0.006136687033913167), (748, 0.01230386626777615), (749, 0.0175034430050797), (750, 0.0), (751, 0.013892147688117694), (752, 0.012301037061395913), (753, 0.03119873560834897), (754, 0.0), (755, 0.0), (756, 0.020982812356515765), (757, 0.030838959930819438), (758, 0.0), (759, 0.0), (760, 0.025072981760603942), (761, 0.0), (762, 0.009868457296806733), (763, 0.016391127204573745), (764, 0.016621830442371626), (765, 0.02240344015009466), (766, 0.0), (767, 0.0), (768, 0.011234815404036232), (769, 0.0056464860465412145), (770, 0.0), (771, 0.0), (772, 0.026575420696529174), (773, 0.005447089723548722), (774, 0.0), (775, 0.008918781877260478), (776, 0.011054074056543906), (777, 0.0), (778, 0.0), (779, 0.010456237122330833), (780, 0.010970451893002331), (781, 0.005936151880416692), (782, 0.0), (783, 0.0), (784, 0.0), (785, 0.011256875914018789), (786, 0.0), (787, 0.007133735953967413), (788, 0.005236026372775561), (789, 0.009169840034389436), (790, 0.025943005118057704), (791, 0.0), (792, 0.0793800990404919), (793, 0.006367572980630094), (794, 0.0), (795, 0.05660630996888794), (796, 0.0), (797, 0.0), (798, 0.010824141709358925), (799, 0.020960614827817085), (800, 0.005509560430587758), (801, 0.01928931426521459), (802, 0.0), (803, 0.02063361892548398), (804, 0.005640147945490908), (805, 0.0), (806, 0.02123825767916866), (807, 0.00455097937425953), (808, 0.0), (809, 0.03399604062431222), (810, 0.0051787225542714865), (811, 0.0), (812, 0.0), (813, 0.013063433253015318), (814, 0.0), (815, 0.0), (816, 0.018653815479073996), (817, 0.0), (818, 0.0), (819, 0.0), (820, 0.005166768731698984), (821, 0.011806842262773235), (822, 0.011705413450038981), (823, 0.0), (824, 0.0), (825, 0.018217338220008362), (826, 0.006636597628272959), (827, 0.026063682310947675), (828, 0.02035204371728045), (829, 0.06600465213944773), (830, 0.012398475535634484), (831, 0.0), (832, 0.011944121321177996), (833, 0.02040193574663213), (834, 0.0), (835, 0.0), (836, 0.0), (837, 0.017033388523893165), (838, 0.0), (839, 0.0), (840, 0.016590266713748244), (841, 0.0), (842, 0.06823419703734324), (843, 0.0), (844, 0.0), (845, 0.0063593513086529045), (846, 0.011507943648144383), (847, 0.0063579494062704954), (848, 0.00658896678500187), (849, 0.006448377122577027), (850, 0.0), (851, 0.005600024738748959), (852, 0.016479290723321292), (853, 0.020888411777865264), (854, 0.011506934376472462), (855, 0.0), (856, 0.02166377987575207), (857, 0.0), (858, 0.0), (859, 0.0), (860, 0.024711058566269484), (861, 0.0), (862, 0.03249901441396642), (863, 0.0722410525806215), (864, 0.011863743845247863), (865, 0.0), (866, 0.031538084027233265), (867, 0.0), (868, 0.005848397930062313), (869, 0.027681885881489985), (870, 0.02625715500400984), (871, 0.0), (872, 0.0065557705132605545), (873, 0.0), (874, 0.02979531520078733), (875, 0.006566441383062438), (876, 0.0), (877, 0.0), (878, 0.04323933893202107), (879, 0.04488781847170914), (880, 0.0), (881, 0.013327524971522866), (882, 0.0), (883, 0.005508671349009546), (884, 0.0), (885, 0.005137533962288349), (886, 0.0), (887, 0.0), (888, 0.0), (889, 0.0), (890, 0.005969085359579786), (891, 0.0410937155815331), (892, 0.0), (893, 0.0), (894, 0.00563454205148885), (895, 0.010495646122331063), (896, 0.02280850585991839), (897, 0.0057515621886035755), (898, 0.005087361354335233), (899, 0.005236203476005462), (900, 0.0), (901, 0.0), (902, 0.006255036841268456), (903, 0.0), (904, 0.03361963519363605), (905, 0.03142184760140598), (906, 0.06734961186361763), (907, 0.005371801076515793), (908, 0.03426804940065372), (909, 0.011913095399789325), (910, 0.0), (911, 0.016460799871237383), (912, 0.01055168315539401), (913, 0.08389739894978757), (914, 0.014659440549503858), (915, 0.03144009215351273), (916, 0.019693441453881414), (917, 0.0), (918, 0.03431100315324843), (919, 0.012991877396816884), (920, 0.0), (921, 0.0), (922, 0.0), (923, 0.01204598077989601), (924, 0.004828217626793465), (925, 0.0), (926, 0.0), (927, 0.0), (928, 0.04642276514415107), (929, 0.009131975798251604), (930, 0.005954224876786984), (931, 0.027616687067934898), (932, 0.0), (933, 0.0), (934, 0.05831283557076971), (935, 0.016427605265206445), (936, 0.0), (937, 0.02535554558048361), (938, 0.005623653189828238), (939, 0.02025884562874657), (940, 0.0), (941, 0.02935332952849164), (942, 0.01756332923087163), (943, 0.01283963899913304), (944, 0.0), (945, 0.011657561546805507), (946, 0.006296180887569363), (947, 0.039495609381175634), (948, 0.04095510943039855), (949, 0.013846729732886845), (950, 0.030452884361903524), (951, 0.0), (952, 0.0), (953, 0.0), (954, 0.04293028584366381), (955, 0.0), (956, 0.006596764499768044), (957, 0.005140441203828406), (958, 0.0), (959, 0.0), (960, 0.0), (961, 0.0), (962, 0.010998996500644486), (963, 0.011111170113293548), (964, 0.0), (965, 0.00637204300028023), (966, 0.08526172329695046), (967, 0.06060279510546984), (968, 0.0), (969, 0.0), (970, 0.0), (971, 0.005776913456528207), (972, 0.0), (973, 0.0055779641232519455), (974, 0.011199577398447545), (975, 0.0), (976, 0.02215542868353876), (977, 0.0), (978, 0.005103966238417459), (979, 0.0), (980, 0.0), (981, 0.015846042440065853), (982, 0.006083253998426403), (983, 0.0), (984, 0.048636154441750165), (985, 0.0), (986, 0.029315258577490656), (987, 0.0), (988, 0.026233080830949287), (989, 0.02065802844236867), (990, 0.006558585234967429), (991, 0.046415984712482566), (992, 0.019348522948228718), (993, 0.0056770624358262614), (994, 0.028187159209123933), (995, 0.010867075079125585), (996, 0.008564619379572348), (997, 0.06643875790451874), (998, 0.0), (999, 0.0), (1000, 0.030436597935203622), (1001, 0.01673228272554287), (1002, 0.0222626247190304), (1003, 0.0), (1004, 0.0), (1005, 0.013936589090523425), (1006, 0.005904053435986957), (1007, 0.006743274993760524), (1008, 0.0), (1009, 0.0), (1010, 0.005204997485544564), (1011, 0.013016725473607918), (1012, 0.02719808713502105), (1013, 0.0), (1014, 0.00708663129985413), (1015, 0.006434563951104232), (1016, 0.02409200429246572), (1017, 0.01811140488645055), (1018, 0.023451727258061363), (1019, 0.0), (1020, 0.0), (1021, 0.0), (1022, 0.005619398026760195), (1023, 0.0069721535055439566), (1024, 0.028705562159645984), (1025, 0.005204928531694705), (1026, 0.0), (1027, 0.0), (1028, 0.0), (1029, 0.010611117488079712), (1030, 0.0), (1031, 0.006471929358137741), (1032, 0.0), (1033, 0.010619263074941392), (1034, 0.0), (1035, 0.06546202816255908), (1036, 0.0), (1037, 0.0), (1038, 0.0), (1039, 0.010017980586831773), (1040, 0.0), (1041, 0.010624051437973176), (1042, 0.0), (1043, 0.0), (1044, 0.04478977118506368), (1045, 0.006336260716132136), (1046, 0.010282403101632726), (1047, 0.0), (1048, 0.005810226526680203), (1049, 0.0), (1050, 0.018941896203279598), (1051, 0.0), (1052, 0.0052690624003723105), (1053, 0.025301579116228587), (1054, 0.01095786197247529), (1055, 0.0), (1056, 0.006367837546630991), (1057, 0.01241970929386424), (1058, 0.025457524027117952), (1059, 0.005571972309242338), (1060, 0.005494051597815155), (1061, 0.019969567220668692), (1062, 0.0), (1063, 0.026621606136126276), (1064, 0.026033983453623028), (1065, 0.04288252297857627), (1066, 0.039458446453678644), (1067, 0.0), (1068, 0.025894877567105637), (1069, 0.013571390290759962), (1070, 0.0), (1071, 0.017778250788488496), (1072, 0.0), (1073, 0.0), (1074, 0.026989573024627882), (1075, 0.0), (1076, 0.005770061979561912), (1077, 0.005736392264635697), (1078, 0.0), (1079, 0.0), (1080, 0.0), (1081, 0.0), (1082, 0.0059098922685073395), (1083, 0.0), (1084, 0.011367919373334987), (1085, 0.0), (1086, 0.0), (1087, 0.011164279741857235), (1088, 0.0), (1089, 0.012840131368901265), (1090, 0.03926066801297391), (1091, 0.0068136901494967265), (1092, 0.005629929769024663), (1093, 0.0), (1094, 0.0), (1095, 0.005090007504113007), (1096, 0.031801985028268566), (1097, 0.0), (1098, 0.0), (1099, 0.030068405969224547), (1100, 0.0), (1101, 0.024341484645083993), (1102, 0.06686572488020653), (1103, 0.0), (1104, 0.01880298188552192), (1105, 0.011535514283221079), (1106, 0.015921393910640624), (1107, 0.0), (1108, 0.006412306113730491), (1109, 0.006324194066704933), (1110, 0.0), (1111, 0.09533145011623899), (1112, 0.05090402749255944), (1113, 0.011482117100753465), (1114, 0.00521480383578517), (1115, 0.05780306391903657), (1116, 0.022263986515048635), (1117, 0.0), (1118, 0.011045282361877264), (1119, 0.02355534579718967), (1120, 0.00494541889478346), (1121, 0.0), (1122, 0.006385399383157836), (1123, 0.06793036932086159), (1124, 0.0), (1125, 0.05734834474814534), (1126, 0.0), (1127, 0.11432147750237887), (1128, 0.04771959391725378), (1129, 0.011681316002704879), (1130, 0.005449324932048878), (1131, 0.0), (1132, 0.07219105688757932), (1133, 0.0), (1134, 0.016087387914786984), (1135, 0.005934338117136624), (1136, 0.00506429124514314), (1137, 0.02937110004358388), (1138, 0.006123674580200795), (1139, 0.0), (1140, 0.005887746142113747), (1141, 0.030168351870570924), (1142, 0.0), (1143, 0.0), (1144, 0.0), (1145, 0.0), (1146, 0.005758572596733667), (1147, 0.0), (1148, 0.02434307043672439), (1149, 0.0), (1150, 0.006420097937894979), (1151, 0.04449371352679575), (1152, 0.0), (1153, 0.004609890030010092), (1154, 0.005922422993690784), (1155, 0.005810468968561222), (1156, 0.0), (1157, 0.005201758153280863), (1158, 0.0), (1159, 0.012543067834485113), (1160, 0.049683260074433036), (1161, 0.0), (1162, 0.030278055420321366), (1163, 0.012040128580170393), (1164, 0.016087757246805612), (1165, 0.0), (1166, 0.0), (1167, 0.0), (1168, 0.006418635718212539), (1169, 0.0), (1170, 0.0), (1171, 0.005224447426210876), (1172, 0.0), (1173, 0.01097925268669105), (1174, 0.00660236493233852), (1175, 0.0), (1176, 0.0), (1177, 0.0), (1178, 0.004883840634853292), (1179, 0.012093409139354295), (1180, 0.0), (1181, 0.0), (1182, 0.0), (1183, 0.02625716388291924), (1184, 0.03764384456280201), (1185, 0.02831659990393904), (1186, 0.0), (1187, 0.0), (1188, 0.0), (1189, 0.0), (1190, 0.0), (1191, 0.01135116123404451), (1192, 0.011514420768152114), (1193, 0.0), (1194, 0.004954382547636932), (1195, 0.018108288005006235), (1196, 0.0), (1197, 0.010922158314446413), (1198, 0.0), (1199, 0.0), (1200, 0.011020478219950548), (1201, 0.0), (1202, 0.0), (1203, 0.0), (1204, 0.0), (1205, 0.0), (1206, 0.0), (1207, 0.005955273312834997), (1208, 0.006935143022751935), (1209, 0.0), (1210, 0.07131187585451546), (1211, 0.0), (1212, 0.005320248343132377), (1213, 0.0), (1214, 0.014925003483216888), (1215, 0.004909807852444618), (1216, 0.03678407225374832), (1217, 0.0), (1218, 0.0), (1219, 0.010775169386300906), (1220, 0.011259581964859268), (1221, 0.004790338624723779), (1222, 0.0), (1223, 0.005800501741141301), (1224, 0.02273014625312542), (1225, 0.03666461240917167), (1226, 0.006106126294799922), (1227, 0.012227364374828818), (1228, 0.0), (1229, 0.0065071467995081135), (1230, 0.02650043924720629), (1231, 0.02069103674839031), (1232, 0.021794922937643825), (1233, 0.0), (1234, 0.02220456099693937), (1235, 0.0), (1236, 0.0392928090130949), (1237, 0.01898334699658712), (1238, 0.0), (1239, 0.00569563641419741), (1240, 0.006958603598822196), (1241, 0.01513522225711434), (1242, 0.0), (1243, 0.013087981092352097), (1244, 0.0063578407917174555), (1245, 0.0), (1246, 0.02343165359084154), (1247, 0.0), (1248, 0.02082587511268114), (1249, 0.010616029601818627), (1250, 0.0), (1251, 0.0), (1252, 0.027821198421896336), (1253, 0.03506762460554884), (1254, 0.01841877890763647), (1255, 0.011251378841655701), (1256, 0.0), (1257, 0.011675602515327121), (1258, 0.021982748871644253), (1259, 0.04406686193816853), (1260, 0.0), (1261, 0.0), (1262, 0.012171253054161802), (1263, 0.006026793326437869), (1264, 0.0), (1265, 0.013013105464672655), (1266, 0.018905699716916274), (1267, 0.005314939010259554), (1268, 0.0), (1269, 0.006230712017412546), (1270, 0.016145070908514414), (1271, 0.012216879289180848), (1272, 0.0), (1273, 0.005666811630580276), (1274, 0.01744709184642543), (1275, 0.03715309307152949), (1276, 0.02072332726467512), (1277, 0.0), (1278, 0.02953986942294147), (1279, 0.00475950455587816), (1280, 0.030126302154140635), (1281, 0.005592793474789869), (1282, 0.006103592067529499), (1283, 0.0), (1284, 0.0), (1285, 0.006163690820549315), (1286, 0.0), (1287, 0.0), (1288, 0.0), (1289, 0.0), (1290, 0.04850207546472457), (1291, 0.010637959263300871), (1292, 0.040228233037718525), (1293, 0.005977371414703161), (1294, 0.0), (1295, 0.07839994344788169), (1296, 0.00516948736579102), (1297, 0.0), (1298, 0.0), (1299, 0.012235343338644417), (1300, 0.08634526047734906), (1301, 0.010204924515307018), (1302, 0.006219046006405995), (1303, 0.0), (1304, 0.011195796744110842), (1305, 0.036113815854517076), (1306, 0.008354246815173523), (1307, 0.010811401905214079), (1308, 0.0052840115153135175), (1309, 0.005336597267488013), (1310, 0.005755444145902334), (1311, 0.0), (1312, 0.005065667092317376), (1313, 0.0), (1314, 0.031248665030316522), (1315, 0.006038174071472465), (1316, 0.0), (1317, 0.017964531702062535), (1318, 0.0), (1319, 0.011309722350486925), (1320, 0.022734157910419456), (1321, 0.06148927441197041), (1322, 0.006302761470314028), (1323, 0.0), (1324, 0.045456685303185425), (1325, 0.02656716436300841), (1326, 0.005124737564314835), (1327, 0.0), (1328, 0.029485256836908974), (1329, 0.047981374770138197), (1330, 0.0), (1331, 0.0), (1332, 0.02054505987383609), (1333, 0.07103367601387212), (1334, 0.021302570683499857), (1335, 0.006325163610372286), (1336, 0.0), (1337, 0.027022738613540168), (1338, 0.01182566623076381), (1339, 0.03422034869336039), (1340, 0.0), (1341, 0.08392262677145634), (1342, 0.0), (1343, 0.031744286580222096), (1344, 0.0), (1345, 0.0), (1346, 0.012442665768779386), (1347, 0.0), (1348, 0.024695970859775897), (1349, 0.006267072459907334), (1350, 0.03856157159365181), (1351, 0.004159294943949451), (1352, 0.010570993106076475), (1353, 0.0), (1354, 0.016028770575057034), (1355, 0.0), (1356, 0.0), (1357, 0.005796884624284366), (1358, 0.0), (1359, 0.0), (1360, 0.025776774530551636), (1361, 0.0), (1362, 0.0), (1363, 0.0), (1364, 0.02274411014901606), (1365, 0.009748203681938086), (1366, 0.0055776743355243985), (1367, 0.0), (1368, 0.011243004447165996), (1369, 0.060859107387344194), (1370, 0.0), (1371, 0.023234244708988324), (1372, 0.0), (1373, 0.005625598342582807), (1374, 0.0), (1375, 0.0), (1376, 0.0), (1377, 0.0284677990722557), (1378, 0.02128464091295535), (1379, 0.005363571293255162), (1380, 0.00646124854712902), (1381, 0.013710442803178673), (1382, 0.0), (1383, 0.0), (1384, 0.05758361378136828), (1385, 0.026203848980614782), (1386, 0.0), (1387, 0.04822554473629424), (1388, 0.022628236571624348), (1389, 0.0), (1390, 0.006045919907860472), (1391, 0.0), (1392, 0.0), (1393, 0.03527236711090471), (1394, 0.0049274341790489905), (1395, 0.03566386453105852), (1396, 0.012110371642917377), (1397, 0.0), (1398, 0.0071458944884370545), (1399, 0.0), (1400, 0.0), (1401, 0.012348051914962065), (1402, 0.005847775387710258), (1403, 0.0), (1404, 0.005399832407624314), (1405, 0.0), (1406, 0.027308777761022685), (1407, 0.0), (1408, 0.0), (1409, 0.0), (1410, 0.0), (1411, 0.005760985605875989), (1412, 0.036508457218085134), (1413, 0.06528922910131132), (1414, 0.0), (1415, 0.0), (1416, 0.020588515510216517), (1417, 0.021679705397163858), (1418, 0.009316224190133008), (1419, 0.027826799724681182), (1420, 0.011191713748853058), (1421, 0.0), (1422, 0.0), (1423, 0.010544689187610062), (1424, 0.0), (1425, 0.03762371790136656), (1426, 0.0), (1427, 0.0), (1428, 0.0), (1429, 0.0), (1430, 0.005336462324221441), (1431, 0.005540516757692418), (1432, 0.02936783005085299), (1433, 0.0), (1434, 0.0), (1435, 0.0), (1436, 0.03378003357864799), (1437, 0.007196600046489176), (1438, 0.0), (1439, 0.028085215921136556), (1440, 0.02773881828267699), (1441, 0.0), (1442, 0.011644607424090892), (1443, 0.039789579233990666), (1444, 0.0), (1445, 0.0), (1446, 0.0054909868712784745), (1447, 0.005816119164671042), (1448, 0.0), (1449, 0.0), (1450, 0.010488491316684369), (1451, 0.005355786550526317), (1452, 0.012762593290678007), (1453, 0.009598084585620552), (1454, 0.006579243023741159), (1455, 0.027452151082366035), (1456, 0.005176028383997224), (1457, 0.0), (1458, 0.005499191642993272), (1459, 0.032940779994942215), (1460, 0.03133639472871637), (1461, 0.005752348025420858), (1462, 0.0), (1463, 0.0), (1464, 0.00973723985328939), (1465, 0.004974768213227413), (1466, 0.007125690394760643), (1467, 0.03275398437630622), (1468, 0.011011341069449048), (1469, 0.006311757645617081), (1470, 0.0), (1471, 0.024884544287621442), (1472, 0.011206690280721413), (1473, 0.0), (1474, 0.0), (1475, 0.0), (1476, 0.01182038247760564), (1477, 0.005181831473312525), (1478, 0.005881873284991783), (1479, 0.0), (1480, 0.010839377578482271), (1481, 0.0), (1482, 0.005259239848964326), (1483, 0.006089326149018218), (1484, 0.00635452597962085), (1485, 0.0), (1486, 0.030310919088800185), (1487, 0.005301305247541203), (1488, 0.0), (1489, 0.0), (1490, 0.0), (1491, 0.030212658783034405), (1492, 0.03748510973467075), (1493, 0.0053782332107616335), (1494, 0.011509378070572462), (1495, 0.006032126467790614), (1496, 0.011432495495222121), (1497, 0.0), (1498, 0.02490141493438721), (1499, 0.0), (1500, 0.011113055700777775), (1501, 0.005693830958317791), (1502, 0.006354261752940431), (1503, 0.005208920866458023), (1504, 0.006325554907299047), (1505, 0.0), (1506, 0.04087638176085333), (1507, 0.0), (1508, 0.0), (1509, 0.003961037704612238), (1510, 0.011451904613449576), (1511, 0.012850527673460874), (1512, 0.03661615590460725), (1513, 0.006654927536276413), (1514, 0.06315893634277903), (1515, 0.011755743943669787), (1516, 0.006500696230578126), (1517, 0.011450904868563616), (1518, 0.0), (1519, 0.0), (1520, 0.006099856936572603), (1521, 0.005223141244540496), (1522, 0.039332617456419146), (1523, 0.0), (1524, 0.004975343333971831), (1525, 0.005757686757943193), (1526, 0.005622687596130753), (1527, 0.027022632239621605), (1528, 0.0), (1529, 0.0), (1530, 0.010038893976051302), (1531, 0.0), (1532, 0.0), (1533, 0.0), (1534, 0.0), (1535, 0.010041494025055869), (1536, 0.00622769798242896), (1537, 0.012715926322408366), (1538, 0.0), (1539, 0.005113812572227135), (1540, 0.04221392445123983), (1541, 0.0), (1542, 0.05037017062128597), (1543, 0.0), (1544, 0.03797402205687296), (1545, 0.005947696303298747), (1546, 0.010635143646775076), (1547, 0.007243621235647705), (1548, 0.007100464162740387), (1549, 0.0), (1550, 0.0), (1551, 0.043421535583548186), (1552, 0.026828978337997293), (1553, 0.009933172680135481), (1554, 0.006715671821597785), (1555, 0.005264848426497178), (1556, 0.011371481090055612), (1557, 0.0), (1558, 0.0), (1559, 0.004898649068550083), (1560, 0.007031536151725057), (1561, 0.0), (1562, 0.0), (1563, 0.0), (1564, 0.012544174654025696), (1565, 0.0), (1566, 0.0), (1567, 0.005620818183811071), (1568, 0.0052144023286197945), (1569, 0.010507967088569456), (1570, 0.006648047837815041), (1571, 0.0), (1572, 0.028858353776343895), (1573, 0.0743578247277353), (1574, 0.0), (1575, 0.0), (1576, 0.0051204362490009205), (1577, 0.012244816639694265), (1578, 0.0), (1579, 0.021523697192754487), (1580, 0.0), (1581, 0.023025866563352478), (1582, 0.0), (1583, 0.030632688094410283), (1584, 0.015596643547553572), (1585, 0.022266818314434746), (1586, 0.018612432278008444), (1587, 0.012441805433368966), (1588, 0.012177542362259477), (1589, 0.0), (1590, 0.0), (1591, 0.04434195541178565), (1592, 0.01739745310425835), (1593, 0.0), (1594, 0.012248219606768364), (1595, 0.01951270436419056), (1596, 0.0), (1597, 0.016979695552029436), (1598, 0.0), (1599, 0.034118057765039095), (1600, 0.0), (1601, 0.0), (1602, 0.012026369062777618), (1603, 0.0), (1604, 0.0061176302073842346), (1605, 0.0), (1606, 0.010867437707867944), (1607, 0.0), (1608, 0.01067719376599118), (1609, 0.0), (1610, 0.0), (1611, 0.0061812380645747496), (1612, 0.0), (1613, 0.005841481434257776), (1614, 0.0), (1615, 0.0), (1616, 0.0), (1617, 0.005486247744712585), (1618, 0.0), (1619, 0.0058826272984522365), (1620, 0.005607104168685191), (1621, 0.021113079353884977), (1622, 0.0), (1623, 0.0), (1624, 0.0), (1625, 0.0), (1626, 0.04391555667685297), (1627, 0.005633325417257296), (1628, 0.0), (1629, 0.021380904317510215), (1630, 0.041932211402897185), (1631, 0.0), (1632, 0.0), (1633, 0.0), (1634, 0.0), (1635, 0.0), (1636, 0.030100643164651202), (1637, 0.013996299638603252), (1638, 0.0), (1639, 0.0), (1640, 0.006392503838200495), (1641, 0.0), (1642, 0.005374258038549285), (1643, 0.028090837455547267), (1644, 0.0), (1645, 0.012190474054201494), (1646, 0.0), (1647, 0.0), (1648, 0.00874158526660191), (1649, 0.03691288480740826), (1650, 0.01036409504589161), (1651, 0.011255351958911959), (1652, 0.05065798316568636), (1653, 0.00617331802562312), (1654, 0.0), (1655, 0.0), (1656, 0.0), (1657, 0.01752451404979272), (1658, 0.0), (1659, 0.006599400022112715), (1660, 0.005892191338917327), (1661, 0.0), (1662, 0.0052944135035462685), (1663, 0.0), (1664, 0.0), (1665, 0.02638137107293048), (1666, 0.011069911650078892), (1667, 0.0), (1668, 0.01086201752117914), (1669, 0.0), (1670, 0.012959948142120854), (1671, 0.04251768644822914), (1672, 0.0), (1673, 0.0), (1674, 0.023902408428905758), (1675, 0.021300094895785084), (1676, 0.0), (1677, 0.0), (1678, 0.023811520541907886), (1679, 0.006067708947134487), (1680, 0.02564843351832562), (1681, 0.013340537799700486), (1682, 0.005310262965551253), (1683, 0.04181422126428932), (1684, 0.0), (1685, 0.0), (1686, 0.0), (1687, 0.006677399222045883), (1688, 0.005844888546689382), (1689, 0.005785851873175026), (1690, 0.0), (1691, 0.004771925920028508), (1692, 0.005540006571999348), (1693, 0.0), (1694, 0.018751337580445504), (1695, 0.004505095211019635), (1696, 0.006073043680959441), (1697, 0.01221751435366348), (1698, 0.014954085901606868), (1699, 0.0), (1700, 0.02316445620464793), (1701, 0.030206675316976198), (1702, 0.006199284316135555), (1703, 0.0), (1704, 0.006114537512402875), (1705, 0.029866644760958228), (1706, 0.0), (1707, 0.04588184736335456), (1708, 0.0071099341973124616), (1709, 0.02901382117264087), (1710, 0.0), (1711, 0.0), (1712, 0.0), (1713, 0.007240197224101201), (1714, 0.025554852908345936), (1715, 0.0), (1716, 0.02337162290251708), (1717, 0.0), (1718, 0.006051345484774641), (1719, 0.005123016847199678), (1720, 0.0), (1721, 0.017683832699244846), (1722, 0.0), (1723, 0.0), (1724, 0.0), (1725, 0.006474826491665081), (1726, 0.005733088548512014), (1727, 0.0291458441715657), (1728, 0.005137449074618128), (1729, 0.0), (1730, 0.0), (1731, 0.0), (1732, 0.006558223804822568), (1733, 0.006245318880863166), (1734, 0.0064862064171452094), (1735, 0.09961419143288812), (1736, 0.02949238405420023), (1737, 0.0), (1738, 0.017226064090186052), (1739, 0.019586331641084028), (1740, 0.00623567678940967), (1741, 0.026237469751711193), (1742, 0.005472303779795549), (1743, 0.004795882985317224), (1744, 0.0), (1745, 0.005474998100527575), (1746, 0.005312051471272831), (1747, 0.0), (1748, 0.0), (1749, 0.006047773953014214), (1750, 0.0), (1751, 0.005790461536022993), (1752, 0.0), (1753, 0.0), (1754, 0.036478389518759674), (1755, 0.011177024889563692), (1756, 0.01667168966952336), (1757, 0.0), (1758, 0.05518251593594049), (1759, 0.0), (1760, 0.010956710440114639), (1761, 0.0), (1762, 0.005102611372210782), (1763, 0.0), (1764, 0.010591437153311385), (1765, 0.0), (1766, 0.0), (1767, 0.0), (1768, 0.005669409457320355), (1769, 0.0), (1770, 0.0), (1771, 0.0), (1772, 0.010621185993999825), (1773, 0.0), (1774, 0.016444788275971352), (1775, 0.0), (1776, 0.01984076179983166), (1777, 0.0), (1778, 0.005399824792460012), (1779, 0.0), (1780, 0.0), (1781, 0.014737051684607112), (1782, 0.0054677827475469055), (1783, 0.0), (1784, 0.005140291396875643), (1785, 0.0), (1786, 0.0), (1787, 0.010574188584294934), (1788, 0.021757869757680952), (1789, 0.04680345171910477), (1790, 0.0), (1791, 0.035741168178529556), (1792, 0.0), (1793, 0.005429677923650748), (1794, 0.005589711700815071), (1795, 0.0), (1796, 0.00591730032638832), (1797, 0.03700966200912012), (1798, 0.012958963260374661), (1799, 0.01947223750393122), (1800, 0.0), (1801, 0.0), (1802, 0.015424198634282835), (1803, 0.0), (1804, 0.0), (1805, 0.0), (1806, 0.02454324024050227), (1807, 0.0), (1808, 0.005192220800764894), (1809, 0.005602243649692725), (1810, 0.04389106480401688), (1811, 0.0), (1812, 0.0128848668182457), (1813, 0.0), (1814, 0.047967837973312215), (1815, 0.031603473488561434), (1816, 0.02430307246619756), (1817, 0.005200847958868958), (1818, 0.011129847557095939), (1819, 0.0), (1820, 0.0), (1821, 0.05768444654677207), (1822, 0.006770153024218737), (1823, 0.010849373136942226), (1824, 0.005331022239590192), (1825, 0.010930727500456938), (1826, 0.0), (1827, 0.0), (1828, 0.005299119783533519), (1829, 0.0), (1830, 0.0), (1831, 0.0), (1832, 0.022180495179784498), (1833, 0.0), (1834, 0.0), (1835, 0.0), (1836, 0.0), (1837, 0.0), (1838, 0.0), (1839, 0.0), (1840, 0.010946017629432966), (1841, 0.012735218926183813), (1842, 0.0), (1843, 0.0), (1844, 0.0), (1845, 0.01470600393957009), (1846, 0.006094641212151533), (1847, 0.006328174380978261), (1848, 0.10258463241972698), (1849, 0.0), (1850, 0.015418054333600165), (1851, 0.006046814190464355), (1852, 0.0), (1853, 0.028924071376049913), (1854, 0.020054211309762145), (1855, 0.0), (1856, 0.0), (1857, 0.005615063641448369), (1858, 0.04189904466291976), (1859, 0.041088104056769284), (1860, 0.0), (1861, 0.016306579764631162), (1862, 0.0), (1863, 0.018571583292135516), (1864, 0.0), (1865, 0.0), (1866, 0.0), (1867, 0.0), (1868, 0.0), (1869, 0.0), (1870, 0.005581386357033358), (1871, 0.0), (1872, 0.0), (1873, 0.0), (1874, 0.02271676911733436), (1875, 0.0), (1876, 0.006517826332862263), (1877, 0.0), (1878, 0.0), (1879, 0.0), (1880, 0.0), (1881, 0.02423253564851169), (1882, 0.0), (1883, 0.00959254985284259), (1884, 0.0), (1885, 0.0), (1886, 0.0050873488428120625), (1887, 0.006398644517406051), (1888, 0.005574422976533884), (1889, 0.0), (1890, 0.041103190012138864), (1891, 0.0), (1892, 0.0), (1893, 0.006068627377494006), (1894, 0.006739662224028282), (1895, 0.011118716297541121), (1896, 0.012858949910323271), (1897, 0.0), (1898, 0.005886886393865778), (1899, 0.0), (1900, 0.0), (1901, 0.006439102122740857), (1902, 0.0), (1903, 0.005171088025210271), (1904, 0.006751983642669927), (1905, 0.0), (1906, 0.01168582965698602), (1907, 0.006107556199303071), (1908, 0.005810066916544548), (1909, 0.0), (1910, 0.029410998289029742), (1911, 0.0), (1912, 0.0), (1913, 0.0), (1914, 0.005206783336475089), (1915, 0.011352439660047836), (1916, 0.0), (1917, 0.0), (1918, 0.0), (1919, 0.011793765007784127), (1920, 0.0), (1921, 0.03227818523679775), (1922, 0.08991790675632264), (1923, 0.0), (1924, 0.0), (1925, 0.01464817081996823), (1926, 0.0), (1927, 0.0), (1928, 0.0), (1929, 0.0), (1930, 0.012381943537547565), (1931, 0.006340803934921226), (1932, 0.0), (1933, 0.0), (1934, 0.005560063894620214), (1935, 0.016291131792499535), (1936, 0.006255124251614215), (1937, 0.027117312479822964), (1938, 0.0), (1939, 0.008047458806538276), (1940, 0.0), (1941, 0.00714993770758792), (1942, 0.021952212918706717), (1943, 0.0), (1944, 0.023591382737426808), (1945, 0.061371657982573165), (1946, 0.06985412287770919), (1947, 0.0), (1948, 0.07589954272308408), (1949, 0.028569987936206125), (1950, 0.0047501507324616095), (1951, 0.006010042129692105), (1952, 0.0061896707607298216), (1953, 0.011596507419554257), (1954, 0.0), (1955, 0.012730979149269812), (1956, 0.0), (1957, 0.009569559962901597), (1958, 0.0), (1959, 0.0), (1960, 0.0), (1961, 0.01778155358752527), (1962, 0.0), (1963, 0.0), (1964, 0.010217777436105547), (1965, 0.0), (1966, 0.0), (1967, 0.043355869691968786), (1968, 0.013253434701141226), (1969, 0.01751593459883887), (1970, 0.021253818206081885), (1971, 0.029560804794172932), (1972, 0.0), (1973, 0.011247936066411071), (1974, 0.0), (1975, 0.0), (1976, 0.00672159473410704), (1977, 0.005532480013215976), (1978, 0.0), (1979, 0.0), (1980, 0.0), (1981, 0.014754836705547232), (1982, 0.010441789463912915), (1983, 0.0), (1984, 0.005564670453465592), (1985, 0.04577168257873285), (1986, 0.0), (1987, 0.010767529493105197), (1988, 0.005423840630285498), (1989, 0.0), (1990, 0.005177133531903789), (1991, 0.0), (1992, 0.020105334564864245), (1993, 0.0), (1994, 0.005120656902013068), (1995, 0.0), (1996, 0.0), (1997, 0.029469788396714013), (1998, 0.07042974694729495), (1999, 0.0), (2000, 0.013927247625404163), (2001, 0.0), (2002, 0.0), (2003, 0.005745134922191772), (2004, 0.0), (2005, 0.010471753748945375), (2006, 0.0), (2007, 0.0), (2008, 0.0), (2009, 0.0), (2010, 0.005118948976719192), (2011, 0.02433486619957444), (2012, 0.013228818986838281), (2013, 0.0630258062505396), (2014, 0.0170007509957962), (2015, 0.006553545071160688), (2016, 0.035282247501862596), (2017, 0.005687281811288924), (2018, 0.04760397759777715), (2019, 0.0), (2020, 0.05993809638461314), (2021, 0.006775914228346183), (2022, 0.009321396060391954), (2023, 0.020167443064751617), (2024, 0.03895473596063153), (2025, 0.030743579489090515), (2026, 0.02091324337410913), (2027, 0.005610786009181475), (2028, 0.05680400155817599), (2029, 0.005474652017477618), (2030, 0.0), (2031, 0.021210080042952564), (2032, 0.006443757601116626), (2033, 0.005519395611762957), (2034, 0.0), (2035, 0.0), (2036, 0.010959132039745273), (2037, 0.02830186061240651), (2038, 0.0), (2039, 0.0), (2040, 0.029664696465756826), (2041, 0.0), (2042, 0.0), (2043, 0.015571488255147172), (2044, 0.019191031558615096), (2045, 0.011813663987960275), (2046, 0.0), (2047, 0.00490031870018083), (2048, 0.0), (2049, 0.0), (2050, 0.0), (2051, 0.0), (2052, 0.006093492669030301), (2053, 0.057925940574701726), (2054, 0.0), (2055, 0.06977834136815736), (2056, 0.005538659341238734), (2057, 0.0), (2058, 0.010752551977083233), (2059, 0.0), (2060, 0.0), (2061, 0.011765262904420634), (2062, 0.010707035671040975), (2063, 0.0), (2064, 0.008762251674272092), (2065, 0.03435796744669625), (2066, 0.006869508746143576), (2067, 0.006570124488388072), (2068, 0.011528388458605399), (2069, 0.0), (2070, 0.022956624778788643), (2071, 0.059975933729980814), (2072, 0.005867446430809796), (2073, 0.021532269069397154), (2074, 0.01011434291192749), (2075, 0.00788919054096613), (2076, 0.01817332173774762), (2077, 0.10517162572136564), (2078, 0.005010241170748438), (2079, 0.038028965541101155), (2080, 0.021860993047374124), (2081, 0.006429476257010727), (2082, 0.03088804121760254), (2083, 0.006465714804776651), (2084, 0.012819402536698922), (2085, 0.006590587016845453), (2086, 0.0), (2087, 0.0), (2088, 0.006575679716424114), (2089, 0.0), (2090, 0.0), (2091, 0.028767414481316863), (2092, 0.0), (2093, 0.0324386513148511), (2094, 0.03764220492281807), (2095, 0.0), (2096, 0.0), (2097, 0.03640684602039393), (2098, 0.0), (2099, 0.0), (2100, 0.0), (2101, 0.0), (2102, 0.011039821679865737), (2103, 0.00604247040073964), (2104, 0.0), (2105, 0.0), (2106, 0.0), (2107, 0.03196202943911077), (2108, 0.0), (2109, 0.0056435259773479325), (2110, 0.031159043162359963), (2111, 0.0), (2112, 0.029003822732665475), (2113, 0.08027799608302155), (2114, 0.014959629450233294), (2115, 0.0), (2116, 0.0), (2117, 0.00594336223332646), (2118, 0.007209919431635662), (2119, 0.01988096255860364), (2120, 0.0), (2121, 0.01172679865682492), (2122, 0.0), (2123, 0.0), (2124, 0.006394462851638366), (2125, 0.006309724051921954), (2126, 0.07350268043693066), (2127, 0.0), (2128, 0.005542265891375438), (2129, 0.0), (2130, 0.0), (2131, 0.033051588521130146), (2132, 0.0), (2133, 0.0), (2134, 0.013781301762058407), (2135, 0.0), (2136, 0.019223966035802398), (2137, 0.0), (2138, 0.0), (2139, 0.005851691460735613), (2140, 0.0), (2141, 0.0), (2142, 0.0), (2143, 0.0), (2144, 0.0), (2145, 0.005195157239164865), (2146, 0.0), (2147, 0.006011128869778146), (2148, 0.012295884062329643), (2149, 0.0), (2150, 0.005906665061700755), (2151, 0.0), (2152, 0.0), (2153, 0.0061040362380904946), (2154, 0.0), (2155, 0.0), (2156, 0.00502600733119508), (2157, 0.0), (2158, 0.030209858588717817), (2159, 0.0), (2160, 0.011150483523412162), (2161, 0.010140686683865712), (2162, 0.0), (2163, 0.0), (2164, 0.0070747017262829835), (2165, 0.0), (2166, 0.005940649985582484), (2167, 0.005569364852784799), (2168, 0.010606941947668577), (2169, 0.005693183624066924), (2170, 0.0), (2171, 0.0), (2172, 0.0), (2173, 0.0), (2174, 0.02645169184964485), (2175, 0.010702304140027662), (2176, 0.0), (2177, 0.015110434237347333), (2178, 0.02334414407211384), (2179, 0.0), (2180, 0.013474766322657716), (2181, 0.03651121119129655), (2182, 0.0), (2183, 0.0), (2184, 0.0059871927590667015), (2185, 0.005601352604132625), (2186, 0.0), (2187, 0.0), (2188, 0.007287401335841059), (2189, 0.0), (2190, 0.0), (2191, 0.0), (2192, 0.0), (2193, 0.005718358271231138), (2194, 0.0), (2195, 0.005539357093044275), (2196, 0.022686379772619933), (2197, 0.00529141419453524), (2198, 0.005708846532706597), (2199, 0.05032100684113002), (2200, 0.0), (2201, 0.0), (2202, 0.0), (2203, 0.0), (2204, 0.0048686992111345315), (2205, 0.06177125295830741), (2206, 0.026692649639670357), (2207, 0.0), (2208, 0.006482982720825425), (2209, 0.0), (2210, 0.047828847146274105), (2211, 0.004851597721520222), (2212, 0.02762053202601504), (2213, 0.0), (2214, 0.02340803638735258), (2215, 0.011130019163615196), (2216, 0.02083987354291202), (2217, 0.006328719838882298), (2218, 0.0061102177750825696), (2219, 0.0), (2220, 0.0), (2221, 0.02726234348964866), (2222, 0.018314361475789912), (2223, 0.0), (2224, 0.036127741404080496), (2225, 0.0), (2226, 0.0), (2227, 0.005493140327783942), (2228, 0.0), (2229, 0.0), (2230, 0.0), (2231, 0.0), (2232, 0.006045342267817961), (2233, 0.006494970677010864), (2234, 0.0), (2235, 0.022623562909004198), (2236, 0.010405195709197691), (2237, 0.06337031047708086), (2238, 0.0), (2239, 0.02287192825625577), (2240, 0.0), (2241, 0.006006062418060019), (2242, 0.0), (2243, 0.006758350070433123), (2244, 0.0), (2245, 0.016755941465338736), (2246, 0.005790337661060827), (2247, 0.0), (2248, 0.0), (2249, 0.0), (2250, 0.026457757159928846), (2251, 0.0), (2252, 0.01233255089607933), (2253, 0.014541737845710865), (2254, 0.02219764207998895), (2255, 0.0), (2256, 0.0), (2257, 0.0), (2258, 0.0), (2259, 0.00608546447303612), (2260, 0.0), (2261, 0.0), (2262, 0.005147130924353163), (2263, 0.006110931410549725), (2264, 0.019353489002802003), (2265, 0.0), (2266, 0.0), (2267, 0.0), (2268, 0.005711940748594051), (2269, 0.0), (2270, 0.0), (2271, 0.0), (2272, 0.011095271186943688), (2273, 0.031139860370927298), (2274, 0.029815361792312253), (2275, 0.03677682259040301), (2276, 0.02738043950301982), (2277, 0.01240805003109438), (2278, 0.005805115379452347), (2279, 0.021452532308881674), (2280, 0.02094048670268311), (2281, 0.0), (2282, 0.0), (2283, 0.0), (2284, 0.021667391998759944), (2285, 0.010205200473624469), (2286, 0.0), (2287, 0.010475343471310718), (2288, 0.0), (2289, 0.0), (2290, 0.0), (2291, 0.005339232782145924), (2292, 0.0), (2293, 0.0), (2294, 0.00543454654432735), (2295, 0.0), (2296, 0.034698457282977935), (2297, 0.0), (2298, 0.00605580131981469), (2299, 0.0), (2300, 0.0), (2301, 0.005214918212057777), (2302, 0.0), (2303, 0.005970092776130156), (2304, 0.0), (2305, 0.0), (2306, 0.0), (2307, 0.0), (2308, 0.0), (2309, 0.0), (2310, 0.0), (2311, 0.005301523795276052), (2312, 0.0), (2313, 0.0), (2314, 0.0), (2315, 0.00566073099639222), (2316, 0.028860206468633444), (2317, 0.005560862104108573), (2318, 0.04495675372495745), (2319, 0.012336959159142721), (2320, 0.013222009774495766), (2321, 0.0), (2322, 0.005470053961344437), (2323, 0.0), (2324, 0.0), (2325, 0.0), (2326, 0.00478825529027482), (2327, 0.0), (2328, 0.0), (2329, 0.0055478676213168345), (2330, 0.006442826912435391), (2331, 0.0), (2332, 0.0), (2333, 0.0), (2334, 0.028596626671828825), (2335, 0.0), (2336, 0.0), (2337, 0.0), (2338, 0.010188836598419316), (2339, 0.006397310802361336), (2340, 0.0), (2341, 0.0), (2342, 0.0), (2343, 0.0), (2344, 0.0), (2345, 0.012907094678724166), (2346, 0.023640965688664733), (2347, 0.0), (2348, 0.012933606434908325), (2349, 0.0), (2350, 0.0), (2351, 0.006685201512613789), (2352, 0.0), (2353, 0.006396606380500802), (2354, 0.0), (2355, 0.0), (2356, 0.006873867031074759), (2357, 0.0), (2358, 0.0), (2359, 0.0), (2360, 0.0), (2361, 0.0067740918498804675), (2362, 0.0), (2363, 0.015079084566622955), (2364, 0.0), (2365, 0.0), (2366, 0.0), (2367, 0.005273843686935253), (2368, 0.0), (2369, 0.0), (2370, 0.02886977731904414), (2371, 0.0), (2372, 0.0), (2373, 0.0), (2374, 0.0), (2375, 0.0), (2376, 0.00890482909808212), (2377, 0.004695593323942515), (2378, 0.007540999581936248), (2379, 0.0), (2380, 0.0), (2381, 0.006878771854947529), (2382, 0.0), (2383, 0.006806467633179177), (2384, 0.0), (2385, 0.0), (2386, 0.0), (2387, 0.012322139392247808), (2388, 0.0), (2389, 0.005634119191684919), (2390, 0.0), (2391, 0.0), (2392, 0.0), (2393, 0.0), (2394, 0.0), (2395, 0.0), (2396, 0.0), (2397, 0.0), (2398, 0.0044236083987927366), (2399, 0.005674526909734053), (2400, 0.0), (2401, 0.0), (2402, 0.0), (2403, 0.04564148107761813), (2404, 0.016104547045779394), (2405, 0.0), (2406, 0.025564430709970717), (2407, 0.0), (2408, 0.0), (2409, 0.005462456152705132), (2410, 0.0), (2411, 0.0), (2412, 0.05940672508513141), (2413, 0.02908093042487938), (2414, 0.005704064991813308), (2415, 0.007878912645946078), (2416, 0.005813547853248892), (2417, 0.0), (2418, 0.006159561251631375), (2419, 0.0), (2420, 0.0), (2421, 0.012001854258226889), (2422, 0.01133585847967675), (2423, 0.0), (2424, 0.005816927237885441), (2425, 0.0), (2426, 0.005659997457959975), (2427, 0.03447989213633559), (2428, 0.007410163670138211), (2429, 0.005944211732068305), (2430, 0.0055214849752386495), (2431, 0.0058813913623834415), (2432, 0.006024002816667825), (2433, 0.005642371293134139), (2434, 0.0), (2435, 0.0), (2436, 0.006245467554576039), (2437, 0.0), (2438, 0.0), (2439, 0.005531427009543617), (2440, 0.0), (2441, 0.0), (2442, 0.08283559284833064), (2443, 0.003848598199707146), (2444, 0.012236952244855773), (2445, 0.0), (2446, 0.005441075339545414), (2447, 0.023255510609693206), (2448, 0.0), (2449, 0.0), (2450, 0.0), (2451, 0.0), (2452, 0.01327092706895263), (2453, 0.0), (2454, 0.0), (2455, 0.015635560955089643), (2456, 0.0), (2457, 0.0), (2458, 0.0066022875548463625), (2459, 0.0072279067840225865), (2460, 0.0), (2461, 0.0), (2462, 0.0), (2463, 0.0), (2464, 0.07649729905088593), (2465, 0.0), (2466, 0.02931431550368682), (2467, 0.02705259146174415), (2468, 0.032618271602086996), (2469, 0.0), (2470, 0.07405073329751788), (2471, 0.0), (2472, 0.0), (2473, 0.0), (2474, 0.013633977341150277), (2475, 0.0), (2476, 0.0070412830967413785), (2477, 0.08654932151245395), (2478, 0.013552665435646255), (2479, 0.007375506854891317), (2480, 0.005549352333320849), (2481, 0.004803293015744349), (2482, 0.0), (2483, 0.0), (2484, 0.0), (2485, 0.012917441158880015), (2486, 0.024660370637342364), (2487, 0.050686704131275545), (2488, 0.0), (2489, 0.021761623262328868), (2490, 0.0), (2491, 0.005271906037789693), (2492, 0.011543024286564903), (2493, 0.006974428856478679), (2494, 0.005840397366756081), (2495, 0.0124624868815562), (2496, 0.0), (2497, 0.0), (2498, 0.011053003714607323), (2499, 0.0), (2500, 0.0), (2501, 0.04239583036604398), (2502, 0.0), (2503, 0.005655008205705155), (2504, 0.005898277791793502), (2505, 0.0), (2506, 0.006651249889910569), (2507, 0.0), (2508, 0.0), (2509, 0.00992230227319517), (2510, 0.012708348348512088), (2511, 0.0058324567101550205), (2512, 0.020577328625271618), (2513, 0.021607887901924798), (2514, 0.016071977971165354), (2515, 0.0), (2516, 0.0), (2517, 0.0), (2518, 0.006347815784155377), (2519, 0.0), (2520, 0.0), (2521, 0.007965523902868674), (2522, 0.029673734621530324), (2523, 0.0), (2524, 0.0), (2525, 0.005172188523785175), (2526, 0.0048026553795013135), (2527, 0.0), (2528, 0.0), (2529, 0.04075925050495457), (2530, 0.007639578989936566), (2531, 0.012448074653794454), (2532, 0.0), (2533, 0.0), (2534, 0.007864258447251355), (2535, 0.0), (2536, 0.0), (2537, 0.0), (2538, 0.0), (2539, 0.024000758812125968), (2540, 0.017458714179386242), (2541, 0.0), (2542, 0.0), (2543, 0.0), (2544, 0.004280018733832297), (2545, 0.0), (2546, 0.04185152117736077), (2547, 0.006991819363715337), (2548, 0.0), (2549, 0.006217176388846059), (2550, 0.012785375159925132), (2551, 0.0), (2552, 0.005322629965115391), (2553, 0.010946332741059531), (2554, 0.006436641394990654), (2555, 0.006789246797205642), (2556, 0.0), (2557, 0.0), (2558, 0.0), (2559, 0.00816468529303556), (2560, 0.006291107285823196), (2561, 0.013079464792535004), (2562, 0.008586401391447517), (2563, 0.0), (2564, 0.0), (2565, 0.012448683289239846), (2566, 0.0125229488207079), (2567, 0.0074714338858228365), (2568, 0.007774253162717061), (2569, 0.0), (2570, 0.0), (2571, 0.0), (2572, 0.0), (2573, 0.005184740201281902), (2574, 0.0), (2575, 0.013432640716446042), (2576, 0.006946909036436631), (2577, 0.0), (2578, 0.0), (2579, 0.0), (2580, 0.0), (2581, 0.014370608596977303), (2582, 0.011633002175695566), (2583, 0.0), (2584, 0.021386627230688363), (2585, 0.0), (2586, 0.012240667372928447), (2587, 0.005034803919637345), (2588, 0.0), (2589, 0.0), (2590, 0.0), (2591, 0.0), (2592, 0.0), (2593, 0.0), (2594, 0.0), (2595, 0.0), (2596, 0.0), (2597, 0.0), (2598, 0.0), (2599, 0.0), (2600, 0.008082358461388167), (2601, 0.0), (2602, 0.0189441003456379), (2603, 0.004858484261633165), (2604, 0.0), (2605, 0.0), (2606, 0.0), (2607, 0.019672320545188644), (2608, 0.0052149055285970174), (2609, 0.0), (2610, 0.005914563511382591), (2611, 0.005127510517353356), (2612, 0.005559844899153085), (2613, 0.0), (2614, 0.0), (2615, 0.005165555004742508), (2616, 0.01705252141725005), (2617, 0.028263767483977437), (2618, 0.0), (2619, 0.0), (2620, 0.0), (2621, 0.0), (2622, 0.02008479516631633), (2623, 0.0), (2624, 0.0), (2625, 0.020151398025007976), (2626, 0.006652808942494057), (2627, 0.015603802318642637), (2628, 0.0), (2629, 0.0), (2630, 0.012567802861552563), (2631, 0.005345318692661394), (2632, 0.033175810970573524), (2633, 0.018580924951551114), (2634, 0.0060002179504976775), (2635, 0.0), (2636, 0.004254797141448029), (2637, 0.0), (2638, 0.024112382861358212), (2639, 0.0), (2640, 0.012004568558191753), (2641, 0.07030984191777419), (2642, 0.037711223552687835), (2643, 0.0), (2644, 0.0), (2645, 0.042895011129312016), (2646, 0.00500155095637065), (2647, 0.006226439769445907), (2648, 0.0), (2649, 0.05852242450359495), (2650, 0.0), (2651, 0.0), (2652, 0.07037498232879044), (2653, 0.0), (2654, 0.005078584355751563), (2655, 0.0), (2656, 0.013828265621273605), (2657, 0.008508492897297725), (2658, 0.0), (2659, 0.008501128180111844), (2660, 0.015103832467427263), (2661, 0.0), (2662, 0.012697027782983435), (2663, 0.0), (2664, 0.0), (2665, 0.027418029896372452), (2666, 0.005383939494671815), (2667, 0.008646943733767612), (2668, 0.01798722814572589), (2669, 0.0), (2670, 0.007106098497265436), (2671, 0.0), (2672, 0.006970449911071797), (2673, 0.007087748799920358), (2674, 0.005951271036357687), (2675, 0.029060894019618734), (2676, 0.007135729822707648), (2677, 0.0), (2678, 0.0), (2679, 0.0), (2680, 0.016469361238244586), (2681, 0.0), (2682, 0.01076345323948057), (2683, 0.0), (2684, 0.0), (2685, 0.0), (2686, 0.0), (2687, 0.0), (2688, 0.0), (2689, 0.01239078545356116), (2690, 0.0), (2691, 0.012208768290610655), (2692, 0.0186619413561701), (2693, 0.0), (2694, 0.0), (2695, 0.04994532525914638), (2696, 0.0), (2697, 0.005148682862795416), (2698, 0.005548811360706359), (2699, 0.0), (2700, 0.0), (2701, 0.0), (2702, 0.0), (2703, 0.0), (2704, 0.0), (2705, 0.0), (2706, 0.011935077985073999), (2707, 0.007278764892307257), (2708, 0.0), (2709, 0.0), (2710, 0.006902606669066214), (2711, 0.031361819577123154), (2712, 0.005980626120569279), (2713, 0.028264828296009764), (2714, 0.10814022505736744), (2715, 0.0), (2716, 0.0), (2717, 0.0), (2718, 0.045251209769774446), (2719, 0.0), (2720, 0.013480715757578771), (2721, 0.01064101239889249), (2722, 0.0), (2723, 0.0), (2724, 0.01017382538939986), (2725, 0.005884348231438279), (2726, 0.0), (2727, 0.026100499167325632), (2728, 0.0), (2729, 0.012222334438823016), (2730, 0.014288605156172307), (2731, 0.0357512389518765), (2732, 0.0057977864690488155), (2733, 0.0), (2734, 0.004574044835206069), (2735, 0.0), (2736, 0.020278319331713018), (2737, 0.0), (2738, 0.021288431159577115), (2739, 0.022506837423419742), (2740, 0.04361459909059331), (2741, 0.019842662211984684), (2742, 0.02524815585579657), (2743, 0.0), (2744, 0.0), (2745, 0.0), (2746, 0.0), (2747, 0.0), (2748, 0.0), (2749, 0.03728774838552044), (2750, 0.0), (2751, 0.02594311803161201), (2752, 0.02092682586410501), (2753, 0.010460930566895175), (2754, 0.00695725058247273), (2755, 0.006234839186629999), (2756, 0.03882220775729556), (2757, 0.0), (2758, 0.0), (2759, 0.0), (2760, 0.0), (2761, 0.004802613059947106), (2762, 0.01031733451415597), (2763, 0.011130544529858148), (2764, 0.0), (2765, 0.010928565767645745), (2766, 0.009058202393760617), (2767, 0.0048953551984678165), (2768, 0.008539920475116673), (2769, 0.0), (2770, 0.0), (2771, 0.01070588237138342), (2772, 0.00735364235862521), (2773, 0.0), (2774, 0.019109342088042887), (2775, 0.0), (2776, 0.0), (2777, 0.032103684699513954), (2778, 0.007539227714253504), (2779, 0.026455780265743273), (2780, 0.02931342741389944), (2781, 0.0), (2782, 0.013008933877025095), (2783, 0.0), (2784, 0.06979452169604783), (2785, 0.0), (2786, 0.0), (2787, 0.017756355525678953), (2788, 0.006317572610712066), (2789, 0.0047790205037516265), (2790, 0.01850908934335784), (2791, 0.07540883157006208), (2792, 0.005782155889651527), (2793, 0.01142518173883943), (2794, 0.0), (2795, 0.05095799034864263), (2796, 0.0), (2797, 0.0), (2798, 0.005943462423188626), (2799, 0.0), (2800, 0.0), (2801, 0.004980170921115046), (2802, 0.0), (2803, 0.0057294571022867115), (2804, 0.0), (2805, 0.0), (2806, 0.0), (2807, 0.005753225899700265), (2808, 0.026622523300407756), (2809, 0.005920907408501608), (2810, 0.007135644106059083), (2811, 0.00664074786595621), (2812, 0.005693125167386944), (2813, 0.0), (2814, 0.012223806177641225), (2815, 0.06721065549701268), (2816, 0.005926737870555281), (2817, 0.01860884339250201), (2818, 0.008063557713706577), (2819, 0.006678219195829888), (2820, 0.005437610652446145), (2821, 0.0), (2822, 0.005402690945793063), (2823, 0.0), (2824, 0.0), (2825, 0.006071207745401784), (2826, 0.037627457645399334), (2827, 0.0357184202927179), (2828, 0.0), (2829, 0.0), (2830, 0.0), (2831, 0.0), (2832, 0.05216983229279624), (2833, 0.0), (2834, 0.0068787987455040675), (2835, 0.0), (2836, 0.0), (2837, 0.0), (2838, 0.0), (2839, 0.0), (2840, 0.006897365215885455), (2841, 0.006490337837677885), (2842, 0.004872549561205107), (2843, 0.006879729678714312), (2844, 0.019010067418556126), (2845, 0.0), (2846, 0.0), (2847, 0.006049108139340776), (2848, 0.0), (2849, 0.024111836522902066), (2850, 0.006094967886640836), (2851, 0.0), (2852, 0.0), (2853, 0.049961098437744836), (2854, 0.01302642623954422), (2855, 0.005167657481791398), (2856, 0.0), (2857, 0.0), (2858, 0.016583860255506844), (2859, 0.005395067724686502), (2860, 0.006681288263657706), (2861, 0.0), (2862, 0.011199187750283352), (2863, 0.0), (2864, 0.007702159631892916), (2865, 0.0), (2866, 0.0), (2867, 0.027819078392302736), (2868, 0.0), (2869, 0.014328709851726736), (2870, 0.0), (2871, 0.020080853074724875), (2872, 0.0), (2873, 0.006231769395478212), (2874, 0.019394651368203508), (2875, 0.0), (2876, 0.0), (2877, 0.0), (2878, 0.017530184583111532), (2879, 0.0), (2880, 0.0067101673902991345), (2881, 0.0071121152583151345), (2882, 0.012695861383686051), (2883, 0.0), (2884, 0.0), (2885, 0.0), (2886, 0.041840743545615386), (2887, 0.0), (2888, 0.006978812151189265), (2889, 0.0), (2890, 0.0), (2891, 0.0), (2892, 0.005389865163360777), (2893, 0.0), (2894, 0.0), (2895, 0.03932085491491054), (2896, 0.0), (2897, 0.026245183860706803), (2898, 0.019880678764674264), (2899, 0.005799388951446871), (2900, 0.005913784723103417), (2901, 0.0), (2902, 0.0), (2903, 0.11702848693006448), (2904, 0.0), (2905, 0.0), (2906, 0.005161932920241355), (2907, 0.0), (2908, 0.022049658467673806), (2909, 0.0), (2910, 0.03443761208311736), (2911, 0.0060353827355133375), (2912, 0.0), (2913, 0.023943256631996236), (2914, 0.0), (2915, 0.0), (2916, 0.0), (2917, 0.0), (2918, 0.027176677004085485), (2919, 0.022260463878764604), (2920, 0.01637475628129847), (2921, 0.04885194054177357), (2922, 0.008206596155698647), (2923, 0.0), (2924, 0.0), (2925, 0.017352398783454792), (2926, 0.0), (2927, 0.0), (2928, 0.0), (2929, 0.019281524313325072), (2930, 0.012811875781726925), (2931, 0.029684420555682316), (2932, 0.028274145780047243), (2933, 0.004997339723432725), (2934, 0.0218598678857064), (2935, 0.005859556138462849), (2936, 0.0), (2937, 0.008793202742003464), (2938, 0.03692077393486784), (2939, 0.025607327227760178), (2940, 0.012285746757429739), (2941, 0.0), (2942, 0.005001037704899565), (2943, 0.006933636717107441), (2944, 0.0884049689992979), (2945, 0.0), (2946, 0.0), (2947, 0.006921382120725862), (2948, 0.0), (2949, 0.0), (2950, 0.018053540625046372), (2951, 0.006084057750704307), (2952, 0.0), (2953, 0.0), (2954, 0.0053111018495043075), (2955, 0.006667551403345103), (2956, 0.0), (2957, 0.0), (2958, 0.0), (2959, 0.006566145227518045), (2960, 0.07288140585390221), (2961, 0.021461866157822498), (2962, 0.016465011241158685), (2963, 0.08329554811515126), (2964, 0.0), (2965, 0.011637706033863294), (2966, 0.0), (2967, 0.0), (2968, 0.0), (2969, 0.010142783791944958), (2970, 0.0), (2971, 0.005836967246358542), (2972, 0.0), (2973, 0.0), (2974, 0.0), (2975, 0.009978193278979657), (2976, 0.0), (2977, 0.0), (2978, 0.022681514536182022), (2979, 0.0), (2980, 0.0), (2981, 0.07067481274477976), (2982, 0.0), (2983, 0.0), (2984, 0.0), (2985, 0.004772258281201853), (2986, 0.0), (2987, 0.0), (2988, 0.0), (2989, 0.0), (2990, 0.008374355511991198), (2991, 0.024073080439838253), (2992, 0.08255946333433539), (2993, 0.0), (2994, 0.0), (2995, 0.0), (2996, 0.03429223437289966), (2997, 0.0), (2998, 0.00891353264554253), (2999, 0.0), (3000, 0.0), (3001, 0.0), (3002, 0.0), (3003, 0.013381645784885224), (3004, 0.0), (3005, 0.0), (3006, 0.0), (3007, 0.013260082079503051), (3008, 0.013588007339820749), (3009, 0.015684951401083565), (3010, 0.005478933717035262), (3011, 0.005483549085437274), (3012, 0.0), (3013, 0.0), (3014, 0.0), (3015, 0.0), (3016, 0.0), (3017, 0.0), (3018, 0.044025194511703725), (3019, 0.025715067036531255), (3020, 0.0), (3021, 0.0), (3022, 0.047462044257983664), (3023, 0.0), (3024, 0.06137817382479479), (3025, 0.0), (3026, 0.0), (3027, 0.005218391699780156), (3028, 0.005373570435628126), (3029, 0.0), (3030, 0.0), (3031, 0.0), (3032, 0.0), (3033, 0.005679046050841592), (3034, 0.0), (3035, 0.0), (3036, 0.0), (3037, 0.0), (3038, 0.0), (3039, 0.0), (3040, 0.0), (3041, 0.0), (3042, 0.0), (3043, 0.03663281305174439), (3044, 0.0070107871367146865), (3045, 0.005136853270352727), (3046, 0.005440753757034043), (3047, 0.0), (3048, 0.0), (3049, 0.0), (3050, 0.0), (3051, 0.0), (3052, 0.0), (3053, 0.005648794478032127), (3054, 0.0), (3055, 0.0), (3056, 0.0), (3057, 0.0), (3058, 0.0), (3059, 0.007095772783573454), (3060, 0.0), (3061, 0.0), (3062, 0.0072252951872073855), (3063, 0.0), (3064, 0.007244537759127622), (3065, 0.005522415094033855), (3066, 0.0056012550153524835), (3067, 0.01188919973913028), (3068, 0.0), (3069, 0.0), (3070, 0.0868054745484145), (3071, 0.005265368732370878), (3072, 0.0), (3073, 0.005693301256077887), (3074, 0.03580484399272012), (3075, 0.0), (3076, 0.015568554571393584), (3077, 0.0), (3078, 0.0), (3079, 0.01136030629406049), (3080, 0.0), (3081, 0.0), (3082, 0.0), (3083, 0.0054183635604069065), (3084, 0.0), (3085, 0.005902139291128216), (3086, 0.022460135731268326), (3087, 0.0), (3088, 0.0), (3089, 0.0), (3090, 0.0), (3091, 0.0), (3092, 0.0), (3093, 0.0), (3094, 0.0), (3095, 0.022405818282002922), (3096, 0.005381865915647939), (3097, 0.048992679258848634), (3098, 0.025412410310907498), (3099, 0.02519822173704834), (3100, 0.006033814958011987), (3101, 0.0), (3102, 0.0), (3103, 0.0), (3104, 0.0), (3105, 0.0), (3106, 0.0), (3107, 0.0), (3108, 0.01557497914101803), (3109, 0.0), (3110, 0.02309877685786193), (3111, 0.033144949630757266), (3112, 0.006728760134407224), (3113, 0.0), (3114, 0.005824625483079969), (3115, 0.009004818052871495), (3116, 0.0), (3117, 0.0), (3118, 0.02079644048816265), (3119, 0.029396516082829473), (3120, 0.0), (3121, 0.005497377422374189), (3122, 0.07989606733052244), (3123, 0.0), (3124, 0.006334647473161514), (3125, 0.005808855187495879), (3126, 0.006115875511930847), (3127, 0.005301126465259516), (3128, 0.0), (3129, 0.015130464424729421), (3130, 0.0), (3131, 0.006301511333150438), (3132, 0.006695981927571118), (3133, 0.0058225722967193754), (3134, 0.006471865789739801), (3135, 0.04557684016595773), (3136, 0.006050539754438224), (3137, 0.0), (3138, 0.0), (3139, 0.0), (3140, 0.0), (3141, 0.022485116961055485), (3142, 0.0369866657074324), (3143, 0.005655801297261699), (3144, 0.008928927274318793), (3145, 0.0076626350584109194), (3146, 0.0), (3147, 0.0), (3148, 0.0), (3149, 0.005423637582645692), (3150, 0.0057489697470847825), (3151, 0.005575884446176775), (3152, 0.004634610796673504), (3153, 0.0), (3154, 0.052046744268063216), (3155, 0.021796180548637148), (3156, 0.00634790318587937), (3157, 0.0), (3158, 0.022879743211418415), (3159, 0.01582663026139287), (3160, 0.0), (3161, 0.006056392602528409), (3162, 0.0), (3163, 0.030116830917379798), (3164, 0.0), (3165, 0.007347122194925917), (3166, 0.0), (3167, 0.0), (3168, 0.0074909145358185575), (3169, 0.006288005576260871), (3170, 0.0), (3171, 0.04889086111602655), (3172, 0.013945664454001439), (3173, 0.0), (3174, 0.006257415897126572), (3175, 0.0), (3176, 0.0), (3177, 0.0), (3178, 0.0), (3179, 0.0), (3180, 0.0), (3181, 0.0414956710118186), (3182, 0.0), (3183, 0.0), (3184, 0.0), (3185, 0.008936913416962922), (3186, 0.0), (3187, 0.023517768824243116), (3188, 0.0), (3189, 0.0), (3190, 0.0), (3191, 0.00678557778002922), (3192, 0.023309501908491098), (3193, 0.005677825560568472), (3194, 0.0), (3195, 0.0), (3196, 0.0), (3197, 0.0), (3198, 0.0), (3199, 0.004506397267796492), (3200, 0.0), (3201, 0.01614255030347648), (3202, 0.006781756653551437), (3203, 0.01419491051901104), (3204, 0.0), (3205, 0.027488710648636235), (3206, 0.007298489077248165), (3207, 0.0), (3208, 0.0), (3209, 0.0), (3210, 0.04197843613677399), (3211, 0.005010615110465927), (3212, 0.0), (3213, 0.005201131254954441), (3214, 0.0), (3215, 0.005371089808799748), (3216, 0.0), (3217, 0.0), (3218, 0.006141434136174434), (3219, 0.0), (3220, 0.0), (3221, 0.02023441245983647), (3222, 0.0048105116809845985), (3223, 0.00972052568686178), (3224, 0.0), (3225, 0.006432756166444582), (3226, 0.005205156952436143), (3227, 0.018875250439429527), (3228, 0.0), (3229, 0.0), (3230, 0.0), (3231, 0.0051175468030805185), (3232, 0.026032517964954004), (3233, 0.005903444701173513), (3234, 0.012397529834584807), (3235, 0.0), (3236, 0.0), (3237, 0.005612544498690194), (3238, 0.010362433460311828), (3239, 0.014284949050928471), (3240, 0.005395221396430026), (3241, 0.006421233616717937), (3242, 0.0), (3243, 0.0), (3244, 0.0), (3245, 0.02233609978864205), (3246, 0.0), (3247, 0.005621698529840364), (3248, 0.0), (3249, 0.0), (3250, 0.0), (3251, 0.0), (3252, 0.0), (3253, 0.02024882127835994), (3254, 0.0), (3255, 0.0), (3256, 0.0), (3257, 0.0), (3258, 0.0), (3259, 0.10627703891142959), (3260, 0.0055447651276409405), (3261, 0.0), (3262, 0.0), (3263, 0.007225140846484397), (3264, 0.006036779452907841), (3265, 0.0057420195347977245), (3266, 0.0), (3267, 0.025579046851013126), (3268, 0.0), (3269, 0.0), (3270, 0.02376183207828553), (3271, 0.0), (3272, 0.0), (3273, 0.0), (3274, 0.0), (3275, 0.033978135223146556), (3276, 0.026208771224775565), (3277, 0.0061569380985965665), (3278, 0.0), (3279, 0.03266161591413876), (3280, 0.0), (3281, 0.0), (3282, 0.0), (3283, 0.005913789330929473), (3284, 0.0525740596430647), (3285, 0.0), (3286, 0.0), (3287, 0.0), (3288, 0.0), (3289, 0.0), (3290, 0.0), (3291, 0.0), (3292, 0.0), (3293, 0.016796550199409285), (3294, 0.021513610930106935), (3295, 0.0054895282657685335), (3296, 0.0), (3297, 0.033572158456073996), (3298, 0.0), (3299, 0.0), (3300, 0.0), (3301, 0.0), (3302, 0.0), (3303, 0.01797366898645824), (3304, 0.0), (3305, 0.0), (3306, 0.04997488995665049), (3307, 0.0), (3308, 0.0), (3309, 0.0), (3310, 0.006625634012383663), (3311, 0.01102544873617044), (3312, 0.03104595378139892), (3313, 0.0), (3314, 0.0), (3315, 0.0), (3316, 0.00444748512604016), (3317, 0.022317988430559755), (3318, 0.0), (3319, 0.0), (3320, 0.005416726957101685), (3321, 0.005751803379960983), (3322, 0.0), (3323, 0.03306216531562011), (3324, 0.0), (3325, 0.0), (3326, 0.0), (3327, 0.005072343277360139), (3328, 0.00777938564055801), (3329, 0.0), (3330, 0.005726098521206178), (3331, 0.0), (3332, 0.006344960464898576), (3333, 0.0), (3334, 0.022307513304358758), (3335, 0.0), (3336, 0.010532692761302573), (3337, 0.0), (3338, 0.0), (3339, 0.005369420772805683), (3340, 0.030154072161278515), (3341, 0.0), (3342, 0.005296486140292382), (3343, 0.011592438346705872), (3344, 0.009557870778924312), (3345, 0.014095089336782737), (3346, 0.0), (3347, 0.0), (3348, 0.0), (3349, 0.0), (3350, 0.0), (3351, 0.021907893215955106), (3352, 0.0), (3353, 0.0), (3354, 0.015253830208710552), (3355, 0.0), (3356, 0.0), (3357, 0.025617543815121824), (3358, 0.0), (3359, 0.0), (3360, 0.005007775059449406), (3361, 0.005759744561639954), (3362, 0.004721639911390753), (3363, 0.0), (3364, 0.006615685955354676), (3365, 0.07855154795708158), (3366, 0.0), (3367, 0.04384852058685453), (3368, 0.01192425097092603), (3369, 0.0), (3370, 0.020017147740233228), (3371, 0.0), (3372, 0.0), (3373, 0.030407694756466416), (3374, 0.03523893667769852), (3375, 0.0), (3376, 0.0), (3377, 0.024842407366066206), (3378, 0.0), (3379, 0.0), (3380, 0.0), (3381, 0.0652332216190294), (3382, 0.02200198913849384), (3383, 0.007323019081620748), (3384, 0.013620201428152288), (3385, 0.013471682942695006), (3386, 0.005901117370233133), (3387, 0.0), (3388, 0.0), (3389, 0.031165170705332177), (3390, 0.0), (3391, 0.0), (3392, 0.0), (3393, 0.005002272300182857), (3394, 0.0), (3395, 0.0), (3396, 0.0), (3397, 0.017165340696240528), (3398, 0.045676716617585725), (3399, 0.01669274955568603), (3400, 0.0), (3401, 0.0), (3402, 0.0), (3403, 0.04255365842320773), (3404, 0.006678583573675323), (3405, 0.0051754982173244915), (3406, 0.0), (3407, 0.0054713195616519815), (3408, 0.0), (3409, 0.004921834886927953), (3410, 0.004607059927182473), (3411, 0.005154385403303938), (3412, 0.0053889261635541525), (3413, 0.0), (3414, 0.01271574549845973), (3415, 0.08735793313366877), (3416, 0.006174353968150698), (3417, 0.0), (3418, 0.01911082429358732), (3419, 0.007219921881302209), (3420, 0.0105456769735126), (3421, 0.0), (3422, 0.0), (3423, 0.0), (3424, 0.019801132574600814), (3425, 0.0), (3426, 0.0), (3427, 0.038477573449899896), (3428, 0.0), (3429, 0.004483516573229128), (3430, 0.0), (3431, 0.0), (3432, 0.04513089298398178), (3433, 0.0), (3434, 0.0), (3435, 0.017589964583091363), (3436, 0.043374206025975096), (3437, 0.022660558010238245), (3438, 0.0066659058464645085), (3439, 0.0), (3440, 0.03403710682502122), (3441, 0.006196286224726272), (3442, 0.0), (3443, 0.0063260886218746626), (3444, 0.062425204907538265), (3445, 0.006246772540554344), (3446, 0.005750851680154103), (3447, 0.005346093312529487), (3448, 0.014833388912429697), (3449, 0.022590789709009806), (3450, 0.3537549624191782), (3451, 0.006544928946650499), (3452, 0.0), (3453, 0.07737100636397523), (3454, 0.010962571417830917), (3455, 0.0), (3456, 0.01173119527619389), (3457, 0.06555004890327874), (3458, 0.012450163199585994), (3459, 0.005212249526567849), (3460, 0.025190429910115192), (3461, 0.0060472967366068065), (3462, 0.0), (3463, 0.11200047130077911), (3464, 0.01221935574834776), (3465, 0.042773320498475334), (3466, 0.005789281242250853), (3467, 0.006244696209854524), (3468, 0.006905929636969464), (3469, 0.025954248910783732), (3470, 0.029651732475169657), (3471, 0.0), (3472, 0.008148575233723681), (3473, 0.0), (3474, 0.0), (3475, 0.0), (3476, 0.0), (3477, 0.005597772843746282), (3478, 0.0), (3479, 0.0), (3480, 0.01086740377788774), (3481, 0.00536767286606716), (3482, 0.0), (3483, 0.021940591909434124), (3484, 0.015772125130537964), (3485, 0.0), (3486, 0.028594440147400407), (3487, 0.0), (3488, 0.0), (3489, 0.04790868437882982), (3490, 0.0), (3491, 0.005744210131317814), (3492, 0.0), (3493, 0.0), (3494, 0.0), (3495, 0.0), (3496, 0.0), (3497, 0.0), (3498, 0.0), (3499, 0.0), (3500, 0.0), (3501, 0.029619503344369892), (3502, 0.021254667589975785), (3503, 0.0), (3504, 0.020318569070137925), (3505, 0.0), (3506, 0.0), (3507, 0.012325324223053026), (3508, 0.0), (3509, 0.0), (3510, 0.0), (3511, 0.0), (3512, 0.0), (3513, 0.006356717036991957), (3514, 0.006432477579232182), (3515, 0.01214586791697036), (3516, 0.006390366530532843), (3517, 0.0), (3518, 0.011429412264779434), (3519, 0.0), (3520, 0.006166108903680968), (3521, 0.0), (3522, 0.01940624675502872), (3523, 0.0), (3524, 0.0), (3525, 0.005646333351144623), (3526, 0.00585142848397138), (3527, 0.0), (3528, 0.0), (3529, 0.0), (3530, 0.0), (3531, 0.006116120583626081), (3532, 0.006913847302939289), (3533, 0.0), (3534, 0.0), (3535, 0.025619349224760474), (3536, 0.02972550017879831), (3537, 0.0), (3538, 0.0), (3539, 0.0), (3540, 0.0), (3541, 0.0214680880918615), (3542, 0.0), (3543, 0.0), (3544, 0.0), (3545, 0.0), (3546, 0.00428528944575478), (3547, 0.0), (3548, 0.0), (3549, 0.00589090903419148), (3550, 0.0), (3551, 0.005876595664378627), (3552, 0.0), (3553, 0.021929097607728723), (3554, 0.02530655565370056), (3555, 0.0061348454592442215), (3556, 0.005448001491175499), (3557, 0.005594636257286962), (3558, 0.0), (3559, 0.024158993537167408), (3560, 0.007069836382070407), (3561, 0.0), (3562, 0.005438306941464663), (3563, 0.005287888811526017), (3564, 0.0), (3565, 0.0), (3566, 0.005582232660475751), (3567, 0.07381729069515379), (3568, 0.011827603438180744), (3569, 0.0), (3570, 0.0), (3571, 0.0), (3572, 0.0), (3573, 0.0), (3574, 0.0), (3575, 0.0), (3576, 0.0), (3577, 0.006743998536585505), (3578, 0.007095059963778054), (3579, 0.0051535045199851285), (3580, 0.0), (3581, 0.0), (3582, 0.04755577592799769), (3583, 0.0), (3584, 0.0), (3585, 0.0), (3586, 0.029490460525511825), (3587, 0.0), (3588, 0.007396942857146739), (3589, 0.011144303030122179), (3590, 0.0), (3591, 0.006494040956709865), (3592, 0.014456192047510759), (3593, 0.07943639623522969), (3594, 0.005748696167062542), (3595, 0.0059911260556175), (3596, 0.012423477992833484), (3597, 0.06697962347966806), (3598, 0.039321181125773576), (3599, 0.005885877903622705), (3600, 0.005923742315271835), (3601, 0.0), (3602, 0.00630258883091303), (3603, 0.006431808030826366), (3604, 0.0065285967755664785), (3605, 0.0060562167919131155), (3606, 0.0), (3607, 0.0), (3608, 0.0), (3609, 0.0), (3610, 0.006658571591635966), (3611, 0.0), (3612, 0.028470482652117175), (3613, 0.0), (3614, 0.0), (3615, 0.0), (3616, 0.006665075579093786), (3617, 0.0), (3618, 0.006274615205269089), (3619, 0.0), (3620, 0.0), (3621, 0.0), (3622, 0.0), (3623, 0.006489707214007872), (3624, 0.0), (3625, 0.0), (3626, 0.004425103435475935), (3627, 0.0), (3628, 0.0), (3629, 0.022936841295941257), (3630, 0.0056511205306518705), (3631, 0.0), (3632, 0.0), (3633, 0.005293341047874405), (3634, 0.0), (3635, 0.008276028842362306), (3636, 0.0), (3637, 0.024691101922266204), (3638, 0.0), (3639, 0.026542399978645034), (3640, 0.0), (3641, 0.0), (3642, 0.04095394889020344), (3643, 0.005900429144049817), (3644, 0.0), (3645, 0.022903512248868753), (3646, 0.005442367197565425), (3647, 0.0), (3648, 0.005857707224781132), (3649, 0.0), (3650, 0.005720038599190903), (3651, 0.0064271347881760255), (3652, 0.02401981052987981), (3653, 0.0), (3654, 0.012406211114333841), (3655, 0.005134523651675211), (3656, 0.0), (3657, 0.005436260076714587), (3658, 0.01007832810351848), (3659, 0.02268832925158288), (3660, 0.005906362322387183), (3661, 0.0065229384175632885), (3662, 0.0), (3663, 0.0), (3664, 0.0), (3665, 0.0), (3666, 0.022227626067161985), (3667, 0.0), (3668, 0.010183344685142254), (3669, 0.0), (3670, 0.021728656381904896), (3671, 0.0), (3672, 0.0), (3673, 0.0), (3674, 0.004884982402020998), (3675, 0.026233489914931154), (3676, 0.006701345409366649), (3677, 0.012502751811095877), (3678, 0.005942881245749536), (3679, 0.0), (3680, 0.007173310615905258), (3681, 0.01933531851034016), (3682, 0.0), (3683, 0.0), (3684, 0.04304832520566208), (3685, 0.0), (3686, 0.03481638826275118), (3687, 0.0), (3688, 0.0), (3689, 0.005850304414620969), (3690, 0.017939133685283545), (3691, 0.0), (3692, 0.006702854724893072), (3693, 0.005558044026190498), (3694, 0.023272456908413442), (3695, 0.0), (3696, 0.00548584784484528), (3697, 0.006662722220950721), (3698, 0.04745036927999931), (3699, 0.03507382611527507), (3700, 0.006105955890783168), (3701, 0.005687062749729072), (3702, 0.0), (3703, 0.009155874336866737), (3704, 0.01288304194103061), (3705, 0.0), (3706, 0.005976824431087808), (3707, 0.0), (3708, 0.03243111045795992), (3709, 0.03725139403995091), (3710, 0.04179220203588315), (3711, 0.024482658429867937), (3712, 0.0), (3713, 0.0), (3714, 0.0), (3715, 0.008312076973006174), (3716, 0.0), (3717, 0.0), (3718, 0.011015963233030114), (3719, 0.0), (3720, 0.011681133171927642), (3721, 0.0), (3722, 0.005836749594998202), (3723, 0.005881779352893065), (3724, 0.006539612655637425), (3725, 0.0), (3726, 0.0), (3727, 0.0), (3728, 0.0), (3729, 0.0), (3730, 0.09522391253268007), (3731, 0.022921173061386284), (3732, 0.0), (3733, 0.0), (3734, 0.005993603588808924), (3735, 0.0), (3736, 0.01586851680840129), (3737, 0.0), (3738, 0.005665914029786903), (3739, 0.00559448401949997), (3740, 0.0), (3741, 0.046336263621150994), (3742, 0.08403289892405494), (3743, 0.017558379194448106), (3744, 0.033490318755318535), (3745, 0.0), (3746, 0.005590485516630635), (3747, 0.00642745573816809), (3748, 0.005039344603653796), (3749, 0.0), (3750, 0.0), (3751, 0.009374919126433186), (3752, 0.005112535927811881), (3753, 0.0), (3754, 0.0), (3755, 0.0), (3756, 0.01796868158116899), (3757, 0.022817285214114157), (3758, 0.0), (3759, 0.0), (3760, 0.0), (3761, 0.0), (3762, 0.0), (3763, 0.0), (3764, 0.0), (3765, 0.01172482035166286), (3766, 0.10179458466683419), (3767, 0.0), (3768, 0.012582884008961149), (3769, 0.03834504875639185), (3770, 0.0), (3771, 0.04617193751862996), (3772, 0.0), (3773, 0.006004488567992216), (3774, 0.0), (3775, 0.019640895180955395), (3776, 0.005430750588443163), (3777, 0.022405405821379915), (3778, 0.018021199767252107), (3779, 0.0), (3780, 0.006153871912960266), (3781, 0.0), (3782, 0.006855379721994874), (3783, 0.005875491783112375), (3784, 0.011707954026706135), (3785, 0.0), (3786, 0.011652905296105416), (3787, 0.00668463910749271), (3788, 0.0), (3789, 0.0), (3790, 0.0), (3791, 0.0), (3792, 0.0), (3793, 0.0), (3794, 0.026124878646706182), (3795, 0.005862527627559187), (3796, 0.0), (3797, 0.02629308282072004), (3798, 0.006543613611094523), (3799, 0.03905849998973076), (3800, 0.0), (3801, 0.030284577561738288), (3802, 0.006848104278419498), (3803, 0.004973027027719666), (3804, 0.0), (3805, 0.0), (3806, 0.0), (3807, 0.006261541371511746), (3808, 0.0), (3809, 0.0), (3810, 0.006105713355896841), (3811, 0.0), (3812, 0.0), (3813, 0.0), (3814, 0.006275001483076851), (3815, 0.0), (3816, 0.013054722438698449), (3817, 0.0), (3818, 0.005726794167324691), (3819, 0.005494882812149481), (3820, 0.0), (3821, 0.004821985149069326), (3822, 0.006074163559755071), (3823, 0.01101491944018302), (3824, 0.0), (3825, 0.005259442889688201), (3826, 0.005411244404190713), (3827, 0.0), (3828, 0.02653554750851913), (3829, 0.0), (3830, 0.0), (3831, 0.0), (3832, 0.0), (3833, 0.0), (3834, 0.006804111373494385), (3835, 0.0), (3836, 0.0), (3837, 0.0), (3838, 0.0), (3839, 0.0), (3840, 0.006352088944015852), (3841, 0.005274073424861332), (3842, 0.01982477090799615), (3843, 0.0), (3844, 0.0), (3845, 0.0), (3846, 0.006899871210693743), (3847, 0.0), (3848, 0.0), (3849, 0.00641142358206595), (3850, 0.006486030538996314), (3851, 0.0), (3852, 0.04712252327375273), (3853, 0.0), (3854, 0.025139955972286354), (3855, 0.0), (3856, 0.0), (3857, 0.006117312660339085), (3858, 0.006289050439158819), (3859, 0.0), (3860, 0.08851532339011367), (3861, 0.0), (3862, 0.029856185980559488), (3863, 0.0), (3864, 0.0), (3865, 0.0), (3866, 0.006630168298426148), (3867, 0.0), (3868, 0.00554293641273959), (3869, 0.007038561225764563), (3870, 0.006262818580816819), (3871, 0.0), (3872, 0.0), (3873, 0.0), (3874, 0.0), (3875, 0.009298150394608753), (3876, 0.0), (3877, 0.0), (3878, 0.0), (3879, 0.0), (3880, 0.0), (3881, 0.03688735587603702), (3882, 0.0), (3883, 0.0), (3884, 0.0), (3885, 0.0), (3886, 0.005482528189863892), (3887, 0.0), (3888, 0.0), (3889, 0.0), (3890, 0.032434618859764563), (3891, 0.005439945290687881), (3892, 0.0), (3893, 0.023879419753908265), (3894, 0.0053496483687922895), (3895, 0.0), (3896, 0.0), (3897, 0.006263069685027555), (3898, 0.0), (3899, 0.0), (3900, 0.0), (3901, 0.0), (3902, 0.0), (3903, 0.013019340597418673), (3904, 0.0), (3905, 0.0), (3906, 0.0), (3907, 0.018414294942826984), (3908, 0.006419502429555719), (3909, 0.0), (3910, 0.0), (3911, 0.0), (3912, 0.0), (3913, 0.019436885915622596), (3914, 0.005018982226580325), (3915, 0.0), (3916, 0.0), (3917, 0.0057608108780067635), (3918, 0.0), (3919, 0.006063568445921396), (3920, 0.0061863447006370266), (3921, 0.012926389389352902), (3922, 0.0), (3923, 0.005678835295558084), (3924, 0.029357979549402686), (3925, 0.0), (3926, 0.0), (3927, 0.0), (3928, 0.005016251916772616), (3929, 0.0), (3930, 0.012162766141171939), (3931, 0.0), (3932, 0.0), (3933, 0.010566926217936146), (3934, 0.0), (3935, 0.0), (3936, 0.0), (3937, 0.006265784242617281), (3938, 0.0), (3939, 0.0), (3940, 0.0), (3941, 0.01962380916187005), (3942, 0.0), (3943, 0.0), (3944, 0.0049752876642174615), (3945, 0.0), (3946, 0.022337379467045945), (3947, 0.03260827583442839), (3948, 0.0), (3949, 0.0), (3950, 0.0), (3951, 0.0), (3952, 0.0), (3953, 0.0), (3954, 0.0), (3955, 0.05066875099176558), (3956, 0.0), (3957, 0.015053313477390235), (3958, 0.0), (3959, 0.02883845014984962), (3960, 0.0), (3961, 0.023322783698481047), (3962, 0.0), (3963, 0.012178752460321397), (3964, 0.0), (3965, 0.033990539414756), (3966, 0.0056017075367507324), (3967, 0.0), (3968, 0.0064128613180751025), (3969, 0.0), (3970, 0.010794776142808523), (3971, 0.0), (3972, 0.0068389720557343395), (3973, 0.0), (3974, 0.0), (3975, 0.0), (3976, 0.0), (3977, 0.06431408841018958), (3978, 0.0486891357437759), (3979, 0.006523593852228509), (3980, 0.010388685295894092), (3981, 0.0), (3982, 0.017792419839372842), (3983, 0.0043844457417589085), (3984, 0.0), (3985, 0.0), (3986, 0.0), (3987, 0.0), (3988, 0.0), (3989, 0.0), (3990, 0.0), (3991, 0.0), (3992, 0.024393817689799646), (3993, 0.02556486948140797), (3994, 0.005540796133511418), (3995, 0.025390719804237145), (3996, 0.0), (3997, 0.006641115865498978), (3998, 0.01161305655630301), (3999, 0.0), (4000, 0.033630555549622534), (4001, 0.017940922470433683), (4002, 0.0), (4003, 0.0), (4004, 0.021580885451719014), (4005, 0.006546107791192017), (4006, 0.0), (4007, 0.007508526567284094), (4008, 0.0), (4009, 0.005303003657890659), (4010, 0.0), (4011, 0.0), (4012, 0.02334980637557401), (4013, 0.055874457422478756), (4014, 0.0), (4015, 0.019802333618406113), (4016, 0.0), (4017, 0.0), (4018, 0.0), (4019, 0.0162628571299799), (4020, 0.011629024477647748), (4021, 0.0), (4022, 0.0), (4023, 0.01379638494316471), (4024, 0.0), (4025, 0.005828618023346442), (4026, 0.0), (4027, 0.0), (4028, 0.0), (4029, 0.04334746163513948), (4030, 0.0), (4031, 0.013204241033303157), (4032, 0.013054151415737764), (4033, 0.006506142587864408), (4034, 0.0), (4035, 0.0), (4036, 0.0), (4037, 0.006106364141334881), (4038, 0.035182092766898015), (4039, 0.026821681654698865), (4040, 0.0), (4041, 0.00608754604290907), (4042, 0.0), (4043, 0.0), (4044, 0.006031766434075383), (4045, 0.018799795706409585), (4046, 0.03553468448901201), (4047, 0.015033616557305736), (4048, 0.024253350033560175), (4049, 0.0), (4050, 0.0), (4051, 0.013604889516683254), (4052, 0.02534588728797735), (4053, 0.0), (4054, 0.0), (4055, 0.015823330866219808), (4056, 0.0064178360790414285), (4057, 0.005177533106435132), (4058, 0.0), (4059, 0.028702818425755), (4060, 0.02053059282979244), (4061, 0.012115353241665619), (4062, 0.0066193661555786236), (4063, 0.0), (4064, 0.006983142308432027), (4065, 0.0), (4066, 0.0), (4067, 0.0), (4068, 0.03306535430191444), (4069, 0.01150622346987043), (4070, 0.028497894815753128), (4071, 0.011364737085069635), (4072, 0.0), (4073, 0.0), (4074, 0.005052222153359517), (4075, 0.0), (4076, 0.03992815431351958), (4077, 0.041586391107408235), (4078, 0.0), (4079, 0.0), (4080, 0.0), (4081, 0.01180910044849806), (4082, 0.0), (4083, 0.0), (4084, 0.0), (4085, 0.0), (4086, 0.0), (4087, 0.0), (4088, 0.04303409024282686), (4089, 0.012056629607865648), (4090, 0.0), (4091, 0.006541498619305872), (4092, 0.0), (4093, 0.0065573162902020105), (4094, 0.01920072266031998), (4095, 0.023495594378486993), (4096, 0.01845692274950083), (4097, 0.012827642498062708), (4098, 0.00678590775975131), (4099, 0.006119564387725372), (4100, 0.006474397109305646), (4101, 0.0), (4102, 0.0), (4103, 0.006252864738419157), (4104, 0.0), (4105, 0.0), (4106, 0.010535295608764372), (4107, 0.014959279622761109), (4108, 0.006056925705107865), (4109, 0.00511306253580346), (4110, 0.010821180748214195), (4111, 0.0), (4112, 0.07793027522792831), (4113, 0.0), (4114, 0.04899885662304144), (4115, 0.014995700143762794), (4116, 0.006794685272147934), (4117, 0.014101092739565791), (4118, 0.03676251176289266), (4119, 0.01280712047027736), (4120, 0.0), (4121, 0.031057745296354265), (4122, 0.007844538796928573), (4123, 0.0), (4124, 0.021313551423711826), (4125, 0.0), (4126, 0.0), (4127, 0.0), (4128, 0.006619531779120042), (4129, 0.0), (4130, 0.07468819667195711), (4131, 0.007064746876709134), (4132, 0.0346957103785639), (4133, 0.013317542172455312), (4134, 0.0), (4135, 0.0056836013836008385), (4136, 0.005996050196278944), (4137, 0.005584840817918309), (4138, 0.0), (4139, 0.0), (4140, 0.0), (4141, 0.03879302423286221), (4142, 0.007836498250075052), (4143, 0.005162300808037387), (4144, 0.0), (4145, 0.03900473564800783), (4146, 0.0), (4147, 0.0), (4148, 0.006087064042808529), (4149, 0.0), (4150, 0.0), (4151, 0.0), (4152, 0.1010424492487703), (4153, 0.005686584773987684), (4154, 0.0), (4155, 0.00531807492309393), (4156, 0.004896331697512559), (4157, 0.005611004911470846), (4158, 0.015132596596356736), (4159, 0.0), (4160, 0.0), (4161, 0.0), (4162, 0.0), (4163, 0.0), (4164, 0.030177417014106256), (4165, 0.019607400677566993), (4166, 0.0), (4167, 0.0), (4168, 0.0), (4169, 0.0), (4170, 0.0), (4171, 0.004064255652965254), (4172, 0.0), (4173, 0.0), (4174, 0.005300140439411888), (4175, 0.012503148677407093), (4176, 0.005305884427969224), (4177, 0.0), (4178, 0.06841857315930679), (4179, 0.03467123055553721), (4180, 0.013121564852291998), (4181, 0.01985925758633492), (4182, 0.0), (4183, 0.0), (4184, 0.012014223884166451), (4185, 0.0), (4186, 0.005725416681848224), (4187, 0.04241665221681448), (4188, 0.01894101566963595), (4189, 0.06271854802878873), (4190, 0.03170708648958274), (4191, 0.0), (4192, 0.031121740345234662), (4193, 0.005846582005096653), (4194, 0.006970369103695633), (4195, 0.0), (4196, 0.0764334561116968), (4197, 0.0), (4198, 0.0), (4199, 0.02284856985346647), (4200, 0.010410781403445738), (4201, 0.009833617951056434), (4202, 0.008785943834063855), (4203, 0.006437928751778044), (4204, 0.0), (4205, 0.010838174177757169), (4206, 0.011720492246153827), (4207, 0.0), (4208, 0.0), (4209, 0.0), (4210, 0.012053867138948472), (4211, 0.006462771835399606), (4212, 0.0), (4213, 0.0), (4214, 0.0), (4215, 0.0), (4216, 0.047317854292640724), (4217, 0.005466515564881421), (4218, 0.005689208123056742), (4219, 0.0), (4220, 0.030827357786933428), (4221, 0.007824496564021932), (4222, 0.01608309958792499), (4223, 0.017294286495952337), (4224, 0.006193476672325404), (4225, 0.0), (4226, 0.00620643082321403), (4227, 0.023152243922996075), (4228, 0.0), (4229, 0.0), (4230, 0.0), (4231, 0.022733085388337702), (4232, 0.018902148417702543), (4233, 0.022424890324754303), (4234, 0.0723230351347077), (4235, 0.02076354044891732), (4236, 0.037283185917798764), (4237, 0.0), (4238, 0.007088419459860547), (4239, 0.016123125849259443), (4240, 0.0), (4241, 0.0), (4242, 0.03322573256675948), (4243, 0.0), (4244, 0.03266856540279893), (4245, 0.0), (4246, 0.04073637331273565), (4247, 0.0), (4248, 0.006326062555178108), (4249, 0.006682889336077029), (4250, 0.0), (4251, 0.0), (4252, 0.0), (4253, 0.0), (4254, 0.0), (4255, 0.006266748411073556), (4256, 0.0), (4257, 0.016550147733138114), (4258, 0.0), (4259, 0.0), (4260, 0.0), (4261, 0.020431243455924335), (4262, 0.005947244622060689), (4263, 0.0), (4264, 0.006067564399892354), (4265, 0.005954457141688979), (4266, 0.0), (4267, 0.006539615651092049), (4268, 0.02128486569537363), (4269, 0.020102943721552004), (4270, 0.0), (4271, 0.0), (4272, 0.011236032164849741), (4273, 0.0), (4274, 0.005857960166830087), (4275, 0.0), (4276, 0.007089759575143357), (4277, 0.0), (4278, 0.0), (4279, 0.0), (4280, 0.0), (4281, 0.006536089630708978), (4282, 0.010739282708223599), (4283, 0.01185205108732764), (4284, 0.0), (4285, 0.00720369253762878), (4286, 0.012689609177219837), (4287, 0.0), (4288, 0.022258591168995798), (4289, 0.029306198210915912), (4290, 0.01591212213542342), (4291, 0.0), (4292, 0.0), (4293, 0.007212857712478558), (4294, 0.046576998022200514), (4295, 0.0), (4296, 0.0), (4297, 0.005149063428482683), (4298, 0.0), (4299, 0.0), (4300, 0.0), (4301, 0.05366569409941128), (4302, 0.0), (4303, 0.011745992126964165), (4304, 0.0), (4305, 0.0), (4306, 0.0), (4307, 0.0), (4308, 0.0), (4309, 0.0), (4310, 0.0061058758115528555), (4311, 0.0), (4312, 0.02532410248170306), (4313, 0.0), (4314, 0.0), (4315, 0.0), (4316, 0.0), (4317, 0.0), (4318, 0.0), (4319, 0.012327073866694646), (4320, 0.0), (4321, 0.0), (4322, 0.0), (4323, 0.01302587991265405), (4324, 0.0), (4325, 0.036898769272149634), (4326, 0.0), (4327, 0.011292002237334751), (4328, 0.07855935056008441), (4329, 0.0), (4330, 0.036962055375642275), (4331, 0.0), (4332, 0.012055796206381572), (4333, 0.0), (4334, 0.0), (4335, 0.023826131418876004), (4336, 0.0), (4337, 0.0), (4338, 0.012714398037874547), (4339, 0.005463365416013926), (4340, 0.0), (4341, 0.08221122262598281), (4342, 0.0), (4343, 0.0), (4344, 0.009744309934503951), (4345, 0.01148586206009365), (4346, 0.0), (4347, 0.0), (4348, 0.005251168322924822), (4349, 0.0), (4350, 0.0), (4351, 0.0062290999334731045), (4352, 0.0), (4353, 0.00547523057360336), (4354, 0.0), (4355, 0.0), (4356, 0.0), (4357, 0.0), (4358, 0.0), (4359, 0.010976715123167082), (4360, 0.0), (4361, 0.0), (4362, 0.0), (4363, 0.006292458005534225), (4364, 0.0), (4365, 0.0), (4366, 0.019206270020606427), (4367, 0.0), (4368, 0.0), (4369, 0.0), (4370, 0.0), (4371, 0.0), (4372, 0.0), (4373, 0.004755234424142008), (4374, 0.025396559045769297), (4375, 0.0), (4376, 0.005923603467091434), (4377, 0.0), (4378, 0.0), (4379, 0.07403360059906372), (4380, 0.04283946634490259), (4381, 0.0), (4382, 0.0), (4383, 0.0), (4384, 0.006689544245177477), (4385, 0.0), (4386, 0.0), (4387, 0.020780947316919623), (4388, 0.0), (4389, 0.0), (4390, 0.006491762638695025), (4391, 0.0), (4392, 0.00652587184688159), (4393, 0.0), (4394, 0.0), (4395, 0.005920240771173113), (4396, 0.0), (4397, 0.0), (4398, 0.0), (4399, 0.005366852484799798), (4400, 0.0), (4401, 0.012742648881804992), (4402, 0.005231550752612539), (4403, 0.06785184626910262), (4404, 0.01219702986726941), (4405, 0.0), (4406, 0.018150460997877503), (4407, 0.0), (4408, 0.0), (4409, 0.0), (4410, 0.0), (4411, 0.01873965000474369), (4412, 0.0), (4413, 0.0), (4414, 0.004744301743961274), (4415, 0.0351147667723781), (4416, 0.0), (4417, 0.0), (4418, 0.0360293825013394), (4419, 0.006676757049556144), (4420, 0.0), (4421, 0.0), (4422, 0.0), (4423, 0.0), (4424, 0.0), (4425, 0.0), (4426, 0.0), (4427, 0.0), (4428, 0.0), (4429, 0.005640122564614445), (4430, 0.006571057407271252), (4431, 0.01215295650847988), (4432, 0.005387491613909905), (4433, 0.0), (4434, 0.0), (4435, 0.060129917621389965), (4436, 0.03564203054357317), (4437, 0.0), (4438, 0.0055479794742168045), (4439, 0.006106315656036658), (4440, 0.0075132646112287815), (4441, 0.0), (4442, 0.026092363700409734), (4443, 0.007432982770652253), (4444, 0.008182144576401127), (4445, 0.0), (4446, 0.0), (4447, 0.005979594420708678), (4448, 0.019531102838086994), (4449, 0.0), (4450, 0.02572433976692738), (4451, 0.0), (4452, 0.0), (4453, 0.007017223534802195), (4454, 0.0), (4455, 0.0), (4456, 0.006358549117535565), (4457, 0.0), (4458, 0.0), (4459, 0.005260290766688211), (4460, 0.03812033918006698), (4461, 0.0), (4462, 0.0469583195824642), (4463, 0.0), (4464, 0.0), (4465, 0.0240135369255879), (4466, 0.0), (4467, 0.005762336600517013), (4468, 0.0), (4469, 0.026949735458143657), (4470, 0.0), (4471, 0.0), (4472, 0.005387021747714257), (4473, 0.005281410920843997), (4474, 0.034564762780481706), (4475, 0.020871303926964978), (4476, 0.0), (4477, 0.01427743479837969), (4478, 0.0), (4479, 0.0), (4480, 0.0), (4481, 0.0265971814821188), (4482, 0.0), (4483, 0.0), (4484, 0.0), (4485, 0.0), (4486, 0.024342191559222452), (4487, 0.0), (4488, 0.0), (4489, 0.0), (4490, 0.007536268603932325), (4491, 0.0), (4492, 0.0), (4493, 0.00681975910023306), (4494, 0.031890663197797535), (4495, 0.0), (4496, 0.0), (4497, 0.0), (4498, 0.0), (4499, 0.0), (4500, 0.0), (4501, 0.0), (4502, 0.02012517890244674), (4503, 0.02720634859923699), (4504, 0.005584830648236686), (4505, 0.0), (4506, 0.0), (4507, 0.0), (4508, 0.0), (4509, 0.006003572656529586), (4510, 0.022290267263198278), (4511, 0.026673874889849604), (4512, 0.03678394740428363), (4513, 0.0), (4514, 0.0), (4515, 0.006158164866295958), (4516, 0.0), (4517, 0.0), (4518, 0.0), (4519, 0.025316231336764753), (4520, 0.0), (4521, 0.0), (4522, 0.0), (4523, 0.005319136669387809), (4524, 0.006859467595618387), (4525, 0.0), (4526, 0.0), (4527, 0.0), (4528, 0.0), (4529, 0.0), (4530, 0.0), (4531, 0.03597149102346148), (4532, 0.0), (4533, 0.0), (4534, 0.00591262013044314), (4535, 0.013310690550336561), (4536, 0.0), (4537, 0.0), (4538, 0.0), (4539, 0.0), (4540, 0.0), (4541, 0.008735157344739772), (4542, 0.0), (4543, 0.006128667664626777), (4544, 0.0), (4545, 0.0), (4546, 0.0), (4547, 0.0), (4548, 0.026159618699042785), (4549, 0.006351978624621223), (4550, 0.006101952043951669), (4551, 0.028543028393615964), (4552, 0.0), (4553, 0.05419713406242992), (4554, 0.024224618721623556), (4555, 0.0), (4556, 0.0), (4557, 0.05125887147582696), (4558, 0.0), (4559, 0.0), (4560, 0.0), (4561, 0.0), (4562, 0.0), (4563, 0.0), (4564, 0.011419533149500258), (4565, 0.0), (4566, 0.0), (4567, 0.0), (4568, 0.00523136479253958), (4569, 0.0), (4570, 0.0), (4571, 0.018116737434147847), (4572, 0.0), (4573, 0.0), (4574, 0.0), (4575, 0.0), (4576, 0.010780160514143098), (4577, 0.0), (4578, 0.0), (4579, 0.0), (4580, 0.0), (4581, 0.08853823172150552), (4582, 0.0), (4583, 0.0), (4584, 0.0), (4585, 0.0), (4586, 0.04200271262370462), (4587, 0.011749128529678472), (4588, 0.0), (4589, 0.020608545450509184), (4590, 0.010435352679734293), (4591, 0.00593088750609962), (4592, 0.005737321475263935), (4593, 0.0), (4594, 0.0), (4595, 0.0), (4596, 0.009817432823162955), (4597, 0.03201801926067599), (4598, 0.0), (4599, 0.0), (4600, 0.01145606674097589), (4601, 0.0), (4602, 0.0894507196403917), (4603, 0.0), (4604, 0.0), (4605, 0.0129520170584189), (4606, 0.008081536714223422), (4607, 0.054389941304834884), (4608, 0.09587671797582445), (4609, 0.006545646667971512), (4610, 0.01798149755460006), (4611, 0.0), (4612, 0.007236445118322493), (4613, 0.005985187798290124), (4614, 0.0), (4615, 0.0), (4616, 0.0), (4617, 0.0), (4618, 0.0), (4619, 0.007435299224762808), (4620, 0.0), (4621, 0.006156029746695667), (4622, 0.0), (4623, 0.020995597015569693), (4624, 0.025547236241367004), (4625, 0.0), (4626, 0.005342033948953493), (4627, 0.0), (4628, 0.0), (4629, 0.012509949879094633), (4630, 0.006654362469725756), (4631, 0.007828460286629394), (4632, 0.0), (4633, 0.07799195027724276), (4634, 0.03181025067925157), (4635, 0.0), (4636, 0.0), (4637, 0.0), (4638, 0.0), (4639, 0.0), (4640, 0.011894218200158716), (4641, 0.0), (4642, 0.007171828104138088), (4643, 0.0), (4644, 0.0), (4645, 0.0), (4646, 0.008205104517557196), (4647, 0.005486504260732304), (4648, 0.0), (4649, 0.005779809462195051), (4650, 0.0), (4651, 0.0), (4652, 0.009251536029129767), (4653, 0.0073794095560804724), (4654, 0.0), (4655, 0.0), (4656, 0.02349957933098472), (4657, 0.0), (4658, 0.025693623603545105), (4659, 0.0), (4660, 0.0), (4661, 0.04259650113302918), (4662, 0.0), (4663, 0.0), (4664, 0.0), (4665, 0.0), (4666, 0.0), (4667, 0.0), (4668, 0.0), (4669, 0.03583247459937047), (4670, 0.0), (4671, 0.0), (4672, 0.0), (4673, 0.026639926364571364), (4674, 0.009185518426908958), (4675, 0.0), (4676, 0.006857056634732727), (4677, 0.0), (4678, 0.0), (4679, 0.06125286970918234), (4680, 0.013199557897118375), (4681, 0.0), (4682, 0.011027128824405185), (4683, 0.0), (4684, 0.02800748983994244), (4685, 0.0), (4686, 0.03462387655830683), (4687, 0.005653012598319258), (4688, 0.026833110644629534), (4689, 0.005299116117723818), (4690, 0.01696883584983037), (4691, 0.0), (4692, 0.0), (4693, 0.0), (4694, 0.0), (4695, 0.005945658427233702), (4696, 0.0), (4697, 0.0), (4698, 0.007683845335416471), (4699, 0.0), (4700, 0.0), (4701, 0.0), (4702, 0.0), (4703, 0.0), (4704, 0.0), (4705, 0.009573819909531127), (4706, 0.0), (4707, 0.0), (4708, 0.006245513154761022), (4709, 0.023637514155400066), (4710, 0.0), (4711, 0.0), (4712, 0.024909204213147986), (4713, 0.0), (4714, 0.0), (4715, 0.0), (4716, 0.012705895427726942), (4717, 0.0), (4718, 0.0), (4719, 0.0), (4720, 0.0), (4721, 0.0), (4722, 0.02546765147113617), (4723, 0.007873477519026097), (4724, 0.025327033113107602), (4725, 0.008421062178909627), (4726, 0.0), (4727, 0.023822454907108496), (4728, 0.01258116716228811), (4729, 0.0), (4730, 0.0), (4731, 0.0), (4732, 0.006091754268572557), (4733, 0.005448928550801312), (4734, 0.0), (4735, 0.024734827494788395), (4736, 0.0), (4737, 0.0), (4738, 0.0), (4739, 0.012869116918822037), (4740, 0.0), (4741, 0.0), (4742, 0.007058298449036871), (4743, 0.07107212818945408), (4744, 0.0), (4745, 0.0), (4746, 0.0), (4747, 0.031138693968103037), (4748, 0.004975870880321498), (4749, 0.0), (4750, 0.0), (4751, 0.0), (4752, 0.049655933258678994), (4753, 0.0), (4754, 0.006015411190673841), (4755, 0.01217182937295425), (4756, 0.0), (4757, 0.0), (4758, 0.0), (4759, 0.0)]\n"
          ]
        }
      ]
    },
    {
      "cell_type": "code",
      "source": [
        "len(Recommendation_score)"
      ],
      "metadata": {
        "colab": {
          "base_uri": "https://localhost:8080/"
        },
        "id": "VNrYfcKdomLR",
        "outputId": "9db2233e-1a53-4f1c-beb6-0651f1c10319"
      },
      "execution_count": null,
      "outputs": [
        {
          "output_type": "execute_result",
          "data": {
            "text/plain": [
              "4760"
            ]
          },
          "metadata": {},
          "execution_count": 35
        }
      ]
    },
    {
      "cell_type": "markdown",
      "source": [
        "# **Get All Movies Sort Based On Recommendation Score wrt Favourite Movie**"
      ],
      "metadata": {
        "id": "kX1dMrkhoqen"
      }
    },
    {
      "cell_type": "code",
      "source": [
        "# sorting the movies based on their similarity score \n",
        "Sorted_Similar_Movies = sorted(Recommendation_score,key = lambda x:x[1],reverse = True)\n",
        "print (Sorted_Similar_Movies)"
      ],
      "metadata": {
        "colab": {
          "base_uri": "https://localhost:8080/"
        },
        "id": "ydDDLfmeouQo",
        "outputId": "c02ad884-cef0-4394-fd1b-3a23c2de8bf9"
      },
      "execution_count": null,
      "outputs": [
        {
          "output_type": "stream",
          "name": "stdout",
          "text": [
            "[(123, 1.0000000000000002), (3450, 0.3537549624191782), (68, 0.3355347771253835), (443, 0.2106645906990585), (181, 0.170899328521215), (162, 0.15753549327801544), (613, 0.1540992307296104), (122, 0.12765754462824352), (180, 0.119579580142478), (2903, 0.11702848693006448), (1127, 0.11432147750237887), (491, 0.11313470939786754), (3463, 0.11200047130077911), (2714, 0.10814022505736744), (323, 0.10788010606588674), (3259, 0.10627703891142959), (2077, 0.10517162572136564), (201, 0.10462595287997034), (1848, 0.10258463241972698), (3766, 0.10179458466683419), (4152, 0.1010424492487703), (461, 0.10066196683414194), (143, 0.10000859207652417), (1735, 0.09961419143288812), (508, 0.09605930211565826), (4608, 0.09587671797582445), (1111, 0.09533145011623899), (3730, 0.09522391253268007), (144, 0.09131790532385625), (1922, 0.08991790675632264), (145, 0.08965989286833827), (4602, 0.0894507196403917), (4581, 0.08853823172150552), (3860, 0.08851532339011367), (2944, 0.0884049689992979), (3415, 0.08735793313366877), (3070, 0.0868054745484145), (2477, 0.08654932151245395), (1300, 0.08634526047734906), (571, 0.08592566061568524), (966, 0.08526172329695046), (10, 0.08483051559771485), (3742, 0.08403289892405494), (1341, 0.08392262677145634), (913, 0.08389739894978757), (2963, 0.08329554811515126), (2442, 0.08283559284833064), (2992, 0.08255946333433539), (4341, 0.08221122262598281), (220, 0.08165949595572793), (2113, 0.08027799608302155), (3122, 0.07989606733052244), (3593, 0.07943639623522969), (792, 0.0793800990404919), (4328, 0.07855935056008441), (3365, 0.07855154795708158), (1295, 0.07839994344788169), (4633, 0.07799195027724276), (4112, 0.07793027522792831), (260, 0.07780437825002691), (3453, 0.07737100636397523), (241, 0.0772118897458301), (2464, 0.07649729905088593), (4196, 0.0764334561116968), (745, 0.07634568104701209), (1948, 0.07589954272308408), (2791, 0.07540883157006208), (4130, 0.07468819667195711), (1573, 0.0743578247277353), (2470, 0.07405073329751788), (4379, 0.07403360059906372), (3567, 0.07381729069515379), (2126, 0.07350268043693066), (2960, 0.07288140585390221), (306, 0.0726239155302542), (494, 0.0724293238950098), (4234, 0.0723230351347077), (863, 0.0722410525806215), (1132, 0.07219105688757932), (495, 0.07168806612556503), (1210, 0.07131187585451546), (4743, 0.07107212818945408), (1333, 0.07103367601387212), (2981, 0.07067481274477976), (564, 0.0704643717481814), (1998, 0.07042974694729495), (2652, 0.07037498232879044), (2641, 0.07030984191777419), (1946, 0.06985412287770919), (2784, 0.06979452169604783), (2055, 0.06977834136815736), (184, 0.06847327783822617), (4178, 0.06841857315930679), (842, 0.06823419703734324), (1123, 0.06793036932086159), (4403, 0.06785184626910262), (906, 0.06734961186361763), (2815, 0.06721065549701268), (3597, 0.06697962347966806), (601, 0.06687630160236878), (1102, 0.06686572488020653), (997, 0.06643875790451874), (577, 0.06627446372851753), (829, 0.06600465213944773), (3457, 0.06555004890327874), (1035, 0.06546202816255908), (1413, 0.06528922910131132), (3381, 0.0652332216190294), (651, 0.06488335894998883), (578, 0.06466436667225667), (3977, 0.06431408841018958), (2237, 0.06337031047708086), (1514, 0.06315893634277903), (2013, 0.0630258062505396), (4189, 0.06271854802878873), (3444, 0.062425204907538265), (63, 0.06191861677808122), (2205, 0.06177125295830741), (1321, 0.06148927441197041), (3024, 0.06137817382479479), (1945, 0.061371657982573165), (4679, 0.06125286970918234), (1369, 0.060859107387344194), (967, 0.06060279510546984), (463, 0.060375914531736), (290, 0.06034910575046902), (434, 0.06024375717970974), (4435, 0.060129917621389965), (2071, 0.059975933729980814), (2020, 0.05993809638461314), (2412, 0.05940672508513141), (2649, 0.05852242450359495), (934, 0.05831283557076971), (496, 0.0579940269625603), (2053, 0.057925940574701726), (1115, 0.05780306391903657), (1821, 0.05768444654677207), (1384, 0.05758361378136828), (1125, 0.05734834474814534), (328, 0.05731537603675439), (2028, 0.05680400155817599), (795, 0.05660630996888794), (4013, 0.055874457422478756), (635, 0.055584803845624906), (1758, 0.05518251593594049), (4607, 0.054389941304834884), (4553, 0.05419713406242992), (350, 0.05378889639398855), (4301, 0.05366569409941128), (3284, 0.0525740596430647), (534, 0.05255989156140996), (2832, 0.05216983229279624), (3154, 0.052046744268063216), (4557, 0.05125887147582696), (2795, 0.05095799034864263), (1112, 0.05090402749255944), (2487, 0.050686704131275545), (3955, 0.05066875099176558), (1652, 0.05065798316568636), (668, 0.0504317420905672), (1542, 0.05037017062128597), (2199, 0.05032100684113002), (669, 0.050231103526796675), (3306, 0.04997488995665049), (2853, 0.049961098437744836), (2695, 0.04994532525914638), (1160, 0.049683260074433036), (4752, 0.049655933258678994), (683, 0.04935141832493621), (4114, 0.04899885662304144), (3097, 0.048992679258848634), (3171, 0.04889086111602655), (2921, 0.04885194054177357), (3978, 0.0486891357437759), (984, 0.048636154441750165), (1290, 0.04850207546472457), (1387, 0.04822554473629424), (1329, 0.047981374770138197), (1814, 0.047967837973312215), (3489, 0.04790868437882982), (305, 0.04788838150536772), (2210, 0.047828847146274105), (1128, 0.04771959391725378), (712, 0.047668070176723185), (2018, 0.04760397759777715), (3582, 0.04755577592799769), (3022, 0.047462044257983664), (3698, 0.04745036927999931), (4216, 0.047317854292640724), (30, 0.04729220521187906), (3852, 0.04712252327375273), (4462, 0.0469583195824642), (1789, 0.04680345171910477), (4294, 0.046576998022200514), (928, 0.04642276514415107), (991, 0.046415984712482566), (18, 0.046363049604602885), (3741, 0.046336263621150994), (3771, 0.04617193751862996), (1707, 0.04588184736335456), (1985, 0.04577168257873285), (3398, 0.045676716617585725), (2403, 0.04564148107761813), (497, 0.04560318712416236), (3135, 0.04557684016595773), (1324, 0.045456685303185425), (2718, 0.045251209769774446), (3432, 0.04513089298398178), (2318, 0.04495675372495745), (879, 0.04488781847170914), (1044, 0.04478977118506368), (368, 0.044727151299272884), (1151, 0.04449371352679575), (1591, 0.04434195541178565), (1259, 0.04406686193816853), (3018, 0.044025194511703725), (1626, 0.04391555667685297), (1810, 0.04389106480401688), (3367, 0.04384852058685453), (2740, 0.04361459909059331), (166, 0.04359054970281435), (1551, 0.043421535583548186), (3436, 0.043374206025975096), (1967, 0.043355869691968786), (4029, 0.04334746163513948), (878, 0.04323933893202107), (3684, 0.04304832520566208), (4088, 0.04303409024282686), (954, 0.04293028584366381), (2645, 0.042895011129312016), (1065, 0.04288252297857627), (4380, 0.04283946634490259), (3465, 0.042773320498475334), (4661, 0.04259650113302918), (3403, 0.04255365842320773), (1671, 0.04251768644822914), (4187, 0.04241665221681448), (2501, 0.04239583036604398), (1540, 0.04221392445123983), (170, 0.04214405637228487), (4586, 0.04200271262370462), (3210, 0.04197843613677399), (1630, 0.041932211402897185), (1858, 0.04189904466291976), (2546, 0.04185152117736077), (2886, 0.041840743545615386), (1683, 0.04181422126428932), (3710, 0.04179220203588315), (371, 0.04169763023766507), (418, 0.041685629608110814), (4077, 0.041586391107408235), (3181, 0.0414956710118186), (1890, 0.041103190012138864), (891, 0.0410937155815331), (1859, 0.041088104056769284), (948, 0.04095510943039855), (3642, 0.04095394889020344), (1506, 0.04087638176085333), (2529, 0.04075925050495457), (4246, 0.04073637331273565), (1292, 0.040228233037718525), (4076, 0.03992815431351958), (1443, 0.039789579233990666), (947, 0.039495609381175634), (1066, 0.039458446453678644), (1522, 0.039332617456419146), (3598, 0.039321181125773576), (2895, 0.03932085491491054), (1236, 0.0392928090130949), (1090, 0.03926066801297391), (3799, 0.03905849998973076), (4145, 0.03900473564800783), (2024, 0.03895473596063153), (2756, 0.03882220775729556), (4141, 0.03879302423286221), (1350, 0.03856157159365181), (3427, 0.038477573449899896), (3769, 0.03834504875639185), (4460, 0.03812033918006698), (727, 0.03811378891157348), (2079, 0.038028965541101155), (1544, 0.03797402205687296), (517, 0.03782201833025014), (422, 0.03780658452582925), (2642, 0.037711223552687835), (1184, 0.03764384456280201), (2094, 0.03764220492281807), (2826, 0.037627457645399334), (1425, 0.03762371790136656), (425, 0.03761178337683183), (1492, 0.03748510973467075), (207, 0.03733679007856081), (2749, 0.03728774838552044), (4236, 0.037283185917798764), (3709, 0.03725139403995091), (1275, 0.03715309307152949), (1797, 0.03700966200912012), (500, 0.036992431526555763), (3142, 0.0369866657074324), (4330, 0.036962055375642275), (2938, 0.03692077393486784), (1649, 0.03691288480740826), (4325, 0.036898769272149634), (3881, 0.03688735587603702), (441, 0.03687032960342569), (1216, 0.03678407225374832), (4512, 0.03678394740428363), (2275, 0.03677682259040301), (4118, 0.03676251176289266), (1225, 0.03666461240917167), (3043, 0.03663281305174439), (1512, 0.03661615590460725), (2181, 0.03651121119129655), (1412, 0.036508457218085134), (1754, 0.036478389518759674), (6, 0.03642482313448188), (2097, 0.03640684602039393), (547, 0.036384955057134946), (2224, 0.036127741404080496), (1305, 0.036113815854517076), (179, 0.03608724479096582), (4418, 0.0360293825013394), (4531, 0.03597149102346148), (4669, 0.03583247459937047), (3074, 0.03580484399272012), (2731, 0.0357512389518765), (1791, 0.035741168178529556), (2827, 0.0357184202927179), (1395, 0.03566386453105852), (4436, 0.03564203054357317), (4046, 0.03553468448901201), (2016, 0.035282247501862596), (1393, 0.03527236711090471), (3374, 0.03523893667769852), (4038, 0.035182092766898015), (4415, 0.0351147667723781), (3699, 0.03507382611527507), (1253, 0.03506762460554884), (581, 0.03493822437815299), (3686, 0.03481638826275118), (684, 0.03473653352257983), (2296, 0.034698457282977935), (4132, 0.0346957103785639), (4179, 0.03467123055553721), (4686, 0.03462387655830683), (4474, 0.034564762780481706), (654, 0.03454434798896105), (2427, 0.03447989213633559), (2910, 0.03443761208311736), (2065, 0.03435796744669625), (918, 0.03431100315324843), (2996, 0.03429223437289966), (908, 0.03426804940065372), (1339, 0.03422034869336039), (653, 0.03416766567235902), (1599, 0.034118057765039095), (3440, 0.03403710682502122), (239, 0.034031478673303174), (809, 0.03399604062431222), (3965, 0.033990539414756), (3275, 0.033978135223146556), (264, 0.03380533817579454), (1436, 0.03378003357864799), (4000, 0.033630555549622534), (904, 0.03361963519363605), (3297, 0.033572158456073996), (3744, 0.033490318755318535), (86, 0.03348004842698074), (685, 0.03336446348462585), (4242, 0.03322573256675948), (2632, 0.033175810970573524), (3111, 0.033144949630757266), (4068, 0.03306535430191444), (3323, 0.03306216531562011), (2131, 0.033051588521130146), (692, 0.03298022135427353), (1459, 0.032940779994942215), (299, 0.03288598286227943), (3, 0.03288140230401829), (1467, 0.03275398437630622), (4244, 0.03266856540279893), (3279, 0.03266161591413876), (2468, 0.032618271602086996), (3947, 0.03260827583442839), (862, 0.03249901441396642), (2093, 0.0324386513148511), (3890, 0.032434618859764563), (3708, 0.03243111045795992), (1921, 0.03227818523679775), (2777, 0.032103684699513954), (4597, 0.03201801926067599), (2107, 0.03196202943911077), (4494, 0.031890663197797535), (530, 0.031815309965480335), (4634, 0.03181025067925157), (1096, 0.031801985028268566), (1343, 0.031744286580222096), (4190, 0.03170708648958274), (1815, 0.031603473488561434), (866, 0.031538084027233265), (915, 0.03144009215351273), (287, 0.03143217493875925), (905, 0.03142184760140598), (2711, 0.031361819577123154), (1460, 0.03133639472871637), (108, 0.03132933151882872), (1314, 0.031248665030316522), (458, 0.031203942272638886), (753, 0.03119873560834897), (3389, 0.031165170705332177), (2110, 0.031159043162359963), (2273, 0.031139860370927298), (4747, 0.031138693968103037), (4192, 0.031121740345234662), (533, 0.031114667639135642), (4121, 0.031057745296354265), (3312, 0.03104595378139892), (682, 0.031032591812995503), (2082, 0.03088804121760254), (757, 0.030838959930819438), (275, 0.030830774943638638), (4220, 0.030827357786933428), (2025, 0.030743579489090515), (240, 0.03064576160395347), (1583, 0.030632688094410283), (950, 0.030452884361903524), (1000, 0.030436597935203622), (3373, 0.030407694756466416), (48, 0.03040249967811881), (380, 0.030326700372260266), (1486, 0.030310919088800185), (3801, 0.030284577561738288), (1162, 0.030278055420321366), (369, 0.030251587571087583), (701, 0.030227856279312494), (1491, 0.030212658783034405), (2158, 0.030209858588717817), (1701, 0.030206675316976198), (4164, 0.030177417014106256), (1141, 0.030168351870570924), (3340, 0.030154072161278515), (1280, 0.030126302154140635), (3163, 0.030116830917379798), (1636, 0.030100643164651202), (1099, 0.030068405969224547), (686, 0.030040156791816278), (210, 0.02997768169185607), (148, 0.029971717920861365), (124, 0.029960185374450908), (1705, 0.029866644760958228), (3862, 0.029856185980559488), (2274, 0.029815361792312253), (874, 0.02979531520078733), (235, 0.02979186571650046), (3536, 0.02972550017879831), (663, 0.029694287494608333), (2931, 0.029684420555682316), (2522, 0.029673734621530324), (2040, 0.029664696465756826), (3470, 0.029651732475169657), (3501, 0.029619503344369892), (1971, 0.029560804794172932), (1278, 0.02953986942294147), (1736, 0.02949238405420023), (3586, 0.029490460525511825), (1328, 0.029485256836908974), (1997, 0.029469788396714013), (1910, 0.029410998289029742), (3119, 0.029396516082829473), (1137, 0.02937110004358388), (1432, 0.02936783005085299), (3924, 0.029357979549402686), (941, 0.02935332952849164), (986, 0.029315258577490656), (2466, 0.02931431550368682), (2780, 0.02931342741389944), (4289, 0.029306198210915912), (228, 0.02928674956241457), (1727, 0.0291458441715657), (2413, 0.02908093042487938), (2675, 0.029060894019618734), (1709, 0.02901382117264087), (2112, 0.029003822732665475), (1853, 0.028924071376049913), (251, 0.028903921443862862), (2370, 0.02886977731904414), (2316, 0.028860206468633444), (1572, 0.028858353776343895), (3959, 0.02883845014984962), (2091, 0.028767414481316863), (1024, 0.028705562159645984), (4059, 0.028702818425755), (2334, 0.028596626671828825), (3486, 0.028594440147400407), (1949, 0.028569987936206125), (4551, 0.028543028393615964), (4070, 0.028497894815753128), (277, 0.02848127680785543), (3612, 0.028470482652117175), (1377, 0.0284677990722557), (733, 0.02845773200821572), (76, 0.028362356237056713), (1185, 0.02831659990393904), (2037, 0.02830186061240651), (2932, 0.028274145780047243), (2713, 0.028264828296009764), (2617, 0.028263767483977437), (244, 0.028235977750577526), (566, 0.028221687858878245), (994, 0.028187159209123933), (131, 0.02812271964661629), (1643, 0.028090837455547267), (1439, 0.028085215921136556), (4684, 0.02800748983994244), (1419, 0.027826799724681182), (1252, 0.027821198421896336), (2867, 0.027819078392302736), (1440, 0.02773881828267699), (516, 0.027721382962888154), (137, 0.027698092948684), (869, 0.027681885881489985), (2212, 0.02762053202601504), (931, 0.027616687067934898), (483, 0.02756295590747113), (3205, 0.027488710648636235), (1455, 0.027452151082366035), (25, 0.027418106398344744), (2665, 0.027418029896372452), (2276, 0.02738043950301982), (1406, 0.027308777761022685), (2221, 0.02726234348964866), (322, 0.02722738605278443), (4503, 0.02720634859923699), (1012, 0.02719808713502105), (2918, 0.027176677004085485), (1937, 0.027117312479822964), (2467, 0.02705259146174415), (1337, 0.027022738613540168), (1527, 0.027022632239621605), (1074, 0.026989573024627882), (4469, 0.026949735458143657), (19, 0.02690078329510062), (4688, 0.026833110644629534), (1552, 0.026828978337997293), (4039, 0.026821681654698865), (105, 0.026785150824757596), (2206, 0.026692649639670357), (4511, 0.026673874889849604), (4673, 0.026639926364571364), (2808, 0.026622523300407756), (1063, 0.026621606136126276), (4481, 0.0265971814821188), (772, 0.026575420696529174), (1325, 0.02656716436300841), (3639, 0.026542399978645034), (3828, 0.02653554750851913), (1230, 0.02650043924720629), (2250, 0.026457757159928846), (2779, 0.026455780265743273), (2174, 0.02645169184964485), (112, 0.02642909274210166), (1665, 0.02638137107293048), (271, 0.02630039769543278), (3797, 0.02629308282072004), (1183, 0.02625716388291924), (870, 0.02625715500400984), (2897, 0.026245183860706803), (1741, 0.026237469751711193), (3675, 0.026233489914931154), (988, 0.026233080830949287), (3276, 0.026208771224775565), (1385, 0.026203848980614782), (4548, 0.026159618699042785), (3794, 0.026124878646706182), (2727, 0.026100499167325632), (4442, 0.026092363700409734), (827, 0.026063682310947675), (1064, 0.026033983453623028), (3232, 0.026032517964954004), (3469, 0.025954248910783732), (2751, 0.02594311803161201), (790, 0.025943005118057704), (1068, 0.025894877567105637), (1360, 0.025776774530551636), (643, 0.02575715628321014), (102, 0.02575507361773622), (4450, 0.02572433976692738), (3019, 0.025715067036531255), (4658, 0.025693623603545105), (316, 0.025656001801431315), (1680, 0.02564843351832562), (3535, 0.025619349224760474), (3357, 0.025617543815121824), (2939, 0.025607327227760178), (3267, 0.025579046851013126), (96, 0.025570975837728), (3993, 0.02556486948140797), (2406, 0.025564430709970717), (408, 0.02555663437812661), (1714, 0.025554852908345936), (4624, 0.025547236241367004), (4722, 0.02546765147113617), (1058, 0.025457524027117952), (3098, 0.025412410310907498), (4374, 0.025396559045769297), (3995, 0.025390719804237145), (501, 0.025357388795871336), (937, 0.02535554558048361), (4052, 0.02534588728797735), (4724, 0.025327033113107602), (4312, 0.02532410248170306), (4519, 0.025316231336764753), (515, 0.02531005090439995), (3554, 0.02530655565370056), (1053, 0.025301579116228587), (2742, 0.02524815585579657), (426, 0.025201366630053713), (3099, 0.02519822173704834), (3460, 0.025190429910115192), (3854, 0.025139955972286354), (760, 0.025072981760603942), (658, 0.02502905634746144), (4712, 0.024909204213147986), (1498, 0.02490141493438721), (1471, 0.024884544287621442), (3377, 0.024842407366066206), (4735, 0.024734827494788395), (860, 0.024711058566269484), (1348, 0.024695970859775897), (3637, 0.024691101922266204), (2486, 0.024660370637342364), (1806, 0.02454324024050227), (3711, 0.024482658429867937), (3992, 0.024393817689799646), (333, 0.02437223184120117), (1148, 0.02434307043672439), (4486, 0.024342191559222452), (1101, 0.024341484645083993), (2011, 0.02433486619957444), (1816, 0.02430307246619756), (281, 0.024302132373536737), (4048, 0.024253350033560175), (1881, 0.02423253564851169), (4554, 0.024224618721623556), (3559, 0.024158993537167408), (21, 0.024118790746445545), (2638, 0.024112382861358212), (2849, 0.024111836522902066), (1016, 0.02409200429246572), (555, 0.02407325967067271), (2991, 0.024073080439838253), (3652, 0.02401981052987981), (4465, 0.0240135369255879), (2539, 0.024000758812125968), (0, 0.02397654228749271), (2913, 0.023943256631996236), (1674, 0.023902408428905758), (3893, 0.023879419753908265), (295, 0.023850538103315416), (4335, 0.023826131418876004), (4727, 0.023822454907108496), (1678, 0.023811520541907886), (3270, 0.02376183207828553), (2346, 0.023640965688664733), (4709, 0.023637514155400066), (1944, 0.023591382737426808), (1119, 0.02355534579718967), (385, 0.023543323513938154), (3187, 0.023517768824243116), (4656, 0.02349957933098472), (4095, 0.023495594378486993), (254, 0.02347251706238516), (1018, 0.023451727258061363), (1246, 0.02343165359084154), (89, 0.023427411176713528), (2214, 0.02340803638735258), (1716, 0.02337162290251708), (4012, 0.02334980637557401), (2178, 0.02334414407211384), (243, 0.023340065350694862), (3961, 0.023322783698481047), (3192, 0.023309501908491098), (3694, 0.023272456908413442), (2447, 0.023255510609693206), (1371, 0.023234244708988324), (1700, 0.02316445620464793), (4227, 0.023152243922996075), (3110, 0.02309877685786193), (1581, 0.023025866563352478), (667, 0.02298220391989541), (2070, 0.022956624778788643), (568, 0.022956496810602012), (3629, 0.022936841295941257), (3731, 0.022921173061386284), (120, 0.02291211544598826), (3645, 0.022903512248868753), (3158, 0.022879743211418415), (485, 0.02287291693524576), (2239, 0.02287192825625577), (4199, 0.02284856985346647), (675, 0.022817679604611438), (3757, 0.022817285214114157), (896, 0.02280850585991839), (450, 0.022774420215938455), (289, 0.022768347293804076), (1364, 0.02274411014901606), (1320, 0.022734157910419456), (4231, 0.022733085388337702), (1224, 0.02273014625312542), (1874, 0.02271676911733436), (3659, 0.02268832925158288), (2196, 0.022686379772619933), (2978, 0.022681514536182022), (3437, 0.022660558010238245), (1388, 0.022628236571624348), (2235, 0.022623562909004198), (3449, 0.022590789709009806), (2739, 0.022506837423419742), (584, 0.022497799448214364), (3141, 0.022485116961055485), (3086, 0.022460135731268326), (4233, 0.022424890324754303), (3095, 0.022405818282002922), (3777, 0.022405405821379915), (765, 0.02240344015009466), (544, 0.022399147228172853), (429, 0.022395828247729434), (209, 0.022356226391260774), (435, 0.022355549730593446), (3946, 0.022337379467045945), (3245, 0.02233609978864205), (3317, 0.022317988430559755), (221, 0.022316927387363614), (3334, 0.022307513304358758), (4510, 0.022290267263198278), (1585, 0.022266818314434746), (1116, 0.022263986515048635), (1002, 0.0222626247190304), (2919, 0.022260463878764604), (4288, 0.022258591168995798), (263, 0.02223853902180361), (3666, 0.022227626067161985), (1234, 0.02220456099693937), (2254, 0.02219764207998895), (1832, 0.022180495179784498), (51, 0.02217294160079031), (976, 0.02215542868353876), (543, 0.02214440587002785), (2908, 0.022049658467673806), (622, 0.02203888567546782), (3382, 0.02200198913849384), (1258, 0.021982748871644253), (1942, 0.021952212918706717), (3483, 0.021940591909434124), (3553, 0.021929097607728723), (3351, 0.021907893215955106), (2080, 0.021860993047374124), (2934, 0.0218598678857064), (125, 0.021849097302383044), (3155, 0.021796180548637148), (1232, 0.021794922937643825), (502, 0.0217759582207496), (2489, 0.021761623262328868), (1788, 0.021757869757680952), (3670, 0.021728656381904896), (87, 0.021688840806024703), (561, 0.021680818569820078), (1417, 0.021679705397163858), (2284, 0.021667391998759944), (856, 0.02166377987575207), (83, 0.021655653509510746), (202, 0.021611233790785354), (2513, 0.021607887901924798), (4004, 0.021580885451719014), (270, 0.021576366079246793), (2073, 0.021532269069397154), (1579, 0.021523697192754487), (3294, 0.021513610930106935), (3541, 0.0214680880918615), (2961, 0.021461866157822498), (447, 0.021457427903503967), (2279, 0.021452532308881674), (2584, 0.021386627230688363), (1629, 0.021380904317510215), (360, 0.02134658343279957), (106, 0.0213252166805101), (5, 0.021314341075112642), (4124, 0.021313551423711826), (1334, 0.021302570683499857), (1675, 0.021300094895785084), (2738, 0.021288431159577115), (4268, 0.02128486569537363), (1378, 0.02128464091295535), (172, 0.02125743179996706), (3502, 0.021254667589975785), (1970, 0.021253818206081885), (806, 0.02123825767916866), (2031, 0.021210080042952564), (370, 0.0211638972107694), (104, 0.021143781373890426), (1621, 0.021113079353884977), (67, 0.021040591554399437), (212, 0.021018969931443202), (4623, 0.020995597015569693), (756, 0.020982812356515765), (799, 0.020960614827817085), (2280, 0.02094048670268311), (2752, 0.02092682586410501), (2026, 0.02091324337410913), (853, 0.020888411777865264), (4475, 0.020871303926964978), (2216, 0.02083987354291202), (1248, 0.02082587511268114), (3118, 0.02079644048816265), (4387, 0.020780947316919623), (4235, 0.02076354044891732), (396, 0.020728283941424626), (1276, 0.02072332726467512), (1231, 0.02069103674839031), (989, 0.02065802844236867), (803, 0.02063361892548398), (85, 0.02062815869789529), (4589, 0.020608545450509184), (1416, 0.020588515510216517), (2512, 0.020577328625271618), (1332, 0.02054505987383609), (676, 0.02054119622038077), (4060, 0.02053059282979244), (4261, 0.020431243455924335), (620, 0.020430907653357904), (833, 0.02040193574663213), (828, 0.02035204371728045), (3504, 0.020318569070137925), (276, 0.020298403862508634), (2736, 0.020278319331713018), (939, 0.02025884562874657), (3253, 0.02024882127835994), (3221, 0.02023441245983647), (52, 0.020233040857674606), (2023, 0.020167443064751617), (2625, 0.020151398025007976), (4502, 0.02012517890244674), (1992, 0.020105334564864245), (4269, 0.020102943721552004), (2622, 0.02008479516631633), (2871, 0.020080853074724875), (1854, 0.020054211309762145), (236, 0.020035014743556408), (3370, 0.020017147740233228), (128, 0.02001159151971317), (687, 0.019973864356324478), (1061, 0.019969567220668692), (269, 0.019933601016312412), (2119, 0.01988096255860364), (2898, 0.019880678764674264), (4181, 0.01985925758633492), (2741, 0.019842662211984684), (1776, 0.01984076179983166), (3842, 0.01982477090799615), (4015, 0.019802333618406113), (3424, 0.019801132574600814), (723, 0.019732179659231977), (916, 0.019693441453881414), (2607, 0.019672320545188644), (3775, 0.019640895180955395), (3941, 0.01962380916187005), (4165, 0.019607400677566993), (1739, 0.019586331641084028), (303, 0.01956832273718509), (4448, 0.019531102838086994), (1595, 0.01951270436419056), (1799, 0.01947223750393122), (3913, 0.019436885915622596), (3522, 0.01940624675502872), (2874, 0.019394651368203508), (719, 0.019386875955293696), (199, 0.01938046326604118), (2264, 0.019353489002802003), (992, 0.019348522948228718), (3681, 0.01933531851034016), (285, 0.019319156029562173), (801, 0.01928931426521459), (2929, 0.019281524313325072), (149, 0.01923329863223371), (2136, 0.019223966035802398), (4366, 0.019206270020606427), (4094, 0.01920072266031998), (2044, 0.019191031558615096), (3418, 0.01911082429358732), (2774, 0.019109342088042887), (695, 0.019095417818358888), (147, 0.01906031912686349), (2844, 0.019010067418556126), (43, 0.018999319778185936), (1237, 0.01898334699658712), (2602, 0.0189441003456379), (1050, 0.018941896203279598), (4188, 0.01894101566963595), (1266, 0.018905699716916274), (4232, 0.018902148417702543), (3227, 0.018875250439429527), (629, 0.01883543026630274), (1104, 0.01880298188552192), (4045, 0.018799795706409585), (1694, 0.018751337580445504), (4411, 0.01873965000474369), (16, 0.0186645259760439), (2692, 0.0186619413561701), (816, 0.018653815479073996), (1586, 0.018612432278008444), (2817, 0.01860884339250201), (2633, 0.018580924951551114), (1863, 0.018571583292135516), (95, 0.01852812502975589), (2790, 0.01850908934335784), (4096, 0.01845692274950083), (1254, 0.01841877890763647), (3907, 0.018414294942826984), (82, 0.018389436098316888), (609, 0.018368497640165463), (2222, 0.018314361475789912), (93, 0.018236423991702985), (301, 0.018217706635225935), (825, 0.018217338220008362), (2076, 0.01817332173774762), (4406, 0.018150460997877503), (4571, 0.018116737434147847), (1017, 0.01811140488645055), (1195, 0.018108288005006235), (90, 0.018100756568470166), (2950, 0.018053540625046372), (3778, 0.018021199767252107), (2668, 0.01798722814572589), (4610, 0.01798149755460006), (3303, 0.01797366898645824), (3756, 0.01796868158116899), (1317, 0.017964531702062535), (4001, 0.017940922470433683), (3690, 0.017939133685283545), (3982, 0.017792419839372842), (1961, 0.01778155358752527), (1071, 0.017778250788488496), (2787, 0.017756355525678953), (259, 0.017688276612850194), (1721, 0.017683832699244846), (3435, 0.017589964583091363), (942, 0.01756332923087163), (3743, 0.017558379194448106), (2878, 0.017530184583111532), (1657, 0.01752451404979272), (1969, 0.01751593459883887), (749, 0.0175034430050797), (2540, 0.017458714179386242), (1274, 0.01744709184642543), (1592, 0.01739745310425835), (2925, 0.017352398783454792), (4223, 0.017294286495952337), (1738, 0.017226064090186052), (390, 0.017182894529536027), (3397, 0.017165340696240528), (2616, 0.01705252141725005), (837, 0.017033388523893165), (2014, 0.0170007509957962), (1597, 0.016979695552029436), (4690, 0.01696883584983037), (310, 0.016933391023221944), (3293, 0.016796550199409285), (397, 0.01678100860077038), (224, 0.01676844740753362), (2245, 0.016755941465338736), (94, 0.016744292460113133), (1001, 0.01673228272554287), (3399, 0.01669274955568603), (1756, 0.01667168966952336), (486, 0.01663787771203321), (764, 0.016621830442371626), (840, 0.016590266713748244), (2858, 0.016583860255506844), (540, 0.016578505342051554), (4257, 0.016550147733138114), (45, 0.016530898420312544), (742, 0.016511642099126034), (852, 0.016479290723321292), (2680, 0.016469361238244586), (2962, 0.016465011241158685), (911, 0.016460799871237383), (1774, 0.016444788275971352), (935, 0.016427605265206445), (763, 0.016391127204573745), (2920, 0.01637475628129847), (731, 0.016339943618245558), (1861, 0.016306579764631162), (1935, 0.016291131792499535), (4019, 0.0162628571299799), (1270, 0.016145070908514414), (3201, 0.01614255030347648), (4239, 0.016123125849259443), (2404, 0.016104547045779394), (1164, 0.016087757246805612), (1134, 0.016087387914786984), (4222, 0.01608309958792499), (2514, 0.016071977971165354), (1354, 0.016028770575057034), (1106, 0.015921393910640624), (4290, 0.01591212213542342), (3736, 0.01586851680840129), (981, 0.015846042440065853), (35, 0.015831727048241807), (3159, 0.01582663026139287), (4055, 0.015823330866219808), (664, 0.01579655465748512), (3484, 0.015772125130537964), (3009, 0.015684951401083565), (2455, 0.015635560955089643), (2627, 0.015603802318642637), (1584, 0.015596643547553572), (542, 0.015581552803644753), (3108, 0.01557497914101803), (2043, 0.015571488255147172), (3076, 0.015568554571393584), (314, 0.015445947740332394), (1802, 0.015424198634282835), (1850, 0.015418054333600165), (640, 0.015356538975794833), (91, 0.015355596452263483), (130, 0.015302048726923981), (165, 0.015256833453874456), (3354, 0.015253830208710552), (597, 0.015217147806030944), (657, 0.01514513806555818), (1241, 0.01513522225711434), (4158, 0.015132596596356736), (3129, 0.015130464424729421), (455, 0.015116442044635902), (2177, 0.015110434237347333), (2660, 0.015103832467427263), (2363, 0.015079084566622955), (75, 0.01507699985857049), (394, 0.015064796886512938), (3957, 0.015053313477390235), (4047, 0.015033616557305736), (4115, 0.014995700143762794), (2114, 0.014959629450233294), (4107, 0.014959279622761109), (1698, 0.014954085901606868), (1214, 0.014925003483216888), (3448, 0.014833388912429697), (1981, 0.014754836705547232), (1781, 0.014737051684607112), (1845, 0.01470600393957009), (914, 0.014659440549503858), (1925, 0.01464817081996823), (2253, 0.014541737845710865), (3592, 0.014456192047510759), (2581, 0.014370608596977303), (2869, 0.014328709851726736), (2730, 0.014288605156172307), (3239, 0.014284949050928471), (4477, 0.01427743479837969), (706, 0.014240005344853823), (3203, 0.01419491051901104), (4117, 0.014101092739565791), (3345, 0.014095089336782737), (582, 0.014061036360995934), (1637, 0.013996299638603252), (3172, 0.013945664454001439), (1005, 0.013936589090523425), (2000, 0.013927247625404163), (721, 0.013894615949708717), (751, 0.013892147688117694), (949, 0.013846729732886845), (2656, 0.013828265621273605), (4023, 0.01379638494316471), (2134, 0.013781301762058407), (1381, 0.013710442803178673), (614, 0.01368145633986683), (407, 0.013656157526196379), (2474, 0.013633977341150277), (3384, 0.013620201428152288), (4051, 0.013604889516683254), (3008, 0.013588007339820749), (1069, 0.013571390290759962), (2478, 0.013552665435646255), (266, 0.01352975097231263), (452, 0.013487966506830975), (2720, 0.013480715757578771), (2180, 0.013474766322657716), (3385, 0.013471682942695006), (2575, 0.013432640716446042), (424, 0.013384435112204263), (3003, 0.013381645784885224), (1681, 0.013340537799700486), (881, 0.013327524971522866), (4133, 0.013317542172455312), (4535, 0.013310690550336561), (2452, 0.01327092706895263), (3007, 0.013260082079503051), (1968, 0.013253434701141226), (2012, 0.013228818986838281), (2320, 0.013222009774495766), (4031, 0.013204241033303157), (4680, 0.013199557897118375), (4180, 0.013121564852291998), (666, 0.013105625211998085), (1243, 0.013087981092352097), (2561, 0.013079464792535004), (813, 0.013063433253015318), (3816, 0.013054722438698449), (4032, 0.013054151415737764), (2854, 0.01302642623954422), (4323, 0.01302587991265405), (3903, 0.013019340597418673), (1011, 0.013016725473607918), (1265, 0.013013105464672655), (2782, 0.013008933877025095), (919, 0.012991877396816884), (1670, 0.012959948142120854), (1798, 0.012958963260374661), (4605, 0.0129520170584189), (2348, 0.012933606434908325), (3921, 0.012926389389352902), (2485, 0.012917441158880015), (2345, 0.012907094678724166), (340, 0.012888773454986447), (1812, 0.0128848668182457), (3704, 0.01288304194103061), (4739, 0.012869116918822037), (1896, 0.012858949910323271), (1511, 0.012850527673460874), (1089, 0.012840131368901265), (943, 0.01283963899913304), (7, 0.01283380697228193), (206, 0.01282900116645788), (4097, 0.012827642498062708), (2084, 0.012819402536698922), (2930, 0.012811875781726925), (4119, 0.01280712047027736), (2550, 0.012785375159925132), (1452, 0.012762593290678007), (4401, 0.012742648881804992), (1841, 0.012735218926183813), (1955, 0.012730979149269812), (1537, 0.012715926322408366), (3414, 0.01271574549845973), (4338, 0.012714398037874547), (2510, 0.012708348348512088), (4716, 0.012705895427726942), (2662, 0.012697027782983435), (2882, 0.012695861383686051), (4286, 0.012689609177219837), (262, 0.012689573195775246), (3768, 0.012582884008961149), (4728, 0.01258116716228811), (34, 0.012574071548418645), (2630, 0.012567802861552563), (1564, 0.012544174654025696), (1159, 0.012543067834485113), (2566, 0.0125229488207079), (4629, 0.012509949879094633), (4175, 0.012503148677407093), (3677, 0.012502751811095877), (482, 0.012494307672488185), (2495, 0.0124624868815562), (3458, 0.012450163199585994), (2565, 0.012448683289239846), (2531, 0.012448074653794454), (1346, 0.012442665768779386), (1587, 0.012441805433368966), (3596, 0.012423477992833484), (1057, 0.01241970929386424), (2277, 0.01240805003109438), (3654, 0.012406211114333841), (830, 0.012398475535634484), (3234, 0.012397529834584807), (2689, 0.01239078545356116), (1930, 0.012381943537547565), (20, 0.01237401957934852), (1401, 0.012348051914962065), (2319, 0.012336959159142721), (2252, 0.01233255089607933), (4319, 0.012327073866694646), (3507, 0.012325324223053026), (2387, 0.012322139392247808), (748, 0.01230386626777615), (752, 0.012301037061395913), (2148, 0.012295884062329643), (573, 0.012287997501315534), (2940, 0.012285746757429739), (1594, 0.012248219606768364), (1577, 0.012244816639694265), (2586, 0.012240667372928447), (341, 0.012239881065965021), (2444, 0.012236952244855773), (1299, 0.012235343338644417), (1227, 0.012227364374828818), (2814, 0.012223806177641225), (2729, 0.012222334438823016), (3464, 0.01221935574834776), (1697, 0.01221751435366348), (1271, 0.012216879289180848), (2691, 0.012208768290610655), (189, 0.012202586661220816), (4404, 0.01219702986726941), (1645, 0.012190474054201494), (3963, 0.012178752460321397), (1588, 0.012177542362259477), (4755, 0.01217182937295425), (1262, 0.012171253054161802), (3930, 0.012162766141171939), (4431, 0.01215295650847988), (3515, 0.01214586791697036), (71, 0.01212558065567737), (4061, 0.012115353241665619), (1396, 0.012110371642917377), (1179, 0.012093409139354295), (74, 0.012059069785393088), (4089, 0.012056629607865648), (4332, 0.012055796206381572), (4210, 0.012053867138948472), (560, 0.01205130156561009), (923, 0.01204598077989601), (1163, 0.012040128580170393), (1602, 0.012026369062777618), (4184, 0.012014223884166451), (2640, 0.012004568558191753), (2421, 0.012001854258226889), (832, 0.011944121321177996), (2706, 0.011935077985073999), (297, 0.01192868993694908), (3368, 0.01192425097092603), (909, 0.011913095399789325), (718, 0.011912524629565751), (4640, 0.011894218200158716), (3067, 0.01188919973913028), (81, 0.011874942777529426), (864, 0.011863743845247863), (4283, 0.01185205108732764), (3568, 0.011827603438180744), (1338, 0.01182566623076381), (1476, 0.01182038247760564), (446, 0.011816142681896655), (2045, 0.011813663987960275), (4081, 0.01180910044849806), (821, 0.011806842262773235), (1919, 0.011793765007784127), (135, 0.011776416566112325), (490, 0.011775625517092846), (2061, 0.011765262904420634), (1515, 0.011755743943669787), (4587, 0.011749128529678472), (4303, 0.011745992126964165), (3456, 0.01173119527619389), (2121, 0.01172679865682492), (3765, 0.01172482035166286), (4206, 0.011720492246153827), (3784, 0.011707954026706135), (822, 0.011705413450038981), (1906, 0.01168582965698602), (1129, 0.011681316002704879), (3720, 0.011681133171927642), (1257, 0.011675602515327121), (945, 0.011657561546805507), (3786, 0.011652905296105416), (1442, 0.011644607424090892), (2965, 0.011637706033863294), (2582, 0.011633002175695566), (152, 0.011630344435826175), (4020, 0.011629024477647748), (261, 0.011615325827965137), (3998, 0.01161305655630301), (1953, 0.011596507419554257), (39, 0.011594395329236819), (3343, 0.011592438346705872), (2492, 0.011543024286564903), (1105, 0.011535514283221079), (2068, 0.011528388458605399), (1192, 0.011514420768152114), (1494, 0.011509378070572462), (846, 0.011507943648144383), (854, 0.011506934376472462), (4069, 0.01150622346987043), (4345, 0.01148586206009365), (1113, 0.011482117100753465), (4600, 0.01145606674097589), (1510, 0.011451904613449576), (541, 0.011451107652375541), (1517, 0.011450904868563616), (690, 0.011447295341755485), (1496, 0.011432495495222121), (3518, 0.011429412264779434), (2793, 0.01142518173883943), (4564, 0.011419533149500258), (1556, 0.011371481090055612), (1084, 0.011367919373334987), (4071, 0.011364737085069635), (3079, 0.01136030629406049), (1915, 0.011352439660047836), (1191, 0.01135116123404451), (2422, 0.01133585847967675), (300, 0.011325803664441698), (1319, 0.011309722350486925), (4327, 0.011292002237334751), (1220, 0.011259581964859268), (785, 0.011256875914018789), (1651, 0.011255351958911959), (1255, 0.011251378841655701), (1973, 0.011247936066411071), (1368, 0.011243004447165996), (4272, 0.011236032164849741), (768, 0.011234815404036232), (1472, 0.011206690280721413), (492, 0.01119988358954923), (974, 0.011199577398447545), (2862, 0.011199187750283352), (1304, 0.011195796744110842), (1420, 0.011191713748853058), (460, 0.01118283456565236), (1755, 0.011177024889563692), (1087, 0.011164279741857235), (2160, 0.011150483523412162), (3589, 0.011144303030122179), (2763, 0.011130544529858148), (2215, 0.011130019163615196), (1818, 0.011129847557095939), (1895, 0.011118716297541121), (1500, 0.011113055700777775), (963, 0.011111170113293548), (73, 0.011108452643075487), (2272, 0.011095271186943688), (284, 0.011079952180539544), (367, 0.011075924613934862), (1666, 0.011069911650078892), (776, 0.011054074056543906), (2498, 0.011053003714607323), (1118, 0.011045282361877264), (672, 0.011043902952168262), (2102, 0.011039821679865737), (4682, 0.011027128824405185), (3311, 0.01102544873617044), (1200, 0.011020478219950548), (3718, 0.011015963233030114), (3823, 0.01101491944018302), (1468, 0.011011341069449048), (962, 0.010998996500644486), (1173, 0.01097925268669105), (4359, 0.010976715123167082), (780, 0.010970451893002331), (3454, 0.010962571417830917), (2036, 0.010959132039745273), (1054, 0.01095786197247529), (1760, 0.010956710440114639), (2553, 0.010946332741059531), (1840, 0.010946017629432966), (590, 0.0109315657497854), (1825, 0.010930727500456938), (2765, 0.010928565767645745), (1197, 0.010922158314446413), (569, 0.010901822704133845), (1606, 0.010867437707867944), (3480, 0.01086740377788774), (995, 0.010867075079125585), (1668, 0.01086201752117914), (1823, 0.010849373136942226), (1480, 0.010839377578482271), (4205, 0.010838174177757169), (798, 0.010824141709358925), (4110, 0.010821180748214195), (1307, 0.010811401905214079), (327, 0.01080995411759762), (3970, 0.010794776142808523), (4576, 0.010780160514143098), (1219, 0.010775169386300906), (1987, 0.010767529493105197), (2682, 0.01076345323948057), (2058, 0.010752551977083233), (4282, 0.010739282708223599), (2062, 0.010707035671040975), (2771, 0.01070588237138342), (191, 0.010705156039103148), (2175, 0.010702304140027662), (1608, 0.01067719376599118), (2721, 0.01064101239889249), (1291, 0.010637959263300871), (1546, 0.010635143646775076), (1041, 0.010624051437973176), (594, 0.010622961151144323), (1772, 0.010621185993999825), (1033, 0.010619263074941392), (1249, 0.010616029601818627), (1029, 0.010611117488079712), (2168, 0.010606941947668577), (1764, 0.010591437153311385), (1787, 0.010574188584294934), (1352, 0.010570993106076475), (3933, 0.010566926217936146), (214, 0.010562287099451293), (912, 0.01055168315539401), (3420, 0.0105456769735126), (1423, 0.010544689187610062), (4106, 0.010535295608764372), (3336, 0.010532692761302573), (1569, 0.010507967088569456), (895, 0.010495646122331063), (1450, 0.010488491316684369), (2287, 0.010475343471310718), (2005, 0.010471753748945375), (2753, 0.010460930566895175), (779, 0.010456237122330833), (524, 0.010452871275265004), (1982, 0.010441789463912915), (4590, 0.010435352679734293), (4200, 0.010410781403445738), (2236, 0.010405195709197691), (428, 0.010402009626732036), (3980, 0.010388685295894092), (1650, 0.01036409504589161), (3238, 0.010362433460311828), (2762, 0.01031733451415597), (37, 0.01030333130710327), (1046, 0.010282403101632726), (1964, 0.010217777436105547), (2285, 0.010205200473624469), (1301, 0.010204924515307018), (2338, 0.010188836598419316), (3668, 0.010183344685142254), (2724, 0.01017382538939986), (2969, 0.010142783791944958), (2161, 0.010140686683865712), (357, 0.01013891736308418), (2074, 0.01011434291192749), (725, 0.010104348986911418), (78, 0.010086281497726845), (639, 0.010083257167135823), (3658, 0.01007832810351848), (699, 0.010066217759852239), (1535, 0.010041494025055869), (1530, 0.010038893976051302), (222, 0.010031572993899352), (288, 0.010027462515445573), (1039, 0.010017980586831773), (2975, 0.009978193278979657), (249, 0.00996194286878362), (1553, 0.009933172680135481), (538, 0.009923175170010195), (2509, 0.00992230227319517), (88, 0.009870641422292787), (762, 0.009868457296806733), (403, 0.009855442786647831), (469, 0.009836196901167424), (4201, 0.009833617951056434), (4596, 0.009817432823162955), (319, 0.00976879777595958), (1365, 0.009748203681938086), (4344, 0.009744309934503951), (1464, 0.00973723985328939), (3223, 0.00972052568686178), (477, 0.00970788767097146), (738, 0.009700686421787386), (159, 0.009611829176694031), (57, 0.009602940965913248), (1453, 0.009598084585620552), (1883, 0.00959254985284259), (726, 0.00958772071380235), (4705, 0.009573819909531127), (1957, 0.009569559962901597), (3344, 0.009557870778924312), (294, 0.00939946992398887), (3751, 0.009374919126433186), (691, 0.009351053997471045), (2022, 0.009321396060391954), (1418, 0.009316224190133008), (3875, 0.009298150394608753), (4652, 0.009251536029129767), (412, 0.009244040770330322), (4674, 0.009185518426908958), (789, 0.009169840034389436), (3703, 0.009155874336866737), (929, 0.009131975798251604), (2766, 0.009058202393760617), (3115, 0.009004818052871495), (3185, 0.008936913416962922), (3144, 0.008928927274318793), (775, 0.008918781877260478), (2998, 0.00891353264554253), (2376, 0.00890482909808212), (2937, 0.008793202742003464), (4202, 0.008785943834063855), (2064, 0.008762251674272092), (1648, 0.00874158526660191), (4541, 0.008735157344739772), (2667, 0.008646943733767612), (2562, 0.008586401391447517), (996, 0.008564619379572348), (2768, 0.008539920475116673), (2657, 0.008508492897297725), (2659, 0.008501128180111844), (336, 0.008468312667265237), (4725, 0.008421062178909627), (2990, 0.008374355511991198), (1306, 0.008354246815173523), (3715, 0.008312076973006174), (3635, 0.008276028842362306), (2922, 0.008206596155698647), (4646, 0.008205104517557196), (4444, 0.008182144576401127), (553, 0.008173144532245545), (2559, 0.00816468529303556), (3472, 0.008148575233723681), (2600, 0.008082358461388167), (4606, 0.008081536714223422), (2818, 0.008063557713706577), (1939, 0.008047458806538276), (2521, 0.007965523902868674), (330, 0.007956712195788203), (570, 0.007934975522009537), (2075, 0.00788919054096613), (2415, 0.007878912645946078), (4723, 0.007873477519026097), (2534, 0.007864258447251355), (4122, 0.007844538796928573), (4142, 0.007836498250075052), (4631, 0.007828460286629394), (4221, 0.007824496564021932), (3328, 0.00777938564055801), (2568, 0.007774253162717061), (2864, 0.007702159631892916), (4698, 0.007683845335416471), (3145, 0.0076626350584109194), (2530, 0.007639578989936566), (2378, 0.007540999581936248), (2778, 0.007539227714253504), (4490, 0.007536268603932325), (4440, 0.0075132646112287815), (4007, 0.007508526567284094), (3168, 0.0074909145358185575), (2567, 0.0074714338858228365), (4619, 0.007435299224762808), (4443, 0.007432982770652253), (670, 0.0074287015263490574), (2428, 0.007410163670138211), (3588, 0.007396942857146739), (4653, 0.0073794095560804724), (2479, 0.007375506854891317), (2772, 0.00735364235862521), (153, 0.007347640104172033), (3165, 0.007347122194925917), (3383, 0.007323019081620748), (3206, 0.007298489077248165), (2188, 0.007287401335841059), (2707, 0.007278764892307257), (3064, 0.007244537759127622), (1547, 0.007243621235647705), (1713, 0.007240197224101201), (4612, 0.007236445118322493), (2459, 0.0072279067840225865), (3062, 0.0072252951872073855), (3263, 0.007225140846484397), (3419, 0.007219921881302209), (4293, 0.007212857712478558), (2118, 0.007209919431635662), (4285, 0.00720369253762878), (1437, 0.007196600046489176), (3680, 0.007173310615905258), (4642, 0.007171828104138088), (1941, 0.00714993770758792), (1398, 0.0071458944884370545), (2676, 0.007135729822707648), (2810, 0.007135644106059083), (787, 0.007133735953967413), (1466, 0.007125690394760643), (2881, 0.0071121152583151345), (1708, 0.0071099341973124616), (2670, 0.007106098497265436), (1548, 0.007100464162740387), (3059, 0.007095772783573454), (3578, 0.007095059963778054), (4276, 0.007089759575143357), (4238, 0.007088419459860547), (2673, 0.007087748799920358), (1014, 0.00708663129985413), (2164, 0.0070747017262829835), (3560, 0.007069836382070407), (4131, 0.007064746876709134), (4742, 0.007058298449036871), (2476, 0.0070412830967413785), (512, 0.007040158622976177), (3869, 0.007038561225764563), (69, 0.007034448794111511), (1560, 0.007031536151725057), (4453, 0.007017223534802195), (3044, 0.0070107871367146865), (2547, 0.006991819363715337), (4064, 0.006983142308432027), (2888, 0.006978812151189265), (2493, 0.006974428856478679), (1023, 0.0069721535055439566), (40, 0.0069707783719520616), (2672, 0.006970449911071797), (4194, 0.006970369103695633), (1240, 0.006958603598822196), (2754, 0.00695725058247273), (2576, 0.006946909036436631), (1208, 0.006935143022751935), (2943, 0.006933636717107441), (2947, 0.006921382120725862), (3532, 0.006913847302939289), (208, 0.006906828922002646), (3468, 0.006905929636969464), (2710, 0.006902606669066214), (3846, 0.006899871210693743), (2840, 0.006897365215885455), (38, 0.006897331206826726), (2843, 0.006879729678714312), (2834, 0.0068787987455040675), (2381, 0.006878771854947529), (2356, 0.006873867031074759), (2066, 0.006869508746143576), (4524, 0.006859467595618387), (514, 0.006857553273237847), (4676, 0.006857056634732727), (3782, 0.006855379721994874), (139, 0.006850361842501743), (537, 0.0068495637333221395), (3802, 0.006848104278419498), (716, 0.0068480364907691806), (3972, 0.0068389720557343395), (4493, 0.00681975910023306), (1091, 0.0068136901494967265), (2383, 0.006806467633179177), (3834, 0.006804111373494385), (4116, 0.006794685272147934), (2555, 0.006789246797205642), (4098, 0.00678590775975131), (3191, 0.00678557778002922), (3202, 0.006781756653551437), (2021, 0.006775914228346183), (2361, 0.0067740918498804675), (688, 0.006772408109256347), (386, 0.0067720601341045225), (1822, 0.006770153024218737), (2243, 0.006758350070433123), (1904, 0.006751983642669927), (3577, 0.006743998536585505), (1007, 0.006743274993760524), (1894, 0.006739662224028282), (729, 0.006732315502690397), (3112, 0.006728760134407224), (1976, 0.00672159473410704), (1554, 0.006715671821597785), (2880, 0.0067101673902991345), (3692, 0.006702854724893072), (3676, 0.006701345409366649), (3132, 0.006695981927571118), (41, 0.006692978198527802), (448, 0.006689576058161178), (4384, 0.006689544245177477), (2351, 0.006685201512613789), (550, 0.006684645863809672), (3787, 0.00668463910749271), (4249, 0.006682889336077029), (2860, 0.006681288263657706), (3404, 0.006678583573675323), (2819, 0.006678219195829888), (1687, 0.006677399222045883), (4419, 0.006676757049556144), (2955, 0.006667551403345103), (3438, 0.0066659058464645085), (3616, 0.006665075579093786), (715, 0.0066648370153636425), (3697, 0.006662722220950721), (3610, 0.006658571591635966), (1513, 0.006654927536276413), (4630, 0.006654362469725756), (2626, 0.006652808942494057), (2506, 0.006651249889910569), (1570, 0.006648047837815041), (3997, 0.006641115865498978), (2811, 0.00664074786595621), (826, 0.006636597628272959), (3866, 0.006630168298426148), (3310, 0.006625634012383663), (4128, 0.006619531779120042), (4062, 0.0066193661555786236), (673, 0.006619083590316332), (3364, 0.006615685955354676), (1174, 0.00660236493233852), (2458, 0.0066022875548463625), (1659, 0.006599400022112715), (956, 0.006596764499768044), (225, 0.006593802152937176), (2085, 0.006590587016845453), (848, 0.00658896678500187), (595, 0.006587336270995172), (1454, 0.006579243023741159), (2088, 0.006575679716424114), (4430, 0.006571057407271252), (2067, 0.006570124488388072), (875, 0.006566441383062438), (2959, 0.006566145227518045), (728, 0.00656338404911597), (990, 0.006558585234967429), (1732, 0.006558223804822568), (4093, 0.0065573162902020105), (872, 0.0065557705132605545), (2015, 0.006553545071160688), (513, 0.006552821183036801), (4005, 0.006546107791192017), (4609, 0.006545646667971512), (3451, 0.006544928946650499), (3798, 0.006543613611094523), (4091, 0.006541498619305872), (232, 0.0065413136198192385), (4267, 0.006539615651092049), (3724, 0.006539612655637425), (4281, 0.006536089630708978), (3604, 0.0065285967755664785), (4392, 0.00652587184688159), (3979, 0.006523593852228509), (3661, 0.0065229384175632885), (1876, 0.006517826332862263), (1229, 0.0065071467995081135), (4033, 0.006506142587864408), (1516, 0.006500696230578126), (2233, 0.006494970677010864), (3591, 0.006494040956709865), (4390, 0.006491762638695025), (2841, 0.006490337837677885), (3623, 0.006489707214007872), (1734, 0.0064862064171452094), (3850, 0.006486030538996314), (599, 0.006483491978769242), (2208, 0.006482982720825425), (151, 0.006477899775037456), (1725, 0.006474826491665081), (4100, 0.006474397109305646), (1031, 0.006471929358137741), (3134, 0.006471865789739801), (2083, 0.006465714804776651), (4211, 0.006462771835399606), (1380, 0.00646124854712902), (118, 0.006455860483516879), (849, 0.006448377122577027), (2032, 0.006443757601116626), (2330, 0.006442826912435391), (1901, 0.006439102122740857), (4203, 0.006437928751778044), (2554, 0.006436641394990654), (656, 0.006434850354739091), (1015, 0.006434563951104232), (3225, 0.006432756166444582), (3514, 0.006432477579232182), (3603, 0.006431808030826366), (2081, 0.006429476257010727), (3747, 0.00642745573816809), (3651, 0.0064271347881760255), (3241, 0.006421233616717937), (1150, 0.006420097937894979), (3908, 0.006419502429555719), (1168, 0.006418635718212539), (4056, 0.0064178360790414285), (3968, 0.0064128613180751025), (1108, 0.006412306113730491), (3849, 0.00641142358206595), (1887, 0.006398644517406051), (2339, 0.006397310802361336), (2353, 0.006396606380500802), (2124, 0.006394462851638366), (1640, 0.006392503838200495), (3516, 0.006390366530532843), (1122, 0.006385399383157836), (631, 0.006383882349691196), (231, 0.006378408948406624), (965, 0.00637204300028023), (1056, 0.006367837546630991), (793, 0.006367572980630094), (320, 0.006359971811259299), (845, 0.0063593513086529045), (4456, 0.006358549117535565), (847, 0.0063579494062704954), (1244, 0.0063578407917174555), (3513, 0.006356717036991957), (1484, 0.00635452597962085), (1502, 0.006354261752940431), (3840, 0.006352088944015852), (4549, 0.006351978624621223), (3156, 0.00634790318587937), (2518, 0.006347815784155377), (3332, 0.006344960464898576), (1931, 0.006340803934921226), (600, 0.006340101441320959), (375, 0.006337935464662932), (1045, 0.006336260716132136), (3124, 0.006334647473161514), (258, 0.006332361082792044), (2217, 0.006328719838882298), (1847, 0.006328174380978261), (3443, 0.0063260886218746626), (4248, 0.006326062555178108), (1504, 0.006325554907299047), (1335, 0.006325163610372286), (1109, 0.006324194066704933), (2788, 0.006317572610712066), (1469, 0.006311757645617081), (644, 0.006310742427293382), (2125, 0.006309724051921954), (1322, 0.006302761470314028), (3602, 0.00630258883091303), (3131, 0.006301511333150438), (946, 0.006296180887569363), (4363, 0.006292458005534225), (2560, 0.006291107285823196), (3858, 0.006289050439158819), (3169, 0.006288005576260871), (3814, 0.006275001483076851), (3618, 0.006274615205269089), (592, 0.006267820678162787), (1349, 0.006267072459907334), (4255, 0.006266748411073556), (3937, 0.006265784242617281), (3897, 0.006263069685027555), (3870, 0.006262818580816819), (674, 0.006262445669148497), (3807, 0.006261541371511746), (3174, 0.006257415897126572), (12, 0.006256020237645651), (1936, 0.006255124251614215), (902, 0.006255036841268456), (4103, 0.006252864738419157), (528, 0.006252057766162071), (3445, 0.006246772540554344), (4708, 0.006245513154761022), (2436, 0.006245467554576039), (1733, 0.006245318880863166), (3467, 0.006244696209854524), (498, 0.006238341132096122), (1740, 0.00623567678940967), (2755, 0.006234839186629999), (714, 0.00623192976599293), (2873, 0.006231769395478212), (1269, 0.006230712017412546), (4351, 0.0062290999334731045), (1536, 0.00622769798242896), (2647, 0.006226439769445907), (1302, 0.006219046006405995), (2549, 0.006217176388846059), (250, 0.006216390921905541), (233, 0.006215435963942795), (4226, 0.00620643082321403), (1702, 0.006199284316135555), (3441, 0.006196286224726272), (4224, 0.006193476672325404), (1952, 0.0061896707607298216), (3920, 0.0061863447006370266), (1611, 0.0061812380645747496), (59, 0.006179807960389285), (3416, 0.006174353968150698), (1653, 0.00617331802562312), (572, 0.0061674068037360155), (737, 0.006166880360668841), (3520, 0.006166108903680968), (615, 0.006165989351629235), (1285, 0.006163690820549315), (2418, 0.006159561251631375), (4515, 0.006158164866295958), (3277, 0.0061569380985965665), (4621, 0.006156029746695667), (539, 0.006155938014782082), (3780, 0.006153871912960266), (3218, 0.006141434136174434), (677, 0.0061406437163755365), (747, 0.006136687033913167), (3555, 0.0061348454592442215), (4543, 0.006128667664626777), (1138, 0.006123674580200795), (4099, 0.006119564387725372), (1604, 0.0061176302073842346), (3857, 0.006117312660339085), (3531, 0.006116120583626081), (3126, 0.006115875511930847), (1704, 0.006114537512402875), (2263, 0.006110931410549725), (2218, 0.0061102177750825696), (321, 0.006107652846552504), (1907, 0.006107556199303071), (4037, 0.006106364141334881), (4439, 0.006106315656036658), (1226, 0.006106126294799922), (3700, 0.006105955890783168), (4310, 0.0061058758115528555), (3810, 0.006105713355896841), (2153, 0.0061040362380904946), (1282, 0.006103592067529499), (4550, 0.006101952043951669), (1520, 0.006099856936572603), (467, 0.006098618630544967), (2850, 0.006094967886640836), (1846, 0.006094641212151533), (2052, 0.006093492669030301), (4732, 0.006091754268572557), (1483, 0.006089326149018218), (4041, 0.00608754604290907), (4148, 0.006087064042808529), (2259, 0.00608546447303612), (2951, 0.006084057750704307), (982, 0.006083253998426403), (3822, 0.006074163559755071), (554, 0.0060739096612095235), (1696, 0.006073043680959441), (2825, 0.006071207745401784), (1893, 0.006068627377494006), (1679, 0.006067708947134487), (4264, 0.006067564399892354), (451, 0.006066524795256589), (342, 0.006064780101981099), (3919, 0.006063568445921396), (4108, 0.006056925705107865), (3161, 0.006056392602528409), (3605, 0.0060562167919131155), (2298, 0.00605580131981469), (1718, 0.006051345484774641), (3136, 0.006050539754438224), (2847, 0.006049108139340776), (1749, 0.006047773953014214), (3461, 0.0060472967366068065), (1851, 0.006046814190464355), (1390, 0.006045919907860472), (2232, 0.006045342267817961), (700, 0.006042591835242426), (2103, 0.00604247040073964), (1315, 0.006038174071472465), (315, 0.006037577634126857), (3264, 0.006036779452907841), (2911, 0.0060353827355133375), (3100, 0.006033814958011987), (532, 0.006033726638057449), (1495, 0.006032126467790614), (4044, 0.006031766434075383), (619, 0.006027405022732658), (1263, 0.006026793326437869), (2432, 0.006024002816667825), (101, 0.00601633007856209), (4754, 0.006015411190673841), (2147, 0.006011128869778146), (1951, 0.006010042129692105), (704, 0.0060090144117734895), (2241, 0.006006062418060019), (3773, 0.006004488567992216), (4509, 0.006003572656529586), (2634, 0.0060002179504976775), (4136, 0.005996050196278944), (472, 0.005995861901890541), (3734, 0.005993603588808924), (292, 0.005993520201302113), (3595, 0.0059911260556175), (2184, 0.0059871927590667015), (4613, 0.005985187798290124), (2712, 0.005980626120569279), (4447, 0.005979594420708678), (1293, 0.005977371414703161), (3706, 0.005976824431087808), (567, 0.005973803655499912), (2303, 0.005970092776130156), (890, 0.005969085359579786), (192, 0.0059610076212700215), (1207, 0.005955273312834997), (298, 0.005954746593542351), (4265, 0.005954457141688979), (930, 0.005954224876786984), (2674, 0.005951271036357687), (272, 0.005948464062438258), (1545, 0.005947696303298747), (4262, 0.005947244622060689), (4695, 0.005945658427233702), (2429, 0.005944211732068305), (2798, 0.005943462423188626), (2117, 0.00594336223332646), (3678, 0.005942881245749536), (344, 0.005942247987276208), (217, 0.005942047820733578), (2166, 0.005940649985582484), (717, 0.005937992287095917), (781, 0.005936151880416692), (1135, 0.005934338117136624), (4591, 0.00593088750609962), (84, 0.005929598881533106), (2816, 0.005926737870555281), (3600, 0.005923742315271835), (4376, 0.005923603467091434), (1154, 0.005922422993690784), (2809, 0.005920907408501608), (4395, 0.005920240771173113), (1796, 0.00591730032638832), (2610, 0.005914563511382591), (3283, 0.005913789330929473), (2900, 0.005913784723103417), (4534, 0.00591262013044314), (1082, 0.0059098922685073395), (11, 0.0059071619673414415), (2150, 0.005906665061700755), (3660, 0.005906362322387183), (1006, 0.005904053435986957), (3233, 0.005903444701173513), (3085, 0.005902139291128216), (3386, 0.005901117370233133), (3643, 0.005900429144049817), (2504, 0.005898277791793502), (1660, 0.005892191338917327), (3549, 0.00589090903419148), (1140, 0.005887746142113747), (1898, 0.005886886393865778), (3599, 0.005885877903622705), (2725, 0.005884348231438279), (1619, 0.0058826272984522365), (1478, 0.005881873284991783), (3723, 0.005881779352893065), (2431, 0.0058813913623834415), (3551, 0.005876595664378627), (216, 0.005875916516725378), (3783, 0.005875491783112375), (2072, 0.005867446430809796), (3795, 0.005862527627559187), (2935, 0.005859556138462849), (4274, 0.005857960166830087), (3648, 0.005857707224781132), (661, 0.005851918228314139), (2139, 0.005851691460735613), (3526, 0.00585142848397138), (525, 0.005850636176666985), (3689, 0.005850304414620969), (868, 0.005848397930062313), (1402, 0.005847775387710258), (4193, 0.005846582005096653), (1688, 0.005844888546689382), (1613, 0.005841481434257776), (2494, 0.005840397366756081), (2971, 0.005836967246358542), (3722, 0.005836749594998202), (2511, 0.0058324567101550205), (4025, 0.005828618023346442), (3114, 0.005824625483079969), (3133, 0.0058225722967193754), (2424, 0.005816927237885441), (1447, 0.005816119164671042), (2416, 0.005813547853248892), (1155, 0.005810468968561222), (1048, 0.005810226526680203), (1908, 0.005810066916544548), (3125, 0.005808855187495879), (2278, 0.005805115379452347), (1223, 0.005800501741141301), (2899, 0.005799388951446871), (2732, 0.0057977864690488155), (169, 0.005797649787656276), (1357, 0.005796884624284366), (1751, 0.005790461536022993), (2246, 0.005790337661060827), (3466, 0.005789281242250853), (523, 0.005788467956592667), (92, 0.005786231777887455), (1689, 0.005785851873175026), (2792, 0.005782155889651527), (28, 0.0057820588159110285), (585, 0.005780536458448294), (504, 0.005780182362918259), (4649, 0.005779809462195051), (46, 0.005778232656117237), (971, 0.005776913456528207), (56, 0.005776415233503869), (1076, 0.005770061979561912), (468, 0.005765737506861656), (4467, 0.005762336600517013), (1411, 0.005760985605875989), (3917, 0.0057608108780067635), (3361, 0.005759744561639954), (1146, 0.005758572596733667), (1525, 0.005757686757943193), (1310, 0.005755444145902334), (32, 0.005755106913619247), (2807, 0.005753225899700265), (1461, 0.005752348025420858), (3321, 0.005751803379960983), (897, 0.0057515621886035755), (3446, 0.005750851680154103), (3150, 0.0057489697470847825), (3594, 0.005748696167062542), (632, 0.005745290330924225), (2003, 0.005745134922191772), (3491, 0.005744210131317814), (3265, 0.0057420195347977245), (4592, 0.005737321475263935), (1077, 0.005736392264635697), (1726, 0.005733088548512014), (382, 0.00572986558424575), (2803, 0.0057294571022867115), (3818, 0.005726794167324691), (3330, 0.005726098521206178), (4186, 0.005725416681848224), (3650, 0.005720038599190903), (2193, 0.005718358271231138), (529, 0.0057167224751907665), (2268, 0.005711940748594051), (2198, 0.005708846532706597), (182, 0.005704371179801392), (2414, 0.005704064991813308), (548, 0.0057040149648908845), (1239, 0.00569563641419741), (1501, 0.005693830958317791), (3073, 0.005693301256077887), (2169, 0.005693183624066924), (2812, 0.005693125167386944), (417, 0.005691748017028791), (736, 0.005690250273952752), (4218, 0.005689208123056742), (2017, 0.005687281811288924), (3701, 0.005687062749729072), (4153, 0.005686584773987684), (4135, 0.0056836013836008385), (521, 0.005683498354717012), (3033, 0.005679046050841592), (3923, 0.005678835295558084), (3193, 0.005677825560568472), (993, 0.0056770624358262614), (610, 0.005675726274268651), (2399, 0.005674526909734053), (160, 0.00567364620749879), (347, 0.0056727647212393515), (1768, 0.005669409457320355), (1273, 0.005666811630580276), (3738, 0.005665914029786903), (2315, 0.00566073099639222), (2426, 0.005659997457959975), (3143, 0.005655801297261699), (2503, 0.005655008205705155), (4687, 0.005653012598319258), (3630, 0.0056511205306518705), (3053, 0.005648794478032127), (769, 0.0056464860465412145), (3525, 0.005646333351144623), (2109, 0.0056435259773479325), (427, 0.005642416906771385), (2433, 0.005642371293134139), (804, 0.005640147945490908), (4429, 0.005640122564614445), (894, 0.00563454205148885), (2389, 0.005634119191684919), (1627, 0.005633325417257296), (1092, 0.005629929769024663), (1373, 0.005625598342582807), (938, 0.005623653189828238), (150, 0.00562334767055794), (1526, 0.005622687596130753), (3247, 0.005621698529840364), (1567, 0.005620818183811071), (1022, 0.005619398026760195), (1857, 0.005615063641448369), (439, 0.005613959984146941), (3237, 0.005612544498690194), (4157, 0.005611004911470846), (2027, 0.005610786009181475), (346, 0.005607590212541703), (1620, 0.005607104168685191), (1809, 0.005602243649692725), (3966, 0.0056017075367507324), (2185, 0.005601352604132625), (3066, 0.0056012550153524835), (851, 0.005600024738748959), (565, 0.005598814307312663), (3477, 0.005597772843746282), (3557, 0.005594636257286962), (3739, 0.00559448401949997), (1281, 0.005592793474789869), (3746, 0.005590485516630635), (1794, 0.005589711700815071), (1, 0.0055876866832971035), (4137, 0.005584840817918309), (4504, 0.005584830648236686), (3566, 0.005582232660475751), (1870, 0.005581386357033358), (973, 0.0055779641232519455), (1366, 0.0055776743355243985), (3151, 0.005575884446176775), (1888, 0.005574422976533884), (1059, 0.005571972309242338), (348, 0.005570539303246494), (2167, 0.005569364852784799), (1984, 0.005564670453465592), (379, 0.00556207187185451), (2317, 0.005560862104108573), (1934, 0.005560063894620214), (2612, 0.005559844899153085), (3693, 0.005558044026190498), (171, 0.005556529703052975), (80, 0.0055538525267836494), (2480, 0.005549352333320849), (2698, 0.005548811360706359), (4438, 0.0055479794742168045), (2329, 0.0055478676213168345), (519, 0.005546392595491907), (3260, 0.0055447651276409405), (3868, 0.00554293641273959), (2128, 0.005542265891375438), (3994, 0.005540796133511418), (1431, 0.005540516757692418), (1692, 0.005540006571999348), (2195, 0.005539357093044275), (2056, 0.005538659341238734), (1977, 0.005532480013215976), (2439, 0.005531427009543617), (507, 0.005531341167230218), (72, 0.005524673121601352), (223, 0.005524062612926345), (3065, 0.005522415094033855), (2430, 0.0055214849752386495), (2033, 0.005519395611762957), (618, 0.005510526783161337), (29, 0.005509624747381319), (800, 0.005509560430587758), (883, 0.005508671349009546), (1458, 0.005499191642993272), (3121, 0.005497377422374189), (3819, 0.005494882812149481), (1060, 0.005494051597815155), (2227, 0.005493140327783942), (1446, 0.0054909868712784745), (3295, 0.0054895282657685335), (4647, 0.005486504260732304), (1617, 0.005486247744712585), (3696, 0.00548584784484528), (3011, 0.005483549085437274), (3886, 0.005482528189863892), (3010, 0.005478933717035262), (119, 0.005477827668848308), (4353, 0.00547523057360336), (1745, 0.005474998100527575), (2029, 0.005474652017477618), (1742, 0.005472303779795549), (3407, 0.0054713195616519815), (2322, 0.005470053961344437), (1782, 0.0054677827475469055), (4217, 0.005466515564881421), (138, 0.005465792956551232), (4339, 0.005463365416013926), (2409, 0.005462456152705132), (1130, 0.005449324932048878), (4733, 0.005448928550801312), (3556, 0.005448001491175499), (773, 0.005447089723548722), (3646, 0.005442367197565425), (2446, 0.005441075339545414), (3046, 0.005440753757034043), (3891, 0.005439945290687881), (3562, 0.005438306941464663), (2820, 0.005437610652446145), (3657, 0.005436260076714587), (2294, 0.00543454654432735), (3776, 0.005430750588443163), (1793, 0.005429677923650748), (215, 0.005424167641568159), (1988, 0.005423840630285498), (3149, 0.005423637582645692), (334, 0.005423476271130608), (3083, 0.0054183635604069065), (3320, 0.005416726957101685), (3826, 0.005411244404190713), (2822, 0.005402690945793063), (388, 0.005401490883913289), (1404, 0.005399832407624314), (1778, 0.005399824792460012), (3240, 0.005395221396430026), (2859, 0.005395067724686502), (2892, 0.005389865163360777), (3412, 0.0053889261635541525), (4432, 0.005387491613909905), (4472, 0.005387021747714257), (356, 0.005386748787063563), (2666, 0.005383939494671815), (409, 0.005382126686093898), (3096, 0.005381865915647939), (1493, 0.0053782332107616335), (1642, 0.005374258038549285), (3028, 0.005373570435628126), (907, 0.005371801076515793), (3215, 0.005371089808799748), (602, 0.005370503399567925), (3339, 0.005369420772805683), (3481, 0.00536767286606716), (4399, 0.005366852484799798), (1379, 0.005363571293255162), (549, 0.005359466208105074), (1451, 0.005355786550526317), (9, 0.005352478394758194), (3894, 0.0053496483687922895), (3447, 0.005346093312529487), (2631, 0.005345318692661394), (372, 0.005343984583414865), (345, 0.005342353339945284), (4626, 0.005342033948953493), (2291, 0.005339232782145924), (1309, 0.005336597267488013), (1430, 0.005336462324221441), (1824, 0.005331022239590192), (2552, 0.005322629965115391), (1212, 0.005320248343132377), (4523, 0.005319136669387809), (4155, 0.00531807492309393), (1267, 0.005314939010259554), (1746, 0.005312051471272831), (2954, 0.0053111018495043075), (1682, 0.005310262965551253), (4176, 0.005305884427969224), (234, 0.005303525537894204), (4009, 0.005303003657890659), (2311, 0.005301523795276052), (1487, 0.005301305247541203), (3127, 0.005301126465259516), (4174, 0.005300140439411888), (1828, 0.005299119783533519), (4689, 0.005299116117723818), (411, 0.00529683750464103), (3342, 0.005296486140292382), (1662, 0.0052944135035462685), (3633, 0.005293341047874405), (2197, 0.00529141419453524), (3563, 0.005287888811526017), (1308, 0.0052840115153135175), (4473, 0.005281410920843997), (3841, 0.005274073424861332), (2367, 0.005273843686935253), (44, 0.005272689939687629), (2491, 0.005271906037789693), (1052, 0.0052690624003723105), (3071, 0.005265368732370878), (1555, 0.005264848426497178), (4459, 0.005260290766688211), (3825, 0.005259442889688201), (1482, 0.005259239848964326), (442, 0.005254261022550566), (4348, 0.005251168322924822), (279, 0.00524769001081597), (338, 0.005246358352755417), (621, 0.005244283772093449), (291, 0.0052372236345287395), (14, 0.005236238152654649), (899, 0.005236203476005462), (788, 0.005236026372775561), (4402, 0.005231550752612539), (4568, 0.00523136479253958), (454, 0.00522757585498904), (511, 0.005225079739081432), (1171, 0.005224447426210876), (1521, 0.005223141244540496), (575, 0.005220937596834588), (354, 0.005218673625979347), (3027, 0.005218391699780156), (2301, 0.005214918212057777), (2608, 0.0052149055285970174), (1114, 0.00521480383578517), (1568, 0.0052144023286197945), (3459, 0.005212249526567849), (324, 0.0052099442750338475), (1503, 0.005208920866458023), (1914, 0.005206783336475089), (3226, 0.005205156952436143), (1010, 0.005204997485544564), (1025, 0.005204928531694705), (1157, 0.005201758153280863), (3213, 0.005201131254954441), (1817, 0.005200847958868958), (2145, 0.005195157239164865), (352, 0.005194183798035689), (1808, 0.005192220800764894), (2573, 0.005184740201281902), (1477, 0.005181831473312525), (810, 0.0051787225542714865), (4057, 0.005177533106435132), (1990, 0.005177133531903789), (1456, 0.005176028383997224), (3405, 0.0051754982173244915), (2525, 0.005172188523785175), (1903, 0.005171088025210271), (1296, 0.00516948736579102), (2855, 0.005167657481791398), (820, 0.005166768731698984), (744, 0.0051655744047918815), (2615, 0.005165555004742508), (4143, 0.005162300808037387), (2906, 0.005161932920241355), (3411, 0.005154385403303938), (3579, 0.0051535045199851285), (4297, 0.005149063428482683), (2697, 0.005148682862795416), (583, 0.005148224483159206), (2262, 0.005147130924353163), (957, 0.005140441203828406), (1784, 0.005140291396875643), (885, 0.005137533962288349), (1728, 0.005137449074618128), (3045, 0.005136853270352727), (410, 0.005136214140712747), (3655, 0.005134523651675211), (2611, 0.005127510517353356), (1326, 0.005124737564314835), (1719, 0.005123016847199678), (1994, 0.005120656902013068), (1576, 0.0051204362490009205), (2010, 0.005118948976719192), (3231, 0.0051175468030805185), (1539, 0.005113812572227135), (4109, 0.00511306253580346), (3752, 0.005112535927811881), (722, 0.005109975853538669), (978, 0.005103966238417459), (1762, 0.005102611372210782), (1095, 0.005090007504113007), (898, 0.005087361354335233), (1886, 0.0050873488428120625), (2654, 0.005078584355751563), (3327, 0.005072343277360139), (33, 0.005070644183800808), (1312, 0.005065667092317376), (1136, 0.00506429124514314), (4074, 0.005052222153359517), (3748, 0.005039344603653796), (2587, 0.005034803919637345), (2156, 0.00502600733119508), (3914, 0.005018982226580325), (3928, 0.005016251916772616), (3211, 0.005010615110465927), (2078, 0.005010241170748438), (3360, 0.005007775059449406), (3393, 0.005002272300182857), (2646, 0.00500155095637065), (2942, 0.005001037704899565), (2933, 0.004997339723432725), (2801, 0.004980170921115046), (64, 0.004978959242291708), (4748, 0.004975870880321498), (1524, 0.004975343333971831), (3944, 0.0049752876642174615), (1465, 0.004974768213227413), (3803, 0.004973027027719666), (97, 0.004963813146832601), (1194, 0.004954382547636932), (545, 0.0049531258845140055), (1120, 0.00494541889478346), (60, 0.0049327045766659385), (1394, 0.0049274341790489905), (3409, 0.004921834886927953), (1215, 0.004909807852444618), (2047, 0.00490031870018083), (1559, 0.004898649068550083), (4156, 0.004896331697512559), (2767, 0.0048953551984678165), (2, 0.004890293732693801), (3674, 0.004884982402020998), (1178, 0.004883840634853292), (2842, 0.004872549561205107), (195, 0.004872328048413998), (2204, 0.0048686992111345315), (2603, 0.004858484261633165), (186, 0.004854928477114086), (2211, 0.004851597721520222), (177, 0.004835020009925365), (924, 0.004828217626793465), (3821, 0.004821985149069326), (3222, 0.0048105116809845985), (2481, 0.004803293015744349), (2526, 0.0048026553795013135), (2761, 0.004802613059947106), (1743, 0.004795882985317224), (1221, 0.004790338624723779), (2326, 0.00478825529027482), (2789, 0.0047790205037516265), (2985, 0.004772258281201853), (1691, 0.004771925920028508), (1279, 0.00475950455587816), (4373, 0.004755234424142008), (1950, 0.0047501507324616095), (4414, 0.004744301743961274), (3362, 0.004721639911390753), (332, 0.004717574323204689), (2377, 0.004695593323942515), (3152, 0.004634610796673504), (309, 0.004619751546368595), (381, 0.004610818782800642), (1153, 0.004609890030010092), (3410, 0.004607059927182473), (237, 0.00459592688823855), (2734, 0.004574044835206069), (168, 0.004556895711824124), (807, 0.00455097937425953), (510, 0.004525021591077429), (3199, 0.004506397267796492), (1695, 0.004505095211019635), (3429, 0.004483516573229128), (3316, 0.00444748512604016), (3626, 0.004425103435475935), (2398, 0.0044236083987927366), (562, 0.004419404517575798), (3983, 0.0043844457417589085), (3546, 0.00428528944575478), (2544, 0.004280018733832297), (2636, 0.004254797141448029), (293, 0.004163635352295946), (1351, 0.004159294943949451), (4171, 0.004064255652965254), (1509, 0.003961037704612238), (2443, 0.003848598199707146), (4, 0.0), (8, 0.0), (13, 0.0), (15, 0.0), (17, 0.0), (22, 0.0), (23, 0.0), (24, 0.0), (26, 0.0), (27, 0.0), (31, 0.0), (36, 0.0), (42, 0.0), (47, 0.0), (49, 0.0), (50, 0.0), (53, 0.0), (54, 0.0), (55, 0.0), (58, 0.0), (61, 0.0), (62, 0.0), (65, 0.0), (66, 0.0), (70, 0.0), (77, 0.0), (79, 0.0), (98, 0.0), (99, 0.0), (100, 0.0), (103, 0.0), (107, 0.0), (109, 0.0), (110, 0.0), (111, 0.0), (113, 0.0), (114, 0.0), (115, 0.0), (116, 0.0), (117, 0.0), (121, 0.0), (126, 0.0), (127, 0.0), (129, 0.0), (132, 0.0), (133, 0.0), (134, 0.0), (136, 0.0), (140, 0.0), (141, 0.0), (142, 0.0), (146, 0.0), (154, 0.0), (155, 0.0), (156, 0.0), (157, 0.0), (158, 0.0), (161, 0.0), (163, 0.0), (164, 0.0), (167, 0.0), (173, 0.0), (174, 0.0), (175, 0.0), (176, 0.0), (178, 0.0), (183, 0.0), (185, 0.0), (187, 0.0), (188, 0.0), (190, 0.0), (193, 0.0), (194, 0.0), (196, 0.0), (197, 0.0), (198, 0.0), (200, 0.0), (203, 0.0), (204, 0.0), (205, 0.0), (211, 0.0), (213, 0.0), (218, 0.0), (219, 0.0), (226, 0.0), (227, 0.0), (229, 0.0), (230, 0.0), (238, 0.0), (242, 0.0), (245, 0.0), (246, 0.0), (247, 0.0), (248, 0.0), (252, 0.0), (253, 0.0), (255, 0.0), (256, 0.0), (257, 0.0), (265, 0.0), (267, 0.0), (268, 0.0), (273, 0.0), (274, 0.0), (278, 0.0), (280, 0.0), (282, 0.0), (283, 0.0), (286, 0.0), (296, 0.0), (302, 0.0), (304, 0.0), (307, 0.0), (308, 0.0), (311, 0.0), (312, 0.0), (313, 0.0), (317, 0.0), (318, 0.0), (325, 0.0), (326, 0.0), (329, 0.0), (331, 0.0), (335, 0.0), (337, 0.0), (339, 0.0), (343, 0.0), (349, 0.0), (351, 0.0), (353, 0.0), (355, 0.0), (358, 0.0), (359, 0.0), (361, 0.0), (362, 0.0), (363, 0.0), (364, 0.0), (365, 0.0), (366, 0.0), (373, 0.0), (374, 0.0), (376, 0.0), (377, 0.0), (378, 0.0), (383, 0.0), (384, 0.0), (387, 0.0), (389, 0.0), (391, 0.0), (392, 0.0), (393, 0.0), (395, 0.0), (398, 0.0), (399, 0.0), (400, 0.0), (401, 0.0), (402, 0.0), (404, 0.0), (405, 0.0), (406, 0.0), (413, 0.0), (414, 0.0), (415, 0.0), (416, 0.0), (419, 0.0), (420, 0.0), (421, 0.0), (423, 0.0), (430, 0.0), (431, 0.0), (432, 0.0), (433, 0.0), (436, 0.0), (437, 0.0), (438, 0.0), (440, 0.0), (444, 0.0), (445, 0.0), (449, 0.0), (453, 0.0), (456, 0.0), (457, 0.0), (459, 0.0), (462, 0.0), (464, 0.0), (465, 0.0), (466, 0.0), (470, 0.0), (471, 0.0), (473, 0.0), (474, 0.0), (475, 0.0), (476, 0.0), (478, 0.0), (479, 0.0), (480, 0.0), (481, 0.0), (484, 0.0), (487, 0.0), (488, 0.0), (489, 0.0), (493, 0.0), (499, 0.0), (503, 0.0), (505, 0.0), (506, 0.0), (509, 0.0), (518, 0.0), (520, 0.0), (522, 0.0), (526, 0.0), (527, 0.0), (531, 0.0), (535, 0.0), (536, 0.0), (546, 0.0), (551, 0.0), (552, 0.0), (556, 0.0), (557, 0.0), (558, 0.0), (559, 0.0), (563, 0.0), (574, 0.0), (576, 0.0), (579, 0.0), (580, 0.0), (586, 0.0), (587, 0.0), (588, 0.0), (589, 0.0), (591, 0.0), (593, 0.0), (596, 0.0), (598, 0.0), (603, 0.0), (604, 0.0), (605, 0.0), (606, 0.0), (607, 0.0), (608, 0.0), (611, 0.0), (612, 0.0), (616, 0.0), (617, 0.0), (623, 0.0), (624, 0.0), (625, 0.0), (626, 0.0), (627, 0.0), (628, 0.0), (630, 0.0), (633, 0.0), (634, 0.0), (636, 0.0), (637, 0.0), (638, 0.0), (641, 0.0), (642, 0.0), (645, 0.0), (646, 0.0), (647, 0.0), (648, 0.0), (649, 0.0), (650, 0.0), (652, 0.0), (655, 0.0), (659, 0.0), (660, 0.0), (662, 0.0), (665, 0.0), (671, 0.0), (678, 0.0), (679, 0.0), (680, 0.0), (681, 0.0), (689, 0.0), (693, 0.0), (694, 0.0), (696, 0.0), (697, 0.0), (698, 0.0), (702, 0.0), (703, 0.0), (705, 0.0), (707, 0.0), (708, 0.0), (709, 0.0), (710, 0.0), (711, 0.0), (713, 0.0), (720, 0.0), (724, 0.0), (730, 0.0), (732, 0.0), (734, 0.0), (735, 0.0), (739, 0.0), (740, 0.0), (741, 0.0), (743, 0.0), (746, 0.0), (750, 0.0), (754, 0.0), (755, 0.0), (758, 0.0), (759, 0.0), (761, 0.0), (766, 0.0), (767, 0.0), (770, 0.0), (771, 0.0), (774, 0.0), (777, 0.0), (778, 0.0), (782, 0.0), (783, 0.0), (784, 0.0), (786, 0.0), (791, 0.0), (794, 0.0), (796, 0.0), (797, 0.0), (802, 0.0), (805, 0.0), (808, 0.0), (811, 0.0), (812, 0.0), (814, 0.0), (815, 0.0), (817, 0.0), (818, 0.0), (819, 0.0), (823, 0.0), (824, 0.0), (831, 0.0), (834, 0.0), (835, 0.0), (836, 0.0), (838, 0.0), (839, 0.0), (841, 0.0), (843, 0.0), (844, 0.0), (850, 0.0), (855, 0.0), (857, 0.0), (858, 0.0), (859, 0.0), (861, 0.0), (865, 0.0), (867, 0.0), (871, 0.0), (873, 0.0), (876, 0.0), (877, 0.0), (880, 0.0), (882, 0.0), (884, 0.0), (886, 0.0), (887, 0.0), (888, 0.0), (889, 0.0), (892, 0.0), (893, 0.0), (900, 0.0), (901, 0.0), (903, 0.0), (910, 0.0), (917, 0.0), (920, 0.0), (921, 0.0), (922, 0.0), (925, 0.0), (926, 0.0), (927, 0.0), (932, 0.0), (933, 0.0), (936, 0.0), (940, 0.0), (944, 0.0), (951, 0.0), (952, 0.0), (953, 0.0), (955, 0.0), (958, 0.0), (959, 0.0), (960, 0.0), (961, 0.0), (964, 0.0), (968, 0.0), (969, 0.0), (970, 0.0), (972, 0.0), (975, 0.0), (977, 0.0), (979, 0.0), (980, 0.0), (983, 0.0), (985, 0.0), (987, 0.0), (998, 0.0), (999, 0.0), (1003, 0.0), (1004, 0.0), (1008, 0.0), (1009, 0.0), (1013, 0.0), (1019, 0.0), (1020, 0.0), (1021, 0.0), (1026, 0.0), (1027, 0.0), (1028, 0.0), (1030, 0.0), (1032, 0.0), (1034, 0.0), (1036, 0.0), (1037, 0.0), (1038, 0.0), (1040, 0.0), (1042, 0.0), (1043, 0.0), (1047, 0.0), (1049, 0.0), (1051, 0.0), (1055, 0.0), (1062, 0.0), (1067, 0.0), (1070, 0.0), (1072, 0.0), (1073, 0.0), (1075, 0.0), (1078, 0.0), (1079, 0.0), (1080, 0.0), (1081, 0.0), (1083, 0.0), (1085, 0.0), (1086, 0.0), (1088, 0.0), (1093, 0.0), (1094, 0.0), (1097, 0.0), (1098, 0.0), (1100, 0.0), (1103, 0.0), (1107, 0.0), (1110, 0.0), (1117, 0.0), (1121, 0.0), (1124, 0.0), (1126, 0.0), (1131, 0.0), (1133, 0.0), (1139, 0.0), (1142, 0.0), (1143, 0.0), (1144, 0.0), (1145, 0.0), (1147, 0.0), (1149, 0.0), (1152, 0.0), (1156, 0.0), (1158, 0.0), (1161, 0.0), (1165, 0.0), (1166, 0.0), (1167, 0.0), (1169, 0.0), (1170, 0.0), (1172, 0.0), (1175, 0.0), (1176, 0.0), (1177, 0.0), (1180, 0.0), (1181, 0.0), (1182, 0.0), (1186, 0.0), (1187, 0.0), (1188, 0.0), (1189, 0.0), (1190, 0.0), (1193, 0.0), (1196, 0.0), (1198, 0.0), (1199, 0.0), (1201, 0.0), (1202, 0.0), (1203, 0.0), (1204, 0.0), (1205, 0.0), (1206, 0.0), (1209, 0.0), (1211, 0.0), (1213, 0.0), (1217, 0.0), (1218, 0.0), (1222, 0.0), (1228, 0.0), (1233, 0.0), (1235, 0.0), (1238, 0.0), (1242, 0.0), (1245, 0.0), (1247, 0.0), (1250, 0.0), (1251, 0.0), (1256, 0.0), (1260, 0.0), (1261, 0.0), (1264, 0.0), (1268, 0.0), (1272, 0.0), (1277, 0.0), (1283, 0.0), (1284, 0.0), (1286, 0.0), (1287, 0.0), (1288, 0.0), (1289, 0.0), (1294, 0.0), (1297, 0.0), (1298, 0.0), (1303, 0.0), (1311, 0.0), (1313, 0.0), (1316, 0.0), (1318, 0.0), (1323, 0.0), (1327, 0.0), (1330, 0.0), (1331, 0.0), (1336, 0.0), (1340, 0.0), (1342, 0.0), (1344, 0.0), (1345, 0.0), (1347, 0.0), (1353, 0.0), (1355, 0.0), (1356, 0.0), (1358, 0.0), (1359, 0.0), (1361, 0.0), (1362, 0.0), (1363, 0.0), (1367, 0.0), (1370, 0.0), (1372, 0.0), (1374, 0.0), (1375, 0.0), (1376, 0.0), (1382, 0.0), (1383, 0.0), (1386, 0.0), (1389, 0.0), (1391, 0.0), (1392, 0.0), (1397, 0.0), (1399, 0.0), (1400, 0.0), (1403, 0.0), (1405, 0.0), (1407, 0.0), (1408, 0.0), (1409, 0.0), (1410, 0.0), (1414, 0.0), (1415, 0.0), (1421, 0.0), (1422, 0.0), (1424, 0.0), (1426, 0.0), (1427, 0.0), (1428, 0.0), (1429, 0.0), (1433, 0.0), (1434, 0.0), (1435, 0.0), (1438, 0.0), (1441, 0.0), (1444, 0.0), (1445, 0.0), (1448, 0.0), (1449, 0.0), (1457, 0.0), (1462, 0.0), (1463, 0.0), (1470, 0.0), (1473, 0.0), (1474, 0.0), (1475, 0.0), (1479, 0.0), (1481, 0.0), (1485, 0.0), (1488, 0.0), (1489, 0.0), (1490, 0.0), (1497, 0.0), (1499, 0.0), (1505, 0.0), (1507, 0.0), (1508, 0.0), (1518, 0.0), (1519, 0.0), (1523, 0.0), (1528, 0.0), (1529, 0.0), (1531, 0.0), (1532, 0.0), (1533, 0.0), (1534, 0.0), (1538, 0.0), (1541, 0.0), (1543, 0.0), (1549, 0.0), (1550, 0.0), (1557, 0.0), (1558, 0.0), (1561, 0.0), (1562, 0.0), (1563, 0.0), (1565, 0.0), (1566, 0.0), (1571, 0.0), (1574, 0.0), (1575, 0.0), (1578, 0.0), (1580, 0.0), (1582, 0.0), (1589, 0.0), (1590, 0.0), (1593, 0.0), (1596, 0.0), (1598, 0.0), (1600, 0.0), (1601, 0.0), (1603, 0.0), (1605, 0.0), (1607, 0.0), (1609, 0.0), (1610, 0.0), (1612, 0.0), (1614, 0.0), (1615, 0.0), (1616, 0.0), (1618, 0.0), (1622, 0.0), (1623, 0.0), (1624, 0.0), (1625, 0.0), (1628, 0.0), (1631, 0.0), (1632, 0.0), (1633, 0.0), (1634, 0.0), (1635, 0.0), (1638, 0.0), (1639, 0.0), (1641, 0.0), (1644, 0.0), (1646, 0.0), (1647, 0.0), (1654, 0.0), (1655, 0.0), (1656, 0.0), (1658, 0.0), (1661, 0.0), (1663, 0.0), (1664, 0.0), (1667, 0.0), (1669, 0.0), (1672, 0.0), (1673, 0.0), (1676, 0.0), (1677, 0.0), (1684, 0.0), (1685, 0.0), (1686, 0.0), (1690, 0.0), (1693, 0.0), (1699, 0.0), (1703, 0.0), (1706, 0.0), (1710, 0.0), (1711, 0.0), (1712, 0.0), (1715, 0.0), (1717, 0.0), (1720, 0.0), (1722, 0.0), (1723, 0.0), (1724, 0.0), (1729, 0.0), (1730, 0.0), (1731, 0.0), (1737, 0.0), (1744, 0.0), (1747, 0.0), (1748, 0.0), (1750, 0.0), (1752, 0.0), (1753, 0.0), (1757, 0.0), (1759, 0.0), (1761, 0.0), (1763, 0.0), (1765, 0.0), (1766, 0.0), (1767, 0.0), (1769, 0.0), (1770, 0.0), (1771, 0.0), (1773, 0.0), (1775, 0.0), (1777, 0.0), (1779, 0.0), (1780, 0.0), (1783, 0.0), (1785, 0.0), (1786, 0.0), (1790, 0.0), (1792, 0.0), (1795, 0.0), (1800, 0.0), (1801, 0.0), (1803, 0.0), (1804, 0.0), (1805, 0.0), (1807, 0.0), (1811, 0.0), (1813, 0.0), (1819, 0.0), (1820, 0.0), (1826, 0.0), (1827, 0.0), (1829, 0.0), (1830, 0.0), (1831, 0.0), (1833, 0.0), (1834, 0.0), (1835, 0.0), (1836, 0.0), (1837, 0.0), (1838, 0.0), (1839, 0.0), (1842, 0.0), (1843, 0.0), (1844, 0.0), (1849, 0.0), (1852, 0.0), (1855, 0.0), (1856, 0.0), (1860, 0.0), (1862, 0.0), (1864, 0.0), (1865, 0.0), (1866, 0.0), (1867, 0.0), (1868, 0.0), (1869, 0.0), (1871, 0.0), (1872, 0.0), (1873, 0.0), (1875, 0.0), (1877, 0.0), (1878, 0.0), (1879, 0.0), (1880, 0.0), (1882, 0.0), (1884, 0.0), (1885, 0.0), (1889, 0.0), (1891, 0.0), (1892, 0.0), (1897, 0.0), (1899, 0.0), (1900, 0.0), (1902, 0.0), (1905, 0.0), (1909, 0.0), (1911, 0.0), (1912, 0.0), (1913, 0.0), (1916, 0.0), (1917, 0.0), (1918, 0.0), (1920, 0.0), (1923, 0.0), (1924, 0.0), (1926, 0.0), (1927, 0.0), (1928, 0.0), (1929, 0.0), (1932, 0.0), (1933, 0.0), (1938, 0.0), (1940, 0.0), (1943, 0.0), (1947, 0.0), (1954, 0.0), (1956, 0.0), (1958, 0.0), (1959, 0.0), (1960, 0.0), (1962, 0.0), (1963, 0.0), (1965, 0.0), (1966, 0.0), (1972, 0.0), (1974, 0.0), (1975, 0.0), (1978, 0.0), (1979, 0.0), (1980, 0.0), (1983, 0.0), (1986, 0.0), (1989, 0.0), (1991, 0.0), (1993, 0.0), (1995, 0.0), (1996, 0.0), (1999, 0.0), (2001, 0.0), (2002, 0.0), (2004, 0.0), (2006, 0.0), (2007, 0.0), (2008, 0.0), (2009, 0.0), (2019, 0.0), (2030, 0.0), (2034, 0.0), (2035, 0.0), (2038, 0.0), (2039, 0.0), (2041, 0.0), (2042, 0.0), (2046, 0.0), (2048, 0.0), (2049, 0.0), (2050, 0.0), (2051, 0.0), (2054, 0.0), (2057, 0.0), (2059, 0.0), (2060, 0.0), (2063, 0.0), (2069, 0.0), (2086, 0.0), (2087, 0.0), (2089, 0.0), (2090, 0.0), (2092, 0.0), (2095, 0.0), (2096, 0.0), (2098, 0.0), (2099, 0.0), (2100, 0.0), (2101, 0.0), (2104, 0.0), (2105, 0.0), (2106, 0.0), (2108, 0.0), (2111, 0.0), (2115, 0.0), (2116, 0.0), (2120, 0.0), (2122, 0.0), (2123, 0.0), (2127, 0.0), (2129, 0.0), (2130, 0.0), (2132, 0.0), (2133, 0.0), (2135, 0.0), (2137, 0.0), (2138, 0.0), (2140, 0.0), (2141, 0.0), (2142, 0.0), (2143, 0.0), (2144, 0.0), (2146, 0.0), (2149, 0.0), (2151, 0.0), (2152, 0.0), (2154, 0.0), (2155, 0.0), (2157, 0.0), (2159, 0.0), (2162, 0.0), (2163, 0.0), (2165, 0.0), (2170, 0.0), (2171, 0.0), (2172, 0.0), (2173, 0.0), (2176, 0.0), (2179, 0.0), (2182, 0.0), (2183, 0.0), (2186, 0.0), (2187, 0.0), (2189, 0.0), (2190, 0.0), (2191, 0.0), (2192, 0.0), (2194, 0.0), (2200, 0.0), (2201, 0.0), (2202, 0.0), (2203, 0.0), (2207, 0.0), (2209, 0.0), (2213, 0.0), (2219, 0.0), (2220, 0.0), (2223, 0.0), (2225, 0.0), (2226, 0.0), (2228, 0.0), (2229, 0.0), (2230, 0.0), (2231, 0.0), (2234, 0.0), (2238, 0.0), (2240, 0.0), (2242, 0.0), (2244, 0.0), (2247, 0.0), (2248, 0.0), (2249, 0.0), (2251, 0.0), (2255, 0.0), (2256, 0.0), (2257, 0.0), (2258, 0.0), (2260, 0.0), (2261, 0.0), (2265, 0.0), (2266, 0.0), (2267, 0.0), (2269, 0.0), (2270, 0.0), (2271, 0.0), (2281, 0.0), (2282, 0.0), (2283, 0.0), (2286, 0.0), (2288, 0.0), (2289, 0.0), (2290, 0.0), (2292, 0.0), (2293, 0.0), (2295, 0.0), (2297, 0.0), (2299, 0.0), (2300, 0.0), (2302, 0.0), (2304, 0.0), (2305, 0.0), (2306, 0.0), (2307, 0.0), (2308, 0.0), (2309, 0.0), (2310, 0.0), (2312, 0.0), (2313, 0.0), (2314, 0.0), (2321, 0.0), (2323, 0.0), (2324, 0.0), (2325, 0.0), (2327, 0.0), (2328, 0.0), (2331, 0.0), (2332, 0.0), (2333, 0.0), (2335, 0.0), (2336, 0.0), (2337, 0.0), (2340, 0.0), (2341, 0.0), (2342, 0.0), (2343, 0.0), (2344, 0.0), (2347, 0.0), (2349, 0.0), (2350, 0.0), (2352, 0.0), (2354, 0.0), (2355, 0.0), (2357, 0.0), (2358, 0.0), (2359, 0.0), (2360, 0.0), (2362, 0.0), (2364, 0.0), (2365, 0.0), (2366, 0.0), (2368, 0.0), (2369, 0.0), (2371, 0.0), (2372, 0.0), (2373, 0.0), (2374, 0.0), (2375, 0.0), (2379, 0.0), (2380, 0.0), (2382, 0.0), (2384, 0.0), (2385, 0.0), (2386, 0.0), (2388, 0.0), (2390, 0.0), (2391, 0.0), (2392, 0.0), (2393, 0.0), (2394, 0.0), (2395, 0.0), (2396, 0.0), (2397, 0.0), (2400, 0.0), (2401, 0.0), (2402, 0.0), (2405, 0.0), (2407, 0.0), (2408, 0.0), (2410, 0.0), (2411, 0.0), (2417, 0.0), (2419, 0.0), (2420, 0.0), (2423, 0.0), (2425, 0.0), (2434, 0.0), (2435, 0.0), (2437, 0.0), (2438, 0.0), (2440, 0.0), (2441, 0.0), (2445, 0.0), (2448, 0.0), (2449, 0.0), (2450, 0.0), (2451, 0.0), (2453, 0.0), (2454, 0.0), (2456, 0.0), (2457, 0.0), (2460, 0.0), (2461, 0.0), (2462, 0.0), (2463, 0.0), (2465, 0.0), (2469, 0.0), (2471, 0.0), (2472, 0.0), (2473, 0.0), (2475, 0.0), (2482, 0.0), (2483, 0.0), (2484, 0.0), (2488, 0.0), (2490, 0.0), (2496, 0.0), (2497, 0.0), (2499, 0.0), (2500, 0.0), (2502, 0.0), (2505, 0.0), (2507, 0.0), (2508, 0.0), (2515, 0.0), (2516, 0.0), (2517, 0.0), (2519, 0.0), (2520, 0.0), (2523, 0.0), (2524, 0.0), (2527, 0.0), (2528, 0.0), (2532, 0.0), (2533, 0.0), (2535, 0.0), (2536, 0.0), (2537, 0.0), (2538, 0.0), (2541, 0.0), (2542, 0.0), (2543, 0.0), (2545, 0.0), (2548, 0.0), (2551, 0.0), (2556, 0.0), (2557, 0.0), (2558, 0.0), (2563, 0.0), (2564, 0.0), (2569, 0.0), (2570, 0.0), (2571, 0.0), (2572, 0.0), (2574, 0.0), (2577, 0.0), (2578, 0.0), (2579, 0.0), (2580, 0.0), (2583, 0.0), (2585, 0.0), (2588, 0.0), (2589, 0.0), (2590, 0.0), (2591, 0.0), (2592, 0.0), (2593, 0.0), (2594, 0.0), (2595, 0.0), (2596, 0.0), (2597, 0.0), (2598, 0.0), (2599, 0.0), (2601, 0.0), (2604, 0.0), (2605, 0.0), (2606, 0.0), (2609, 0.0), (2613, 0.0), (2614, 0.0), (2618, 0.0), (2619, 0.0), (2620, 0.0), (2621, 0.0), (2623, 0.0), (2624, 0.0), (2628, 0.0), (2629, 0.0), (2635, 0.0), (2637, 0.0), (2639, 0.0), (2643, 0.0), (2644, 0.0), (2648, 0.0), (2650, 0.0), (2651, 0.0), (2653, 0.0), (2655, 0.0), (2658, 0.0), (2661, 0.0), (2663, 0.0), (2664, 0.0), (2669, 0.0), (2671, 0.0), (2677, 0.0), (2678, 0.0), (2679, 0.0), (2681, 0.0), (2683, 0.0), (2684, 0.0), (2685, 0.0), (2686, 0.0), (2687, 0.0), (2688, 0.0), (2690, 0.0), (2693, 0.0), (2694, 0.0), (2696, 0.0), (2699, 0.0), (2700, 0.0), (2701, 0.0), (2702, 0.0), (2703, 0.0), (2704, 0.0), (2705, 0.0), (2708, 0.0), (2709, 0.0), (2715, 0.0), (2716, 0.0), (2717, 0.0), (2719, 0.0), (2722, 0.0), (2723, 0.0), (2726, 0.0), (2728, 0.0), (2733, 0.0), (2735, 0.0), (2737, 0.0), (2743, 0.0), (2744, 0.0), (2745, 0.0), (2746, 0.0), (2747, 0.0), (2748, 0.0), (2750, 0.0), (2757, 0.0), (2758, 0.0), (2759, 0.0), (2760, 0.0), (2764, 0.0), (2769, 0.0), (2770, 0.0), (2773, 0.0), (2775, 0.0), (2776, 0.0), (2781, 0.0), (2783, 0.0), (2785, 0.0), (2786, 0.0), (2794, 0.0), (2796, 0.0), (2797, 0.0), (2799, 0.0), (2800, 0.0), (2802, 0.0), (2804, 0.0), (2805, 0.0), (2806, 0.0), (2813, 0.0), (2821, 0.0), (2823, 0.0), (2824, 0.0), (2828, 0.0), (2829, 0.0), (2830, 0.0), (2831, 0.0), (2833, 0.0), (2835, 0.0), (2836, 0.0), (2837, 0.0), (2838, 0.0), (2839, 0.0), (2845, 0.0), (2846, 0.0), (2848, 0.0), (2851, 0.0), (2852, 0.0), (2856, 0.0), (2857, 0.0), (2861, 0.0), (2863, 0.0), (2865, 0.0), (2866, 0.0), (2868, 0.0), (2870, 0.0), (2872, 0.0), (2875, 0.0), (2876, 0.0), (2877, 0.0), (2879, 0.0), (2883, 0.0), (2884, 0.0), (2885, 0.0), (2887, 0.0), (2889, 0.0), (2890, 0.0), (2891, 0.0), (2893, 0.0), (2894, 0.0), (2896, 0.0), (2901, 0.0), (2902, 0.0), (2904, 0.0), (2905, 0.0), (2907, 0.0), (2909, 0.0), (2912, 0.0), (2914, 0.0), (2915, 0.0), (2916, 0.0), (2917, 0.0), (2923, 0.0), (2924, 0.0), (2926, 0.0), (2927, 0.0), (2928, 0.0), (2936, 0.0), (2941, 0.0), (2945, 0.0), (2946, 0.0), (2948, 0.0), (2949, 0.0), (2952, 0.0), (2953, 0.0), (2956, 0.0), (2957, 0.0), (2958, 0.0), (2964, 0.0), (2966, 0.0), (2967, 0.0), (2968, 0.0), (2970, 0.0), (2972, 0.0), (2973, 0.0), (2974, 0.0), (2976, 0.0), (2977, 0.0), (2979, 0.0), (2980, 0.0), (2982, 0.0), (2983, 0.0), (2984, 0.0), (2986, 0.0), (2987, 0.0), (2988, 0.0), (2989, 0.0), (2993, 0.0), (2994, 0.0), (2995, 0.0), (2997, 0.0), (2999, 0.0), (3000, 0.0), (3001, 0.0), (3002, 0.0), (3004, 0.0), (3005, 0.0), (3006, 0.0), (3012, 0.0), (3013, 0.0), (3014, 0.0), (3015, 0.0), (3016, 0.0), (3017, 0.0), (3020, 0.0), (3021, 0.0), (3023, 0.0), (3025, 0.0), (3026, 0.0), (3029, 0.0), (3030, 0.0), (3031, 0.0), (3032, 0.0), (3034, 0.0), (3035, 0.0), (3036, 0.0), (3037, 0.0), (3038, 0.0), (3039, 0.0), (3040, 0.0), (3041, 0.0), (3042, 0.0), (3047, 0.0), (3048, 0.0), (3049, 0.0), (3050, 0.0), (3051, 0.0), (3052, 0.0), (3054, 0.0), (3055, 0.0), (3056, 0.0), (3057, 0.0), (3058, 0.0), (3060, 0.0), (3061, 0.0), (3063, 0.0), (3068, 0.0), (3069, 0.0), (3072, 0.0), (3075, 0.0), (3077, 0.0), (3078, 0.0), (3080, 0.0), (3081, 0.0), (3082, 0.0), (3084, 0.0), (3087, 0.0), (3088, 0.0), (3089, 0.0), (3090, 0.0), (3091, 0.0), (3092, 0.0), (3093, 0.0), (3094, 0.0), (3101, 0.0), (3102, 0.0), (3103, 0.0), (3104, 0.0), (3105, 0.0), (3106, 0.0), (3107, 0.0), (3109, 0.0), (3113, 0.0), (3116, 0.0), (3117, 0.0), (3120, 0.0), (3123, 0.0), (3128, 0.0), (3130, 0.0), (3137, 0.0), (3138, 0.0), (3139, 0.0), (3140, 0.0), (3146, 0.0), (3147, 0.0), (3148, 0.0), (3153, 0.0), (3157, 0.0), (3160, 0.0), (3162, 0.0), (3164, 0.0), (3166, 0.0), (3167, 0.0), (3170, 0.0), (3173, 0.0), (3175, 0.0), (3176, 0.0), (3177, 0.0), (3178, 0.0), (3179, 0.0), (3180, 0.0), (3182, 0.0), (3183, 0.0), (3184, 0.0), (3186, 0.0), (3188, 0.0), (3189, 0.0), (3190, 0.0), (3194, 0.0), (3195, 0.0), (3196, 0.0), (3197, 0.0), (3198, 0.0), (3200, 0.0), (3204, 0.0), (3207, 0.0), (3208, 0.0), (3209, 0.0), (3212, 0.0), (3214, 0.0), (3216, 0.0), (3217, 0.0), (3219, 0.0), (3220, 0.0), (3224, 0.0), (3228, 0.0), (3229, 0.0), (3230, 0.0), (3235, 0.0), (3236, 0.0), (3242, 0.0), (3243, 0.0), (3244, 0.0), (3246, 0.0), (3248, 0.0), (3249, 0.0), (3250, 0.0), (3251, 0.0), (3252, 0.0), (3254, 0.0), (3255, 0.0), (3256, 0.0), (3257, 0.0), (3258, 0.0), (3261, 0.0), (3262, 0.0), (3266, 0.0), (3268, 0.0), (3269, 0.0), (3271, 0.0), (3272, 0.0), (3273, 0.0), (3274, 0.0), (3278, 0.0), (3280, 0.0), (3281, 0.0), (3282, 0.0), (3285, 0.0), (3286, 0.0), (3287, 0.0), (3288, 0.0), (3289, 0.0), (3290, 0.0), (3291, 0.0), (3292, 0.0), (3296, 0.0), (3298, 0.0), (3299, 0.0), (3300, 0.0), (3301, 0.0), (3302, 0.0), (3304, 0.0), (3305, 0.0), (3307, 0.0), (3308, 0.0), (3309, 0.0), (3313, 0.0), (3314, 0.0), (3315, 0.0), (3318, 0.0), (3319, 0.0), (3322, 0.0), (3324, 0.0), (3325, 0.0), (3326, 0.0), (3329, 0.0), (3331, 0.0), (3333, 0.0), (3335, 0.0), (3337, 0.0), (3338, 0.0), (3341, 0.0), (3346, 0.0), (3347, 0.0), (3348, 0.0), (3349, 0.0), (3350, 0.0), (3352, 0.0), (3353, 0.0), (3355, 0.0), (3356, 0.0), (3358, 0.0), (3359, 0.0), (3363, 0.0), (3366, 0.0), (3369, 0.0), (3371, 0.0), (3372, 0.0), (3375, 0.0), (3376, 0.0), (3378, 0.0), (3379, 0.0), (3380, 0.0), (3387, 0.0), (3388, 0.0), (3390, 0.0), (3391, 0.0), (3392, 0.0), (3394, 0.0), (3395, 0.0), (3396, 0.0), (3400, 0.0), (3401, 0.0), (3402, 0.0), (3406, 0.0), (3408, 0.0), (3413, 0.0), (3417, 0.0), (3421, 0.0), (3422, 0.0), (3423, 0.0), (3425, 0.0), (3426, 0.0), (3428, 0.0), (3430, 0.0), (3431, 0.0), (3433, 0.0), (3434, 0.0), (3439, 0.0), (3442, 0.0), (3452, 0.0), (3455, 0.0), (3462, 0.0), (3471, 0.0), (3473, 0.0), (3474, 0.0), (3475, 0.0), (3476, 0.0), (3478, 0.0), (3479, 0.0), (3482, 0.0), (3485, 0.0), (3487, 0.0), (3488, 0.0), (3490, 0.0), (3492, 0.0), (3493, 0.0), (3494, 0.0), (3495, 0.0), (3496, 0.0), (3497, 0.0), (3498, 0.0), (3499, 0.0), (3500, 0.0), (3503, 0.0), (3505, 0.0), (3506, 0.0), (3508, 0.0), (3509, 0.0), (3510, 0.0), (3511, 0.0), (3512, 0.0), (3517, 0.0), (3519, 0.0), (3521, 0.0), (3523, 0.0), (3524, 0.0), (3527, 0.0), (3528, 0.0), (3529, 0.0), (3530, 0.0), (3533, 0.0), (3534, 0.0), (3537, 0.0), (3538, 0.0), (3539, 0.0), (3540, 0.0), (3542, 0.0), (3543, 0.0), (3544, 0.0), (3545, 0.0), (3547, 0.0), (3548, 0.0), (3550, 0.0), (3552, 0.0), (3558, 0.0), (3561, 0.0), (3564, 0.0), (3565, 0.0), (3569, 0.0), (3570, 0.0), (3571, 0.0), (3572, 0.0), (3573, 0.0), (3574, 0.0), (3575, 0.0), (3576, 0.0), (3580, 0.0), (3581, 0.0), (3583, 0.0), (3584, 0.0), (3585, 0.0), (3587, 0.0), (3590, 0.0), (3601, 0.0), (3606, 0.0), (3607, 0.0), (3608, 0.0), (3609, 0.0), (3611, 0.0), (3613, 0.0), (3614, 0.0), (3615, 0.0), (3617, 0.0), (3619, 0.0), (3620, 0.0), (3621, 0.0), (3622, 0.0), (3624, 0.0), (3625, 0.0), (3627, 0.0), (3628, 0.0), (3631, 0.0), (3632, 0.0), (3634, 0.0), (3636, 0.0), (3638, 0.0), (3640, 0.0), (3641, 0.0), (3644, 0.0), (3647, 0.0), (3649, 0.0), (3653, 0.0), (3656, 0.0), (3662, 0.0), (3663, 0.0), (3664, 0.0), (3665, 0.0), (3667, 0.0), (3669, 0.0), (3671, 0.0), (3672, 0.0), (3673, 0.0), (3679, 0.0), (3682, 0.0), (3683, 0.0), (3685, 0.0), (3687, 0.0), (3688, 0.0), (3691, 0.0), (3695, 0.0), (3702, 0.0), (3705, 0.0), (3707, 0.0), (3712, 0.0), (3713, 0.0), (3714, 0.0), (3716, 0.0), (3717, 0.0), (3719, 0.0), (3721, 0.0), (3725, 0.0), (3726, 0.0), (3727, 0.0), (3728, 0.0), (3729, 0.0), (3732, 0.0), (3733, 0.0), (3735, 0.0), (3737, 0.0), (3740, 0.0), (3745, 0.0), (3749, 0.0), (3750, 0.0), (3753, 0.0), (3754, 0.0), (3755, 0.0), (3758, 0.0), (3759, 0.0), (3760, 0.0), (3761, 0.0), (3762, 0.0), (3763, 0.0), (3764, 0.0), (3767, 0.0), (3770, 0.0), (3772, 0.0), (3774, 0.0), (3779, 0.0), (3781, 0.0), (3785, 0.0), (3788, 0.0), (3789, 0.0), (3790, 0.0), (3791, 0.0), (3792, 0.0), (3793, 0.0), (3796, 0.0), (3800, 0.0), (3804, 0.0), (3805, 0.0), (3806, 0.0), (3808, 0.0), (3809, 0.0), (3811, 0.0), (3812, 0.0), (3813, 0.0), (3815, 0.0), (3817, 0.0), (3820, 0.0), (3824, 0.0), (3827, 0.0), (3829, 0.0), (3830, 0.0), (3831, 0.0), (3832, 0.0), (3833, 0.0), (3835, 0.0), (3836, 0.0), (3837, 0.0), (3838, 0.0), (3839, 0.0), (3843, 0.0), (3844, 0.0), (3845, 0.0), (3847, 0.0), (3848, 0.0), (3851, 0.0), (3853, 0.0), (3855, 0.0), (3856, 0.0), (3859, 0.0), (3861, 0.0), (3863, 0.0), (3864, 0.0), (3865, 0.0), (3867, 0.0), (3871, 0.0), (3872, 0.0), (3873, 0.0), (3874, 0.0), (3876, 0.0), (3877, 0.0), (3878, 0.0), (3879, 0.0), (3880, 0.0), (3882, 0.0), (3883, 0.0), (3884, 0.0), (3885, 0.0), (3887, 0.0), (3888, 0.0), (3889, 0.0), (3892, 0.0), (3895, 0.0), (3896, 0.0), (3898, 0.0), (3899, 0.0), (3900, 0.0), (3901, 0.0), (3902, 0.0), (3904, 0.0), (3905, 0.0), (3906, 0.0), (3909, 0.0), (3910, 0.0), (3911, 0.0), (3912, 0.0), (3915, 0.0), (3916, 0.0), (3918, 0.0), (3922, 0.0), (3925, 0.0), (3926, 0.0), (3927, 0.0), (3929, 0.0), (3931, 0.0), (3932, 0.0), (3934, 0.0), (3935, 0.0), (3936, 0.0), (3938, 0.0), (3939, 0.0), (3940, 0.0), (3942, 0.0), (3943, 0.0), (3945, 0.0), (3948, 0.0), (3949, 0.0), (3950, 0.0), (3951, 0.0), (3952, 0.0), (3953, 0.0), (3954, 0.0), (3956, 0.0), (3958, 0.0), (3960, 0.0), (3962, 0.0), (3964, 0.0), (3967, 0.0), (3969, 0.0), (3971, 0.0), (3973, 0.0), (3974, 0.0), (3975, 0.0), (3976, 0.0), (3981, 0.0), (3984, 0.0), (3985, 0.0), (3986, 0.0), (3987, 0.0), (3988, 0.0), (3989, 0.0), (3990, 0.0), (3991, 0.0), (3996, 0.0), (3999, 0.0), (4002, 0.0), (4003, 0.0), (4006, 0.0), (4008, 0.0), (4010, 0.0), (4011, 0.0), (4014, 0.0), (4016, 0.0), (4017, 0.0), (4018, 0.0), (4021, 0.0), (4022, 0.0), (4024, 0.0), (4026, 0.0), (4027, 0.0), (4028, 0.0), (4030, 0.0), (4034, 0.0), (4035, 0.0), (4036, 0.0), (4040, 0.0), (4042, 0.0), (4043, 0.0), (4049, 0.0), (4050, 0.0), (4053, 0.0), (4054, 0.0), (4058, 0.0), (4063, 0.0), (4065, 0.0), (4066, 0.0), (4067, 0.0), (4072, 0.0), (4073, 0.0), (4075, 0.0), (4078, 0.0), (4079, 0.0), (4080, 0.0), (4082, 0.0), (4083, 0.0), (4084, 0.0), (4085, 0.0), (4086, 0.0), (4087, 0.0), (4090, 0.0), (4092, 0.0), (4101, 0.0), (4102, 0.0), (4104, 0.0), (4105, 0.0), (4111, 0.0), (4113, 0.0), (4120, 0.0), (4123, 0.0), (4125, 0.0), (4126, 0.0), (4127, 0.0), (4129, 0.0), (4134, 0.0), (4138, 0.0), (4139, 0.0), (4140, 0.0), (4144, 0.0), (4146, 0.0), (4147, 0.0), (4149, 0.0), (4150, 0.0), (4151, 0.0), (4154, 0.0), (4159, 0.0), (4160, 0.0), (4161, 0.0), (4162, 0.0), (4163, 0.0), (4166, 0.0), (4167, 0.0), (4168, 0.0), (4169, 0.0), (4170, 0.0), (4172, 0.0), (4173, 0.0), (4177, 0.0), (4182, 0.0), (4183, 0.0), (4185, 0.0), (4191, 0.0), (4195, 0.0), (4197, 0.0), (4198, 0.0), (4204, 0.0), (4207, 0.0), (4208, 0.0), (4209, 0.0), (4212, 0.0), (4213, 0.0), (4214, 0.0), (4215, 0.0), (4219, 0.0), (4225, 0.0), (4228, 0.0), (4229, 0.0), (4230, 0.0), (4237, 0.0), (4240, 0.0), (4241, 0.0), (4243, 0.0), (4245, 0.0), (4247, 0.0), (4250, 0.0), (4251, 0.0), (4252, 0.0), (4253, 0.0), (4254, 0.0), (4256, 0.0), (4258, 0.0), (4259, 0.0), (4260, 0.0), (4263, 0.0), (4266, 0.0), (4270, 0.0), (4271, 0.0), (4273, 0.0), (4275, 0.0), (4277, 0.0), (4278, 0.0), (4279, 0.0), (4280, 0.0), (4284, 0.0), (4287, 0.0), (4291, 0.0), (4292, 0.0), (4295, 0.0), (4296, 0.0), (4298, 0.0), (4299, 0.0), (4300, 0.0), (4302, 0.0), (4304, 0.0), (4305, 0.0), (4306, 0.0), (4307, 0.0), (4308, 0.0), (4309, 0.0), (4311, 0.0), (4313, 0.0), (4314, 0.0), (4315, 0.0), (4316, 0.0), (4317, 0.0), (4318, 0.0), (4320, 0.0), (4321, 0.0), (4322, 0.0), (4324, 0.0), (4326, 0.0), (4329, 0.0), (4331, 0.0), (4333, 0.0), (4334, 0.0), (4336, 0.0), (4337, 0.0), (4340, 0.0), (4342, 0.0), (4343, 0.0), (4346, 0.0), (4347, 0.0), (4349, 0.0), (4350, 0.0), (4352, 0.0), (4354, 0.0), (4355, 0.0), (4356, 0.0), (4357, 0.0), (4358, 0.0), (4360, 0.0), (4361, 0.0), (4362, 0.0), (4364, 0.0), (4365, 0.0), (4367, 0.0), (4368, 0.0), (4369, 0.0), (4370, 0.0), (4371, 0.0), (4372, 0.0), (4375, 0.0), (4377, 0.0), (4378, 0.0), (4381, 0.0), (4382, 0.0), (4383, 0.0), (4385, 0.0), (4386, 0.0), (4388, 0.0), (4389, 0.0), (4391, 0.0), (4393, 0.0), (4394, 0.0), (4396, 0.0), (4397, 0.0), (4398, 0.0), (4400, 0.0), (4405, 0.0), (4407, 0.0), (4408, 0.0), (4409, 0.0), (4410, 0.0), (4412, 0.0), (4413, 0.0), (4416, 0.0), (4417, 0.0), (4420, 0.0), (4421, 0.0), (4422, 0.0), (4423, 0.0), (4424, 0.0), (4425, 0.0), (4426, 0.0), (4427, 0.0), (4428, 0.0), (4433, 0.0), (4434, 0.0), (4437, 0.0), (4441, 0.0), (4445, 0.0), (4446, 0.0), (4449, 0.0), (4451, 0.0), (4452, 0.0), (4454, 0.0), (4455, 0.0), (4457, 0.0), (4458, 0.0), (4461, 0.0), (4463, 0.0), (4464, 0.0), (4466, 0.0), (4468, 0.0), (4470, 0.0), (4471, 0.0), (4476, 0.0), (4478, 0.0), (4479, 0.0), (4480, 0.0), (4482, 0.0), (4483, 0.0), (4484, 0.0), (4485, 0.0), (4487, 0.0), (4488, 0.0), (4489, 0.0), (4491, 0.0), (4492, 0.0), (4495, 0.0), (4496, 0.0), (4497, 0.0), (4498, 0.0), (4499, 0.0), (4500, 0.0), (4501, 0.0), (4505, 0.0), (4506, 0.0), (4507, 0.0), (4508, 0.0), (4513, 0.0), (4514, 0.0), (4516, 0.0), (4517, 0.0), (4518, 0.0), (4520, 0.0), (4521, 0.0), (4522, 0.0), (4525, 0.0), (4526, 0.0), (4527, 0.0), (4528, 0.0), (4529, 0.0), (4530, 0.0), (4532, 0.0), (4533, 0.0), (4536, 0.0), (4537, 0.0), (4538, 0.0), (4539, 0.0), (4540, 0.0), (4542, 0.0), (4544, 0.0), (4545, 0.0), (4546, 0.0), (4547, 0.0), (4552, 0.0), (4555, 0.0), (4556, 0.0), (4558, 0.0), (4559, 0.0), (4560, 0.0), (4561, 0.0), (4562, 0.0), (4563, 0.0), (4565, 0.0), (4566, 0.0), (4567, 0.0), (4569, 0.0), (4570, 0.0), (4572, 0.0), (4573, 0.0), (4574, 0.0), (4575, 0.0), (4577, 0.0), (4578, 0.0), (4579, 0.0), (4580, 0.0), (4582, 0.0), (4583, 0.0), (4584, 0.0), (4585, 0.0), (4588, 0.0), (4593, 0.0), (4594, 0.0), (4595, 0.0), (4598, 0.0), (4599, 0.0), (4601, 0.0), (4603, 0.0), (4604, 0.0), (4611, 0.0), (4614, 0.0), (4615, 0.0), (4616, 0.0), (4617, 0.0), (4618, 0.0), (4620, 0.0), (4622, 0.0), (4625, 0.0), (4627, 0.0), (4628, 0.0), (4632, 0.0), (4635, 0.0), (4636, 0.0), (4637, 0.0), (4638, 0.0), (4639, 0.0), (4641, 0.0), (4643, 0.0), (4644, 0.0), (4645, 0.0), (4648, 0.0), (4650, 0.0), (4651, 0.0), (4654, 0.0), (4655, 0.0), (4657, 0.0), (4659, 0.0), (4660, 0.0), (4662, 0.0), (4663, 0.0), (4664, 0.0), (4665, 0.0), (4666, 0.0), (4667, 0.0), (4668, 0.0), (4670, 0.0), (4671, 0.0), (4672, 0.0), (4675, 0.0), (4677, 0.0), (4678, 0.0), (4681, 0.0), (4683, 0.0), (4685, 0.0), (4691, 0.0), (4692, 0.0), (4693, 0.0), (4694, 0.0), (4696, 0.0), (4697, 0.0), (4699, 0.0), (4700, 0.0), (4701, 0.0), (4702, 0.0), (4703, 0.0), (4704, 0.0), (4706, 0.0), (4707, 0.0), (4710, 0.0), (4711, 0.0), (4713, 0.0), (4714, 0.0), (4715, 0.0), (4717, 0.0), (4718, 0.0), (4719, 0.0), (4720, 0.0), (4721, 0.0), (4726, 0.0), (4729, 0.0), (4730, 0.0), (4731, 0.0), (4734, 0.0), (4736, 0.0), (4737, 0.0), (4738, 0.0), (4740, 0.0), (4741, 0.0), (4744, 0.0), (4745, 0.0), (4746, 0.0), (4749, 0.0), (4750, 0.0), (4751, 0.0), (4753, 0.0), (4756, 0.0), (4757, 0.0), (4758, 0.0), (4759, 0.0)]\n"
          ]
        }
      ]
    },
    {
      "cell_type": "code",
      "source": [
        "# print the name of similar movies based on the index\n",
        "print('Top 30 Movies Suggested For You: \\n')\n",
        "\n",
        "i=1\n",
        "\n",
        "for movie in Sorted_Similar_Movies:\n",
        "  index = movie[0]\n",
        "  title_from_index = df[df.index==index]['Movie_Title'].values[0]\n",
        "  if(i<31):\n",
        "    print(i,'.',title_from_index)\n",
        "    i+=1"
      ],
      "metadata": {
        "colab": {
          "base_uri": "https://localhost:8080/"
        },
        "id": "XDCU7ZSToyC9",
        "outputId": "d53db73e-b0d1-4382-8ef7-99a9c7718746"
      },
      "execution_count": null,
      "outputs": [
        {
          "output_type": "stream",
          "name": "stdout",
          "text": [
            "Top 30 Movies Suggested For You: \n",
            "\n",
            "1 . Batman Begins\n",
            "2 . The Dark Knight Rises\n",
            "3 . The Dark Knight\n",
            "4 . The Prestige\n",
            "5 . Batman & Robin\n",
            "6 . Batman Returns\n",
            "7 . Superman\n",
            "8 . Batman\n",
            "9 . Batman Forever\n",
            "10 . Harry Brown\n",
            "11 . Taken\n",
            "12 . Superman Returns\n",
            "13 . Man of Steel\n",
            "14 . Jonah Hex\n",
            "15 . GoldenEye\n",
            "16 . The Green Hornet\n",
            "17 . Mad Money\n",
            "18 . Shaft\n",
            "19 . Wonder Boys\n",
            "20 . The Son of No One\n",
            "21 . Interstellar\n",
            "22 . TMNT\n",
            "23 . Catwoman\n",
            "24 . Mr. Nice Guy\n",
            "25 . Pieces of April\n",
            "26 . Kickboxer: Vengeance\n",
            "27 . Superman II\n",
            "28 . Jack and Jill\n",
            "29 . True Romance\n",
            "30 . Public Enemies\n"
          ]
        }
      ]
    },
    {
      "cell_type": "markdown",
      "source": [
        "# **Top 10 Movie Recommendation System**"
      ],
      "metadata": {
        "id": "rw03YSbgo9rH"
      }
    },
    {
      "cell_type": "code",
      "source": [
        "Movie_Name = input('Enter Your favourite name :')\n",
        "\n",
        "list_of_all_titles = df['Movie_Title'].tolist()\n",
        "\n",
        "Find_Close_Match = difflib.get_close_matches(Movie_Name , list_of_all_titles)\n",
        "\n",
        "Close_match = Find_Close_Match[0]\n",
        "\n",
        "Index_of_Movie = df[df.Movie_Title == Close_Match]['Movie_ID'].values[0]\n",
        "\n",
        "Recommendation_score = list(enumerate(Similarity_score[Index_of_Movie]))\n",
        "\n",
        "sorted_similar_movies = sorted(Recommendation_score,key = lambda x:x[1],reverse = True)\n",
        "\n",
        "print('Top 10 Movies Suggested For You: \\n')\n",
        "\n",
        "i=1\n",
        "\n",
        "for movie in Sorted_Similar_Movies:\n",
        "  index = movie[0]\n",
        "  title_from_index = df[df.index==index]['Movie_Title'].values[0]\n",
        "  if(i<11):\n",
        "    print(i,'.',title_from_index)\n",
        "    i+=1"
      ],
      "metadata": {
        "colab": {
          "base_uri": "https://localhost:8080/"
        },
        "id": "HYAqnsnypAWn",
        "outputId": "dce666e6-922c-4f07-9b2f-c13ea1f9d5f9"
      },
      "execution_count": null,
      "outputs": [
        {
          "output_type": "stream",
          "name": "stdout",
          "text": [
            "Enter Your favourite name :batman\n",
            "Top 10 Movies Suggested For You: \n",
            "\n",
            "1 . Batman Begins\n",
            "2 . The Dark Knight Rises\n",
            "3 . The Dark Knight\n",
            "4 . The Prestige\n",
            "5 . Batman & Robin\n",
            "6 . Batman Returns\n",
            "7 . Superman\n",
            "8 . Batman\n",
            "9 . Batman Forever\n",
            "10 . Harry Brown\n"
          ]
        }
      ]
    }
  ]
}